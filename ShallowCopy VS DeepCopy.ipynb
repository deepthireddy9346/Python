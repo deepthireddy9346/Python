{
 "cells": [
  {
   "cell_type": "code",
   "execution_count": 1,
   "id": "f747cdbc",
   "metadata": {},
   "outputs": [
    {
     "name": "stdout",
     "output_type": "stream",
     "text": [
      "['one', 'two', 'three']\n",
      "['one', 'two', 'three']\n"
     ]
    }
   ],
   "source": [
    "a=['one','two','three']\n",
    "b=a\n",
    "print(a,b,sep='\\n')"
   ]
  },
  {
   "cell_type": "code",
   "execution_count": 2,
   "id": "c7a366e0",
   "metadata": {},
   "outputs": [
    {
     "name": "stdout",
     "output_type": "stream",
     "text": [
      "['one', 'two', 'three', 4, 5, 6]\n",
      "['one', 'two', 'three', 4, 5, 6]\n"
     ]
    }
   ],
   "source": [
    "a.extend([4,5,6])\n",
    "print(a,b,sep='\\n')"
   ]
  },
  {
   "cell_type": "code",
   "execution_count": 3,
   "id": "0da81473",
   "metadata": {},
   "outputs": [
    {
     "name": "stdout",
     "output_type": "stream",
     "text": [
      "['one', 'two', 'three', 4, 5, 6] 2157285686208\n",
      "['one', 'two', 'three', 4, 5, 6] 2157285686208\n"
     ]
    }
   ],
   "source": [
    "print(a,id(a))\n",
    "print(b,id(b))"
   ]
  },
  {
   "cell_type": "code",
   "execution_count": 4,
   "id": "1ee2bd2e",
   "metadata": {},
   "outputs": [
    {
     "name": "stdout",
     "output_type": "stream",
     "text": [
      "[6, 5, 4, 'three', 'two', 'one'] 2157285686208\n",
      "['one', 'two', 'three', 4, 5, 6] 2157284987200\n"
     ]
    }
   ],
   "source": [
    "#copy\n",
    "c=a.copy()\n",
    "a.reverse()\n",
    "print(a,id(a))\n",
    "print(c,id(c))"
   ]
  },
  {
   "cell_type": "code",
   "execution_count": 5,
   "id": "617c2205",
   "metadata": {},
   "outputs": [
    {
     "name": "stdout",
     "output_type": "stream",
     "text": [
      "[111, 222, 333, ['one', 'two', 'three']] 2157284988736\n",
      "[111, 222, 333, ['one', 'two', 'three']] 2157284989248\n"
     ]
    }
   ],
   "source": [
    "d=[111,222,333,['one','two','three']]\n",
    "e=d.copy()\n",
    "print(d,id(d))\n",
    "print(e,id(e))"
   ]
  },
  {
   "cell_type": "code",
   "execution_count": 6,
   "id": "4dd170ba",
   "metadata": {},
   "outputs": [
    {
     "name": "stdout",
     "output_type": "stream",
     "text": [
      "[111, 222, 333, ['one', 2, 'three', 'z']]\n"
     ]
    }
   ],
   "source": [
    "d[3][1]=2\n",
    "d[3].append('z')\n",
    "print(d)"
   ]
  },
  {
   "cell_type": "code",
   "execution_count": 7,
   "id": "88f95726",
   "metadata": {},
   "outputs": [
    {
     "name": "stdout",
     "output_type": "stream",
     "text": [
      "[111, 222, 333, ['one', 2, 'three', 'z']]\n"
     ]
    }
   ],
   "source": [
    "print(e)"
   ]
  },
  {
   "cell_type": "code",
   "execution_count": 13,
   "id": "d5937fd9",
   "metadata": {},
   "outputs": [
    {
     "name": "stdout",
     "output_type": "stream",
     "text": [
      "['zzz', 222, 333, ['one', 2, 'three', 'z', 'z', 'z', 'z']]\n"
     ]
    }
   ],
   "source": [
    "d[0]='zzz'\n",
    "d[3][1]=2\n",
    "d[3].append('z')\n",
    "print(d)"
   ]
  },
  {
   "cell_type": "code",
   "execution_count": 14,
   "id": "d8a33edf",
   "metadata": {},
   "outputs": [
    {
     "data": {
      "text/plain": [
       "False"
      ]
     },
     "execution_count": 14,
     "metadata": {},
     "output_type": "execute_result"
    }
   ],
   "source": [
    "d is e"
   ]
  },
  {
   "cell_type": "code",
   "execution_count": 15,
   "id": "1b61860d",
   "metadata": {},
   "outputs": [
    {
     "data": {
      "text/plain": [
       "True"
      ]
     },
     "execution_count": 15,
     "metadata": {},
     "output_type": "execute_result"
    }
   ],
   "source": [
    "d[3] is e[3]"
   ]
  },
  {
   "cell_type": "code",
   "execution_count": 16,
   "id": "97f1ce38",
   "metadata": {},
   "outputs": [],
   "source": [
    "#deepcopy\n",
    "import copy\n",
    "from copy import deepcopy"
   ]
  },
  {
   "cell_type": "code",
   "execution_count": 17,
   "id": "e3bff0b6",
   "metadata": {},
   "outputs": [
    {
     "name": "stdout",
     "output_type": "stream",
     "text": [
      "[111, 222, 333, ['one', 2, 'three', 'z', 'z', 'z', 'z']] 2157285660736\n",
      "[111, 222, 333, ['one', 2, 'three', 'z', 'z', 'z', 'z']] 2157284989248\n"
     ]
    }
   ],
   "source": [
    "f=deepcopy(e)\n",
    "print(f,id(f))\n",
    "print(e,id(e))"
   ]
  },
  {
   "cell_type": "code",
   "execution_count": 18,
   "id": "d441e9fb",
   "metadata": {},
   "outputs": [
    {
     "name": "stdout",
     "output_type": "stream",
     "text": [
      "['zzz', 222, 333, ['one', 2.2, 'three', 'z', 'z', 'z', 'z', 'z']]\n"
     ]
    }
   ],
   "source": [
    "e[0]='zzz'\n",
    "e[3][1]=2.2\n",
    "e[3].append('z')\n",
    "print(e)"
   ]
  },
  {
   "cell_type": "code",
   "execution_count": 19,
   "id": "b4aaabcf",
   "metadata": {},
   "outputs": [
    {
     "data": {
      "text/plain": [
       "[111, 222, 333, ['one', 2, 'three', 'z', 'z', 'z', 'z']]"
      ]
     },
     "execution_count": 19,
     "metadata": {},
     "output_type": "execute_result"
    }
   ],
   "source": [
    "f"
   ]
  },
  {
   "cell_type": "code",
   "execution_count": 20,
   "id": "bf25c255",
   "metadata": {},
   "outputs": [
    {
     "data": {
      "text/plain": [
       "True"
      ]
     },
     "execution_count": 20,
     "metadata": {},
     "output_type": "execute_result"
    }
   ],
   "source": [
    "f[3] is not e[3]"
   ]
  },
  {
   "cell_type": "code",
   "execution_count": 21,
   "id": "a6e0628d",
   "metadata": {},
   "outputs": [
    {
     "name": "stdout",
     "output_type": "stream",
     "text": [
      "['one', 2, 'three', 'z', 'z', 'z', 'z'] 2157285652032\n",
      "['one', 2.2, 'three', 'z', 'z', 'z', 'z', 'z'] 2157284987712\n"
     ]
    }
   ],
   "source": [
    "print(f[3],id(f[3]))\n",
    "print(e[3],id(e[3]))"
   ]
  },
  {
   "cell_type": "code",
   "execution_count": 23,
   "id": "fecc5477",
   "metadata": {},
   "outputs": [
    {
     "name": "stdout",
     "output_type": "stream",
     "text": [
      "[1, 2, 3] 1884608279232\n",
      "[1, 2, 3] 1884608279232\n",
      "[1, 2, [3, 4]] 1884608283456\n",
      "[3, 4, 5]\n",
      "[3, 4, 5]\n"
     ]
    },
    {
     "data": {
      "text/plain": [
       "False"
      ]
     },
     "execution_count": 23,
     "metadata": {},
     "output_type": "execute_result"
    }
   ],
   "source": [
    "a=[1,2,3]\n",
    "b=a\n",
    "d=[1,2,[3,4]]\n",
    "c=d.copy()\n",
    "e=d[2]\n",
    "print(a,id(a))\n",
    "print(b,id(b))\n",
    "print(c,id(c))\n",
    "d[2].append(5)\n",
    "print(d[2])\n",
    "print(e)\n",
    "d is e\n",
    "\n"
   ]
  },
  {
   "cell_type": "code",
   "execution_count": null,
   "id": "b6ee2145",
   "metadata": {},
   "outputs": [],
   "source": []
  },
  {
   "cell_type": "code",
   "execution_count": null,
   "id": "f057814d",
   "metadata": {},
   "outputs": [],
   "source": []
  }
 ],
 "metadata": {
  "kernelspec": {
   "display_name": "Python 3 (ipykernel)",
   "language": "python",
   "name": "python3"
  },
  "language_info": {
   "codemirror_mode": {
    "name": "ipython",
    "version": 3
   },
   "file_extension": ".py",
   "mimetype": "text/x-python",
   "name": "python",
   "nbconvert_exporter": "python",
   "pygments_lexer": "ipython3",
   "version": "3.11.3"
  }
 },
 "nbformat": 4,
 "nbformat_minor": 5
}
