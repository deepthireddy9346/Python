{
 "cells": [
  {
   "cell_type": "markdown",
   "id": "976cf22d",
   "metadata": {},
   "source": [
    "# Strings\n",
    "* String is a sequential data type.\n",
    "\n",
    "* Strings are surrounded by either single qoutes ,double qoutes ,triple double qoutes.\n",
    "\n",
    "* String is an immutable data type, meaning that once you have created a string, you cannot change it.\n"
   ]
  },
  {
   "cell_type": "code",
   "execution_count": 1,
   "id": "bd815500",
   "metadata": {},
   "outputs": [
    {
     "name": "stdout",
     "output_type": "stream",
     "text": [
      "this is a string enclosed in a single qoute\n",
      "this is a string enclosed in a double qoute\n",
      "this is a multi-line string, enclosed in a triple single qoute\n"
     ]
    }
   ],
   "source": [
    "s1='this is a string enclosed in a single qoute'\n",
    "s2=\"this is a string enclosed in a double qoute\"\n",
    "s3='''this is a multi-line string, enclosed in a triple single qoute'''\n",
    "print(s1,s2,s3,sep='\\n')"
   ]
  },
  {
   "cell_type": "markdown",
   "id": "4177411b",
   "metadata": {},
   "source": [
    "# Indexing and slicing\n",
    "\n",
    "* Slicing and indexing are two fundamental concepts in Python. They help you access specific elements in a sequence, such as a list, tuple or string\n",
    "\n",
    "### indexing\n",
    "\n",
    "* indexing starts from 0, which means the first element in a sequence is at position 0, the second element is at position 1, and so on.\n",
    "\n",
    "* The magnitude of step decides how to step and sign of step and decides the direction\n",
    "\n",
    "\n",
    "\n",
    "### Slicing\n",
    "\n",
    "* Slicing is the process of accessing a sub-sequence of a sequence by specifying a starting and ending index. In Python, you perform slicing using the colon : operator\n",
    "\n",
    "*                                  *            x[start:end:step]\n",
    "\n",
    "\n"
   ]
  },
  {
   "cell_type": "markdown",
   "id": "929388fd",
   "metadata": {},
   "source": [
    "![](https://miro.medium.com/v2/resize:fit:1280/0*qDCi23-EE7HSLAre.png)"
   ]
  },
  {
   "cell_type": "code",
   "execution_count": 2,
   "id": "2d72b745",
   "metadata": {},
   "outputs": [
    {
     "name": "stdout",
     "output_type": "stream",
     "text": [
      "nac\n",
      "QR\n",
      "eo Q\n"
     ]
    }
   ],
   "source": [
    "x='scan the QR code'\n",
    "print(x[1:4][::-1])\n",
    "print(x[-7:-5])\n",
    "print(x[:-8:-2])"
   ]
  },
  {
   "cell_type": "code",
   "execution_count": 3,
   "id": "9b3bd349",
   "metadata": {},
   "outputs": [
    {
     "name": "stdout",
     "output_type": "stream",
     "text": [
      "room r\n",
      "ro \n"
     ]
    }
   ],
   "source": [
    "x='classroom rule'\n",
    "print(x[5:11])\n",
    "print(x[5:11:2])"
   ]
  },
  {
   "cell_type": "markdown",
   "id": "19f84f24",
   "metadata": {},
   "source": [
    "# String concatination\n",
    "\n",
    "* String Concatenation is the technique of combining two strings. String Concatenation can be done using different ways as follows:\n",
    "* Using + operater\n",
    "* Using join() method \n",
    "* Using % operator \n",
    "* Using format() function \n",
    "* Using “,” (comma)\n",
    "\n",
    "![](https://i1.faceprep.in/Companies-1/string-concatenation-in-python.png)"
   ]
  },
  {
   "cell_type": "code",
   "execution_count": 2,
   "id": "63a02e09",
   "metadata": {},
   "outputs": [
    {
     "name": "stdout",
     "output_type": "stream",
     "text": [
      "hihi\n",
      "hihihihihi\n"
     ]
    }
   ],
   "source": [
    "x='hi'\n",
    "print(x+x)\n",
    "print(x*5)"
   ]
  },
  {
   "cell_type": "code",
   "execution_count": 5,
   "id": "1fe96fc3",
   "metadata": {},
   "outputs": [
    {
     "data": {
      "text/plain": [
       "'the edoc'"
      ]
     },
     "execution_count": 5,
     "metadata": {},
     "output_type": "execute_result"
    }
   ],
   "source": [
    "x='scan the QR code'\n",
    "x[5:9]+x[-1:-5:-1]"
   ]
  },
  {
   "cell_type": "code",
   "execution_count": 6,
   "id": "bf142854",
   "metadata": {},
   "outputs": [
    {
     "name": "stdout",
     "output_type": "stream",
     "text": [
      "True False\n",
      "scan the QR code\n"
     ]
    },
    {
     "data": {
      "text/plain": [
       "16"
      ]
     },
     "execution_count": 6,
     "metadata": {},
     "output_type": "execute_result"
    }
   ],
   "source": [
    "x='scan the QR code'\n",
    "print('scan' in x,'Scan' in x)\n",
    "print(x)\n",
    "len(x)"
   ]
  },
  {
   "cell_type": "markdown",
   "id": "cdd3012a",
   "metadata": {},
   "source": [
    "# Methods in string"
   ]
  },
  {
   "cell_type": "code",
   "execution_count": 11,
   "id": "7e130cc8",
   "metadata": {},
   "outputs": [
    {
     "name": "stdout",
     "output_type": "stream",
     "text": [
      "['__add__', '__class__', '__contains__', '__delattr__', '__dir__', '__doc__', '__eq__', '__format__', '__ge__', '__getattribute__', '__getitem__', '__getnewargs__', '__getstate__', '__gt__', '__hash__', '__init__', '__init_subclass__', '__iter__', '__le__', '__len__', '__lt__', '__mod__', '__mul__', '__ne__', '__new__', '__reduce__', '__reduce_ex__', '__repr__', '__rmod__', '__rmul__', '__setattr__', '__sizeof__', '__str__', '__subclasshook__', 'capitalize', 'casefold', 'center', 'count', 'encode', 'endswith', 'expandtabs', 'find', 'format', 'format_map', 'index', 'isalnum', 'isalpha', 'isascii', 'isdecimal', 'isdigit', 'isidentifier', 'islower', 'isnumeric', 'isprintable', 'isspace', 'istitle', 'isupper', 'join', 'ljust', 'lower', 'lstrip', 'maketrans', 'partition', 'removeprefix', 'removesuffix', 'replace', 'rfind', 'rindex', 'rjust', 'rpartition', 'rsplit', 'rstrip', 'split', 'splitlines', 'startswith', 'strip', 'swapcase', 'title', 'translate', 'upper', 'zfill']\n"
     ]
    },
    {
     "data": {
      "text/plain": [
       "81"
      ]
     },
     "execution_count": 11,
     "metadata": {},
     "output_type": "execute_result"
    }
   ],
   "source": [
    "print(dir(x))\n",
    "len(dir(x))"
   ]
  },
  {
   "cell_type": "code",
   "execution_count": 13,
   "id": "0a0216a3",
   "metadata": {},
   "outputs": [
    {
     "data": {
      "text/plain": [
       "47"
      ]
     },
     "execution_count": 13,
     "metadata": {},
     "output_type": "execute_result"
    }
   ],
   "source": [
    "z=['capitalize',\n",
    " 'casefold',\n",
    " 'center',\n",
    " 'count',\n",
    " 'encode',\n",
    " 'endswith',\n",
    " 'expandtabs',\n",
    " 'find',\n",
    " 'format',\n",
    " 'format_map',\n",
    " 'index',\n",
    " 'isalnum',\n",
    " 'isalpha',\n",
    " 'isascii',\n",
    " 'isdecimal',\n",
    " 'isdigit',\n",
    " 'isidentifier',\n",
    " 'islower',\n",
    " 'isnumeric',\n",
    " 'isprintable',\n",
    " 'isspace',\n",
    " 'istitle',\n",
    " 'isupper',\n",
    " 'join',\n",
    " 'ljust',\n",
    " 'lower',\n",
    " 'lstrip',\n",
    " 'maketrans',\n",
    " 'partition',\n",
    " 'removeprefix',\n",
    " 'removesuffix',\n",
    " 'replace',\n",
    " 'rfind',\n",
    " 'rindex',\n",
    " 'rjust',\n",
    " 'rpartition',\n",
    " 'rsplit',\n",
    " 'rstrip',\n",
    " 'split',\n",
    " 'splitlines',\n",
    " 'startswith',\n",
    " 'strip',\n",
    " 'swapcase',\n",
    " 'title',\n",
    " 'translate',\n",
    " 'upper',\n",
    " 'zfill']\n",
    "len(z)"
   ]
  },
  {
   "cell_type": "markdown",
   "id": "4e5b244a",
   "metadata": {},
   "source": [
    "# Replace\n",
    "\n",
    "* The replace() method replaces a specifiedphrase with another specified phrase.\n",
    "\n",
    "*                    string.replace(oldvalue, newvalue, count)"
   ]
  },
  {
   "cell_type": "code",
   "execution_count": 25,
   "id": "0290dfcc",
   "metadata": {},
   "outputs": [
    {
     "name": "stdout",
     "output_type": "stream",
     "text": [
      "Help on built-in function replace:\n",
      "\n",
      "replace(old, new, count=-1, /) method of builtins.str instance\n",
      "    Return a copy with all occurrences of substring old replaced by new.\n",
      "    \n",
      "      count\n",
      "        Maximum number of occurrences to replace.\n",
      "        -1 (the default value) means replace all occurrences.\n",
      "    \n",
      "    If the optional argument count is given, only the first count occurrences are\n",
      "    replaced.\n",
      "\n"
     ]
    }
   ],
   "source": [
    "help(x.replace)"
   ]
  },
  {
   "cell_type": "code",
   "execution_count": 26,
   "id": "1f2bbdc1",
   "metadata": {},
   "outputs": [
    {
     "name": "stdout",
     "output_type": "stream",
     "text": [
      "I like bananas\n",
      "I like apples\n"
     ]
    }
   ],
   "source": [
    "x = \"I like bananas\"\n",
    "print(x)\n",
    "xx = x.replace(\"bananas\", \"apples\")\n",
    "print(xx)"
   ]
  },
  {
   "cell_type": "markdown",
   "id": "fd019ba5",
   "metadata": {},
   "source": [
    "# Uppercases\n",
    "\n",
    "* The upper() method returns a string whereall characters are in upper case.\n",
    "*             str.upper()\n"
   ]
  },
  {
   "cell_type": "code",
   "execution_count": 27,
   "id": "0cc5a1d1",
   "metadata": {},
   "outputs": [
    {
     "name": "stdout",
     "output_type": "stream",
     "text": [
      "Help on method_descriptor:\n",
      "\n",
      "upper(self, /)\n",
      "    Return a copy of the string converted to uppercase.\n",
      "\n"
     ]
    }
   ],
   "source": [
    "help(str.upper)"
   ]
  },
  {
   "cell_type": "code",
   "execution_count": 28,
   "id": "d94b870e",
   "metadata": {},
   "outputs": [
    {
     "name": "stdout",
     "output_type": "stream",
     "text": [
      "Im Too late to Catch TRAIN In Railwaystation\n",
      "IM TOO LATE TO CATCH TRAIN IN RAILWAYSTATION\n"
     ]
    }
   ],
   "source": [
    "s=\"Im Too late to Catch TRAIN In Railwaystation\"\n",
    "a=s.upper()\n",
    "print(s,a,sep='\\n')"
   ]
  },
  {
   "cell_type": "markdown",
   "id": "65899d07",
   "metadata": {},
   "source": [
    "# Lowercases\n",
    "\n",
    "* The lower() method returns a string whereall characters are in lower case.\n",
    "*            str.lower()"
   ]
  },
  {
   "cell_type": "code",
   "execution_count": 29,
   "id": "40c6dd3d",
   "metadata": {},
   "outputs": [
    {
     "name": "stdout",
     "output_type": "stream",
     "text": [
      "Help on method_descriptor:\n",
      "\n",
      "lower(self, /)\n",
      "    Return a copy of the string converted to lowercase.\n",
      "\n"
     ]
    }
   ],
   "source": [
    "help(str.lower)"
   ]
  },
  {
   "cell_type": "code",
   "execution_count": 30,
   "id": "4902aab3",
   "metadata": {},
   "outputs": [
    {
     "name": "stdout",
     "output_type": "stream",
     "text": [
      "Im Too late to Catch TRAIN In Railwaystation\n",
      "im too late to catch train in railwaystation\n"
     ]
    }
   ],
   "source": [
    "s=\"Im Too late to Catch TRAIN In Railwaystation\"\n",
    "a=s.lower()\n",
    "print(s,a,sep='\\n')"
   ]
  },
  {
   "cell_type": "markdown",
   "id": "82922883",
   "metadata": {},
   "source": [
    "# Title\n",
    "* The title() method returns a string wherethe first character in every word is upper case. Like a header, or a title.\n",
    "*             str.title()"
   ]
  },
  {
   "cell_type": "code",
   "execution_count": 31,
   "id": "019296d2",
   "metadata": {},
   "outputs": [
    {
     "data": {
      "text/plain": [
       "'Game Of Thrones!!!'"
      ]
     },
     "execution_count": 31,
     "metadata": {},
     "output_type": "execute_result"
    }
   ],
   "source": [
    "s='game of thrones!!!'\n",
    "s.title()\n"
   ]
  },
  {
   "cell_type": "code",
   "execution_count": 32,
   "id": "006321ba",
   "metadata": {},
   "outputs": [
    {
     "name": "stdout",
     "output_type": "stream",
     "text": [
      "My Favorite Number Is 27.\n",
      "234 K3L2 *43 Fun\n"
     ]
    }
   ],
   "source": [
    "a = 'My favorite number is 27.'\n",
    "print(a.title())\n",
    "\n",
    "a = '234 k3l2 *43 fun'\n",
    "print(a.title())"
   ]
  },
  {
   "cell_type": "markdown",
   "id": "1e3e0954",
   "metadata": {},
   "source": [
    "# Ordered\n",
    "* An ordered set is a data structure in which the data order can be preserved and it is used when we require the position of data to remain fixed in the order we have inserted\n"
   ]
  },
  {
   "cell_type": "code",
   "execution_count": 3,
   "id": "03546283",
   "metadata": {},
   "outputs": [
    {
     "name": "stdout",
     "output_type": "stream",
     "text": [
      "98\n",
      "b\n"
     ]
    }
   ],
   "source": [
    "print(ord('b'))\n",
    "print(chr(ord('B')+32))"
   ]
  },
  {
   "cell_type": "markdown",
   "id": "845ba904",
   "metadata": {},
   "source": [
    "# Swapcase\n",
    "* swapcase() method of builtins.str instance,Convert uppercase characters to lowercase and lowercase characters to uppercase."
   ]
  },
  {
   "cell_type": "code",
   "execution_count": 6,
   "id": "27386898",
   "metadata": {},
   "outputs": [
    {
     "name": "stdout",
     "output_type": "stream",
     "text": [
      "Help on method_descriptor:\n",
      "\n",
      "swapcase(self, /)\n",
      "    Convert uppercase characters to lowercase and lowercase characters to uppercase.\n",
      "\n"
     ]
    }
   ],
   "source": [
    "help(str.swapcase)"
   ]
  },
  {
   "cell_type": "code",
   "execution_count": 7,
   "id": "9405cef1",
   "metadata": {},
   "outputs": [
    {
     "data": {
      "text/plain": [
       "'gAME oF tHRONES!!!'"
      ]
     },
     "execution_count": 7,
     "metadata": {},
     "output_type": "execute_result"
    }
   ],
   "source": [
    "s='Game Of Thrones!!!'\n",
    "s.swapcase()"
   ]
  },
  {
   "cell_type": "code",
   "execution_count": 8,
   "id": "f5250d39",
   "metadata": {},
   "outputs": [
    {
     "name": "stdout",
     "output_type": "stream",
     "text": [
      "mY FAVORITE NUMBER IS 27.\n",
      "234 K3L2 *43 FUN\n"
     ]
    }
   ],
   "source": [
    "a = 'My favorite number is 27.'\n",
    "print(a.swapcase())\n",
    "\n",
    "a = '234 k3l2 *43 fun'\n",
    "print(a.swapcase())"
   ]
  },
  {
   "cell_type": "markdown",
   "id": "5164c3c5",
   "metadata": {},
   "source": [
    "# Casefold\n",
    "* The casefold() method returns a string where all the characters are lower case"
   ]
  },
  {
   "cell_type": "code",
   "execution_count": 9,
   "id": "c46bbb78",
   "metadata": {},
   "outputs": [
    {
     "name": "stdout",
     "output_type": "stream",
     "text": [
      "Help on method_descriptor:\n",
      "\n",
      "casefold(self, /)\n",
      "    Return a version of the string suitable for caseless comparisons.\n",
      "\n"
     ]
    }
   ],
   "source": [
    "help(str.casefold)"
   ]
  },
  {
   "cell_type": "code",
   "execution_count": 10,
   "id": "186ca54c",
   "metadata": {},
   "outputs": [
    {
     "data": {
      "text/plain": [
       "('ß is a german char', 'ss is a german char')"
      ]
     },
     "execution_count": 10,
     "metadata": {},
     "output_type": "execute_result"
    }
   ],
   "source": [
    "s='ß is a german char'\n",
    "s.lower(),s.casefold()\n"
   ]
  },
  {
   "cell_type": "code",
   "execution_count": 11,
   "id": "36e9f95a",
   "metadata": {},
   "outputs": [
    {
     "data": {
      "text/plain": [
       "('¡de nada is a german char', '¡de nada is a german char')"
      ]
     },
     "execution_count": 11,
     "metadata": {},
     "output_type": "execute_result"
    }
   ],
   "source": [
    "s='¡de nada is a german char'\n",
    "s.lower(),s.casefold()"
   ]
  },
  {
   "cell_type": "code",
   "execution_count": 8,
   "id": "75fe8915",
   "metadata": {},
   "outputs": [
    {
     "data": {
      "text/plain": [
       "('b is a english char', 'b is a english char')"
      ]
     },
     "execution_count": 8,
     "metadata": {},
     "output_type": "execute_result"
    }
   ],
   "source": [
    "s='B is a english char'\n",
    "s.lower(),s.casefold()"
   ]
  },
  {
   "cell_type": "markdown",
   "id": "b9d8412f",
   "metadata": {},
   "source": [
    "# Capitalize\n",
    "* The capitalize() method is used to capitalize the current string. It simply returns a string with the very first letter capitalized, that is in upper case and the remaining characters of that string are converted to lower case letters."
   ]
  },
  {
   "cell_type": "code",
   "execution_count": 13,
   "id": "c57477bf",
   "metadata": {},
   "outputs": [
    {
     "name": "stdout",
     "output_type": "stream",
     "text": [
      "Help on method_descriptor:\n",
      "\n",
      "capitalize(self, /)\n",
      "    Return a capitalized version of the string.\n",
      "    \n",
      "    More specifically, make the first character have upper case and the rest lower\n",
      "    case.\n",
      "\n"
     ]
    }
   ],
   "source": [
    "help(str.capitalize)"
   ]
  },
  {
   "cell_type": "code",
   "execution_count": 14,
   "id": "880077be",
   "metadata": {},
   "outputs": [
    {
     "name": "stdout",
     "output_type": "stream",
     "text": [
      "my favorite number is 27.\n",
      "My favorite number is 27.\n",
      "234 k3l2 *43 fun\n"
     ]
    }
   ],
   "source": [
    "a = 'my favorite number is 27.'\n",
    "b=(a.capitalize())\n",
    "print(a,b,sep='\\n')\n",
    "\n",
    "\n",
    "a = '234 k3l2 *43 fun'\n",
    "print(a.capitalize())"
   ]
  },
  {
   "cell_type": "markdown",
   "id": "eb3e0daf",
   "metadata": {},
   "source": [
    "# find()\n",
    "*find method returns the index (positive index)of first occurence of given char or sub string\n",
    "\n",
    "*it initialize the search from left to right"
   ]
  },
  {
   "cell_type": "code",
   "execution_count": 15,
   "id": "374a27c8",
   "metadata": {},
   "outputs": [
    {
     "name": "stdout",
     "output_type": "stream",
     "text": [
      "Help on method_descriptor:\n",
      "\n",
      "find(...)\n",
      "    S.find(sub[, start[, end]]) -> int\n",
      "    \n",
      "    Return the lowest index in S where substring sub is found,\n",
      "    such that sub is contained within S[start:end].  Optional\n",
      "    arguments start and end are interpreted as in slice notation.\n",
      "    \n",
      "    Return -1 on failure.\n",
      "\n"
     ]
    }
   ],
   "source": [
    "help(str.find)"
   ]
  },
  {
   "cell_type": "code",
   "execution_count": 18,
   "id": "cc50e9b2",
   "metadata": {},
   "outputs": [
    {
     "data": {
      "text/plain": [
       "'of all the vids i’ve ever viewed,i’ve never viewed a vid as valued as alex’s engvid vid'"
      ]
     },
     "execution_count": 18,
     "metadata": {},
     "output_type": "execute_result"
    }
   ],
   "source": [
    "tt='Of all the vids I’ve ever viewed,I’ve never viewed a vid as valued as Alex’s engVid vid'\n",
    "tt=tt.lower()\n",
    "tt"
   ]
  },
  {
   "cell_type": "code",
   "execution_count": 19,
   "id": "04a057bd",
   "metadata": {},
   "outputs": [
    {
     "data": {
      "text/plain": [
       "(3, 3, -1, 70)"
      ]
     },
     "execution_count": 19,
     "metadata": {},
     "output_type": "execute_result"
    }
   ],
   "source": [
    "tt.find('a'),tt.find('a',1),tt.find('a',1,2),tt.find('a',70,88)"
   ]
  },
  {
   "cell_type": "markdown",
   "id": "afd1ff28",
   "metadata": {},
   "source": [
    "# rfind and rindex\n",
    "### rfind\n",
    "* rfind() method returns the rightmost index of the substring if found in the given string. If not found then it returns -1.\n",
    "### rindex\n",
    "* The rindex() method finds the last occurrence of the specified value.\n",
    "\n",
    "* The rindex() method raises an exception if the value is not found.\n",
    "\n",
    "* The rindex() method is almost the same as the rfind() method"
   ]
  },
  {
   "cell_type": "code",
   "execution_count": 22,
   "id": "8fd8b6be",
   "metadata": {},
   "outputs": [
    {
     "name": "stdout",
     "output_type": "stream",
     "text": [
      "Help on method_descriptor:\n",
      "\n",
      "rfind(...)\n",
      "    S.rfind(sub[, start[, end]]) -> int\n",
      "    \n",
      "    Return the highest index in S where substring sub is found,\n",
      "    such that sub is contained within S[start:end].  Optional\n",
      "    arguments start and end are interpreted as in slice notation.\n",
      "    \n",
      "    Return -1 on failure.\n",
      "\n"
     ]
    }
   ],
   "source": [
    "help(str.rfind)"
   ]
  },
  {
   "cell_type": "code",
   "execution_count": 23,
   "id": "b4fc987f",
   "metadata": {},
   "outputs": [
    {
     "name": "stdout",
     "output_type": "stream",
     "text": [
      "Help on method_descriptor:\n",
      "\n",
      "rindex(...)\n",
      "    S.rindex(sub[, start[, end]]) -> int\n",
      "    \n",
      "    Return the highest index in S where substring sub is found,\n",
      "    such that sub is contained within S[start:end].  Optional\n",
      "    arguments start and end are interpreted as in slice notation.\n",
      "    \n",
      "    Raises ValueError when the substring is not found.\n",
      "\n"
     ]
    }
   ],
   "source": [
    "help(str.rindex)"
   ]
  },
  {
   "cell_type": "code",
   "execution_count": 21,
   "id": "c74cde65",
   "metadata": {},
   "outputs": [
    {
     "data": {
      "text/plain": [
       "(70, -1)"
      ]
     },
     "execution_count": 21,
     "metadata": {},
     "output_type": "execute_result"
    }
   ],
   "source": [
    "tt.rfind('a'),tt.rfind('zzzz')"
   ]
  },
  {
   "cell_type": "code",
   "execution_count": 20,
   "id": "b6d90027",
   "metadata": {},
   "outputs": [
    {
     "data": {
      "text/plain": [
       "(70, 70)"
      ]
     },
     "execution_count": 20,
     "metadata": {},
     "output_type": "execute_result"
    }
   ],
   "source": [
    "tt.rindex('a'),tt.rindex('a',1)\n"
   ]
  },
  {
   "cell_type": "markdown",
   "id": "0ef4085d",
   "metadata": {},
   "source": [
    "# Replace\n",
    "* The replace() method replaces a specifiedphrase with another specified phrase.\n",
    "\n",
    "*                    string.replace(oldvalue, newvalue, count)\n"
   ]
  },
  {
   "cell_type": "code",
   "execution_count": 24,
   "id": "4eced5a0",
   "metadata": {},
   "outputs": [
    {
     "name": "stdout",
     "output_type": "stream",
     "text": [
      "Help on method_descriptor:\n",
      "\n",
      "replace(self, old, new, count=-1, /)\n",
      "    Return a copy with all occurrences of substring old replaced by new.\n",
      "    \n",
      "      count\n",
      "        Maximum number of occurrences to replace.\n",
      "        -1 (the default value) means replace all occurrences.\n",
      "    \n",
      "    If the optional argument count is given, only the first count occurrences are\n",
      "    replaced.\n",
      "\n"
     ]
    }
   ],
   "source": [
    "help(str.replace)"
   ]
  },
  {
   "cell_type": "code",
   "execution_count": 25,
   "id": "b32c6829",
   "metadata": {},
   "outputs": [
    {
     "data": {
      "text/plain": [
       "'of all the vids i’ve ever viewed,i’ve never viewed a vid as valued as alex’s engvid vid'"
      ]
     },
     "execution_count": 25,
     "metadata": {},
     "output_type": "execute_result"
    }
   ],
   "source": [
    "tt"
   ]
  },
  {
   "cell_type": "code",
   "execution_count": 27,
   "id": "ace4c89f",
   "metadata": {},
   "outputs": [
    {
     "data": {
      "text/plain": [
       "'of all the vids i’ve ever viewed,i’ve never viewed a vid the valued the alex’s engvid vid'"
      ]
     },
     "execution_count": 27,
     "metadata": {},
     "output_type": "execute_result"
    }
   ],
   "source": [
    "tt.replace('as','the')"
   ]
  },
  {
   "cell_type": "code",
   "execution_count": 30,
   "id": "4b6ac447",
   "metadata": {},
   "outputs": [
    {
     "data": {
      "text/plain": [
       "'of all the vids i’ve ever viewed,i’ve never viewed a vid the valued as alex’s engvid vid'"
      ]
     },
     "execution_count": 30,
     "metadata": {},
     "output_type": "execute_result"
    }
   ],
   "source": [
    "tt.replace('as','the',1) #1 is a count"
   ]
  },
  {
   "cell_type": "markdown",
   "id": "deac4ca7",
   "metadata": {},
   "source": [
    "# Splitlines\n",
    "* str instance Return a list of the lines in the string, breaking at line boundaries.\n",
    "* Line breaks are not included in the resulting list unless keepends is given and true."
   ]
  },
  {
   "cell_type": "code",
   "execution_count": 34,
   "id": "05be46d4",
   "metadata": {},
   "outputs": [
    {
     "name": "stdout",
     "output_type": "stream",
     "text": [
      "Help on method_descriptor:\n",
      "\n",
      "splitlines(self, /, keepends=False)\n",
      "    Return a list of the lines in the string, breaking at line boundaries.\n",
      "    \n",
      "    Line breaks are not included in the resulting list unless keepends is given and\n",
      "    true.\n",
      "\n"
     ]
    }
   ],
   "source": [
    "help(str.splitlines)"
   ]
  },
  {
   "cell_type": "code",
   "execution_count": 89,
   "id": "3c560000",
   "metadata": {},
   "outputs": [
    {
     "data": {
      "text/plain": [
       "['Of all the vids I’ve ever viewed,I’ve never viewed a vid as valued as Alex’s engVid vids']"
      ]
     },
     "execution_count": 89,
     "metadata": {},
     "output_type": "execute_result"
    }
   ],
   "source": [
    "tt.splitlines()"
   ]
  },
  {
   "cell_type": "code",
   "execution_count": 38,
   "id": "4bb749d1",
   "metadata": {},
   "outputs": [
    {
     "name": "stdout",
     "output_type": "stream",
     "text": [
      "Help on method_descriptor:\n",
      "\n",
      "split(self, /, sep=None, maxsplit=-1)\n",
      "    Return a list of the substrings in the string, using sep as the separator string.\n",
      "    \n",
      "      sep\n",
      "        The separator used to split the string.\n",
      "    \n",
      "        When set to None (the default value), will split on any whitespace\n",
      "        character (including \\\\n \\\\r \\\\t \\\\f and spaces) and will discard\n",
      "        empty strings from the result.\n",
      "      maxsplit\n",
      "        Maximum number of splits (starting from the left).\n",
      "        -1 (the default value) means no limit.\n",
      "    \n",
      "    Note, str.split() is mainly useful for data that has been intentionally\n",
      "    delimited.  With natural text that includes punctuation, consider using\n",
      "    the regular expression module.\n",
      "\n"
     ]
    }
   ],
   "source": [
    "help(str.split)"
   ]
  },
  {
   "cell_type": "code",
   "execution_count": 36,
   "id": "aa067470",
   "metadata": {},
   "outputs": [
    {
     "name": "stdout",
     "output_type": "stream",
     "text": [
      "['of', 'all', 'the', 'vids', 'i’ve', 'ever', 'viewed,i’ve', 'never', 'viewed', 'a', 'vid', 'as', 'valued', 'as', 'alex’s', 'engvid', 'vid']\n"
     ]
    }
   ],
   "source": [
    "print(tt.split())"
   ]
  },
  {
   "cell_type": "code",
   "execution_count": 37,
   "id": "4e8aa4dd",
   "metadata": {},
   "outputs": [
    {
     "name": "stdout",
     "output_type": "stream",
     "text": [
      "of all the vids i’ve ever viewed,i’ve never viewed a vid as valued as alex’s engvid vid\n",
      "['of all the ', 'ids i’', 'e e', 'er ', 'iewed,i’', 'e ne', 'er ', 'iewed a ', 'id as ', 'alued as alex’s eng', 'id ', 'id']\n"
     ]
    }
   ],
   "source": [
    "print(tt)\n",
    "print(tt.split('v'))"
   ]
  },
  {
   "cell_type": "markdown",
   "id": "0457952a",
   "metadata": {},
   "source": [
    "# Partition\n",
    "* The partition() method searches for a specified string, and splits the string into a tuple containing three elements."
   ]
  },
  {
   "cell_type": "code",
   "execution_count": 39,
   "id": "1e370112",
   "metadata": {},
   "outputs": [
    {
     "name": "stdout",
     "output_type": "stream",
     "text": [
      "Help on method_descriptor:\n",
      "\n",
      "partition(self, sep, /)\n",
      "    Partition the string into three parts using the given separator.\n",
      "    \n",
      "    This will search for the separator in the string.  If the separator is found,\n",
      "    returns a 3-tuple containing the part before the separator, the separator\n",
      "    itself, and the part after it.\n",
      "    \n",
      "    If the separator is not found, returns a 3-tuple containing the original string\n",
      "    and two empty strings.\n",
      "\n"
     ]
    }
   ],
   "source": [
    "help(str.partition)"
   ]
  },
  {
   "cell_type": "code",
   "execution_count": 40,
   "id": "4a37c36b",
   "metadata": {},
   "outputs": [
    {
     "name": "stdout",
     "output_type": "stream",
     "text": [
      "('I could eat ', 'bananas', ' all day')\n"
     ]
    }
   ],
   "source": [
    "txt = \"I could eat bananas all day\"\n",
    "\n",
    "x = txt.partition(\"bananas\")\n",
    "\n",
    "print(x)"
   ]
  },
  {
   "cell_type": "code",
   "execution_count": 42,
   "id": "c57275b2",
   "metadata": {},
   "outputs": [
    {
     "data": {
      "text/plain": [
       "(('I cou', 'l', 'd eat bananas all day'),\n",
       " ('I could eat bananas a', 'll', ' day'))"
      ]
     },
     "execution_count": 42,
     "metadata": {},
     "output_type": "execute_result"
    }
   ],
   "source": [
    "txt.partition('l'),txt.partition('ll')"
   ]
  },
  {
   "cell_type": "code",
   "execution_count": 43,
   "id": "bc290f94",
   "metadata": {},
   "outputs": [
    {
     "data": {
      "text/plain": [
       "(('I could eat bananas al', 'l', ' day'),\n",
       " ('I could eat bananas a', 'll', ' day'))"
      ]
     },
     "execution_count": 43,
     "metadata": {},
     "output_type": "execute_result"
    }
   ],
   "source": [
    "txt.rpartition('l'),txt.rpartition('ll')"
   ]
  },
  {
   "cell_type": "markdown",
   "id": "706218d8",
   "metadata": {},
   "source": [
    "# Strip\n",
    "* strip() is an inbuilt function in Python programming language that returns a copy of the string with both leading and trailing characters removed"
   ]
  },
  {
   "cell_type": "code",
   "execution_count": 1,
   "id": "c30d84db",
   "metadata": {},
   "outputs": [
    {
     "name": "stdout",
     "output_type": "stream",
     "text": [
      "Help on method_descriptor:\n",
      "\n",
      "strip(self, chars=None, /)\n",
      "    Return a copy of the string with leading and trailing whitespace removed.\n",
      "    \n",
      "    If chars is given and not None, remove characters in chars instead.\n",
      "\n"
     ]
    }
   ],
   "source": [
    "help(str.strip)"
   ]
  },
  {
   "cell_type": "code",
   "execution_count": 18,
   "id": "3a723629",
   "metadata": {},
   "outputs": [
    {
     "name": "stdout",
     "output_type": "stream",
     "text": [
      "Of all the vids I’ve ever viewed,I’ve never viewed a vid as valued as Alex’s engVid vids\n"
     ]
    }
   ],
   "source": [
    "tt='Of all the vids I’ve ever viewed,I’ve never viewed a vid as valued as Alex’s engVid vids'\n",
    "print(tt.strip('vid'))"
   ]
  },
  {
   "cell_type": "code",
   "execution_count": 21,
   "id": "925bf344",
   "metadata": {},
   "outputs": [
    {
     "name": "stdout",
     "output_type": "stream",
     "text": [
      "3hi\n",
      "12!3hi\n"
     ]
    }
   ],
   "source": [
    "x='12!3hi#!'\n",
    "print(x.strip('2#!1'))\n",
    "print(x.strip('2#!'))\n",
    "      "
   ]
  },
  {
   "cell_type": "code",
   "execution_count": 24,
   "id": "8ba0cf67",
   "metadata": {},
   "outputs": [
    {
     "data": {
      "text/plain": [
       "'12!3hi#!'"
      ]
     },
     "execution_count": 24,
     "metadata": {},
     "output_type": "execute_result"
    }
   ],
   "source": [
    "#lstrip\n",
    "x='!12!3hi#!'\n",
    "x.lstrip('!')"
   ]
  },
  {
   "cell_type": "code",
   "execution_count": 26,
   "id": "550fe2ff",
   "metadata": {},
   "outputs": [
    {
     "data": {
      "text/plain": [
       "'!12!3hi#'"
      ]
     },
     "execution_count": 26,
     "metadata": {},
     "output_type": "execute_result"
    }
   ],
   "source": [
    "#lstrip\n",
    "x='!12!3hi#!'\n",
    "x.rstrip('!')"
   ]
  },
  {
   "cell_type": "markdown",
   "id": "af193d70",
   "metadata": {},
   "source": [
    "# Remove prefix\n",
    "* Python String removeprefix() function removes the prefix and returns the rest of the string. If the prefix string is not found, then it returns the original string."
   ]
  },
  {
   "cell_type": "code",
   "execution_count": 41,
   "id": "daf7b7eb",
   "metadata": {},
   "outputs": [
    {
     "name": "stdout",
     "output_type": "stream",
     "text": [
      "Help on method_descriptor:\n",
      "\n",
      "removeprefix(self, prefix, /)\n",
      "    Return a str with the given prefix string removed if present.\n",
      "    \n",
      "    If the string starts with the prefix string, return string[len(prefix):].\n",
      "    Otherwise, return a copy of the original string.\n",
      "\n"
     ]
    }
   ],
   "source": [
    "help(str.removeprefix)"
   ]
  },
  {
   "cell_type": "code",
   "execution_count": 32,
   "id": "d1971760",
   "metadata": {},
   "outputs": [
    {
     "data": {
      "text/plain": [
       "('jhon wick', 'Mr.jhon ')"
      ]
     },
     "execution_count": 32,
     "metadata": {},
     "output_type": "execute_result"
    }
   ],
   "source": [
    "x='Mr.jhon wick'\n",
    "x.removeprefix('Mr.'),x.removesuffix('wick')"
   ]
  },
  {
   "cell_type": "code",
   "execution_count": 40,
   "id": "5f0a8c62",
   "metadata": {},
   "outputs": [
    {
     "data": {
      "text/plain": [
       "('emory manager', 'Memory manager')"
      ]
     },
     "execution_count": 40,
     "metadata": {},
     "output_type": "execute_result"
    }
   ],
   "source": [
    "x='Mr. Memory manager'\n",
    "x.lstrip('Mr. '),x.removeprefix('Mr. ')"
   ]
  },
  {
   "cell_type": "markdown",
   "id": "94dca775",
   "metadata": {},
   "source": [
    "# Center"
   ]
  },
  {
   "cell_type": "code",
   "execution_count": 42,
   "id": "c72a3e1f",
   "metadata": {},
   "outputs": [
    {
     "name": "stdout",
     "output_type": "stream",
     "text": [
      "Help on method_descriptor:\n",
      "\n",
      "center(self, width, fillchar=' ', /)\n",
      "    Return a centered string of length width.\n",
      "    \n",
      "    Padding is done using the specified fill character (default is a space).\n",
      "\n"
     ]
    }
   ],
   "source": [
    "help(str.center)"
   ]
  },
  {
   "cell_type": "code",
   "execution_count": 77,
   "id": "99c30c81",
   "metadata": {},
   "outputs": [
    {
     "name": "stdout",
     "output_type": "stream",
     "text": [
      "Deepthi 7\n",
      "                                              Deepthi                                                100\n",
      "                                              Deepthi                                               \n",
      "Deepthi 7\n"
     ]
    }
   ],
   "source": [
    "x='Deepthi'\n",
    "print(x,len(x))\n",
    "y=x.center(100)\n",
    "print(y,len(y))\n",
    "print(y)\n",
    "z=x.center(5)\n",
    "print(z,len(z))"
   ]
  },
  {
   "cell_type": "code",
   "execution_count": 78,
   "id": "17e9ab75",
   "metadata": {},
   "outputs": [
    {
     "name": "stdout",
     "output_type": "stream",
     "text": [
      "Deepthi 7\n",
      "**********************************************Deepthi*********************************************** 100\n"
     ]
    }
   ],
   "source": [
    "x='Deepthi'\n",
    "print(x,len(x))\n",
    "y=x.center(100,'*')\n",
    "print(y,len(y))\n"
   ]
  },
  {
   "cell_type": "code",
   "execution_count": 63,
   "id": "20389c5c",
   "metadata": {},
   "outputs": [
    {
     "name": "stdout",
     "output_type": "stream",
     "text": [
      "Help on method_descriptor:\n",
      "\n",
      "ljust(self, width, fillchar=' ', /)\n",
      "    Return a left-justified string of length width.\n",
      "    \n",
      "    Padding is done using the specified fill character (default is a space).\n",
      "\n"
     ]
    }
   ],
   "source": [
    "help(str.ljust)"
   ]
  },
  {
   "cell_type": "code",
   "execution_count": 65,
   "id": "cb7d4228",
   "metadata": {},
   "outputs": [
    {
     "data": {
      "text/plain": [
       "'Deepthi                                                                                             '"
      ]
     },
     "execution_count": 65,
     "metadata": {},
     "output_type": "execute_result"
    }
   ],
   "source": [
    "#ljust\n",
    "x='Deepthi'\n",
    "x.ljust(100)"
   ]
  },
  {
   "cell_type": "code",
   "execution_count": 64,
   "id": "5fedbf90",
   "metadata": {},
   "outputs": [
    {
     "name": "stdout",
     "output_type": "stream",
     "text": [
      "Help on method_descriptor:\n",
      "\n",
      "rjust(self, width, fillchar=' ', /)\n",
      "    Return a right-justified string of length width.\n",
      "    \n",
      "    Padding is done using the specified fill character (default is a space).\n",
      "\n"
     ]
    }
   ],
   "source": [
    "help(str.rjust)"
   ]
  },
  {
   "cell_type": "code",
   "execution_count": 69,
   "id": "c0716750",
   "metadata": {},
   "outputs": [
    {
     "name": "stdout",
     "output_type": "stream",
     "text": [
      "                                                                                             Deepthi 100\n"
     ]
    }
   ],
   "source": [
    "#Rjust\n",
    "x='Deepthi'\n",
    "y=x.rjust(100)\n",
    "print(y,len(y))"
   ]
  },
  {
   "cell_type": "code",
   "execution_count": 70,
   "id": "05640998",
   "metadata": {},
   "outputs": [
    {
     "data": {
      "text/plain": [
       "100"
      ]
     },
     "execution_count": 70,
     "metadata": {},
     "output_type": "execute_result"
    }
   ],
   "source": [
    "len(y)"
   ]
  },
  {
   "cell_type": "code",
   "execution_count": 71,
   "id": "84dfcc98",
   "metadata": {},
   "outputs": [
    {
     "data": {
      "text/plain": [
       "'Deepthi***'"
      ]
     },
     "execution_count": 71,
     "metadata": {},
     "output_type": "execute_result"
    }
   ],
   "source": [
    "x.ljust(10,'*')"
   ]
  },
  {
   "cell_type": "code",
   "execution_count": 72,
   "id": "3d165b6e",
   "metadata": {},
   "outputs": [
    {
     "data": {
      "text/plain": [
       "'***Deepthi'"
      ]
     },
     "execution_count": 72,
     "metadata": {},
     "output_type": "execute_result"
    }
   ],
   "source": [
    "x.rjust(10,'*')"
   ]
  },
  {
   "cell_type": "markdown",
   "id": "e14a2380",
   "metadata": {},
   "source": [
    "# zfill\n"
   ]
  },
  {
   "cell_type": "code",
   "execution_count": 82,
   "id": "6d4dfa96",
   "metadata": {},
   "outputs": [
    {
     "name": "stdout",
     "output_type": "stream",
     "text": [
      "Help on method_descriptor:\n",
      "\n",
      "zfill(self, width, /)\n",
      "    Pad a numeric string with zeros on the left, to fill a field of the given width.\n",
      "    \n",
      "    The string is never truncated.\n",
      "\n"
     ]
    }
   ],
   "source": [
    "help(str.zfill)"
   ]
  },
  {
   "cell_type": "code",
   "execution_count": 81,
   "id": "b3e10e51",
   "metadata": {},
   "outputs": [
    {
     "data": {
      "text/plain": [
       "'000Deepthi'"
      ]
     },
     "execution_count": 81,
     "metadata": {},
     "output_type": "execute_result"
    }
   ],
   "source": [
    "x.zfill(10) #gives 0 in whitespaces or emptyspaces"
   ]
  },
  {
   "cell_type": "markdown",
   "id": "e355a97f",
   "metadata": {},
   "source": [
    "# join"
   ]
  },
  {
   "cell_type": "code",
   "execution_count": 83,
   "id": "e679306e",
   "metadata": {},
   "outputs": [
    {
     "name": "stdout",
     "output_type": "stream",
     "text": [
      "Help on method_descriptor:\n",
      "\n",
      "join(self, iterable, /)\n",
      "    Concatenate any number of strings.\n",
      "    \n",
      "    The string whose method is called is inserted in between each given string.\n",
      "    The result is returned as a new string.\n",
      "    \n",
      "    Example: '.'.join(['ab', 'pq', 'rs']) -> 'ab.pq.rs'\n",
      "\n"
     ]
    }
   ],
   "source": [
    "help(str.join)"
   ]
  },
  {
   "cell_type": "code",
   "execution_count": 84,
   "id": "05ae6823",
   "metadata": {},
   "outputs": [
    {
     "data": {
      "text/plain": [
       "'aDeepthibDeepthic'"
      ]
     },
     "execution_count": 84,
     "metadata": {},
     "output_type": "execute_result"
    }
   ],
   "source": [
    "x.join(['a','b','c'])"
   ]
  },
  {
   "cell_type": "code",
   "execution_count": 85,
   "id": "bcb22891",
   "metadata": {},
   "outputs": [
    {
     "data": {
      "text/plain": [
       "'hello'"
      ]
     },
     "execution_count": 85,
     "metadata": {},
     "output_type": "execute_result"
    }
   ],
   "source": [
    "''.join(['h','e','l','l','o'])"
   ]
  },
  {
   "cell_type": "code",
   "execution_count": 87,
   "id": "8c6556d6",
   "metadata": {},
   "outputs": [
    {
     "data": {
      "text/plain": [
       "'ahibhic'"
      ]
     },
     "execution_count": 87,
     "metadata": {},
     "output_type": "execute_result"
    }
   ],
   "source": [
    "'hi'.join('abc')"
   ]
  },
  {
   "cell_type": "markdown",
   "id": "e4c01f85",
   "metadata": {},
   "source": [
    "# startswith and endswith"
   ]
  },
  {
   "cell_type": "code",
   "execution_count": 91,
   "id": "4f05d675",
   "metadata": {},
   "outputs": [
    {
     "name": "stdout",
     "output_type": "stream",
     "text": [
      "Help on method_descriptor:\n",
      "\n",
      "startswith(...)\n",
      "    S.startswith(prefix[, start[, end]]) -> bool\n",
      "    \n",
      "    Return True if S starts with the specified prefix, False otherwise.\n",
      "    With optional start, test S beginning at that position.\n",
      "    With optional end, stop comparing S at that position.\n",
      "    prefix can also be a tuple of strings to try.\n",
      "\n"
     ]
    }
   ],
   "source": [
    "help(str.startswith)"
   ]
  },
  {
   "cell_type": "code",
   "execution_count": 98,
   "id": "c84de0b2",
   "metadata": {},
   "outputs": [
    {
     "name": "stdout",
     "output_type": "stream",
     "text": [
      "Help on method_descriptor:\n",
      "\n",
      "endswith(...)\n",
      "    S.endswith(suffix[, start[, end]]) -> bool\n",
      "    \n",
      "    Return True if S ends with the specified suffix, False otherwise.\n",
      "    With optional start, test S beginning at that position.\n",
      "    With optional end, stop comparing S at that position.\n",
      "    suffix can also be a tuple of strings to try.\n",
      "\n"
     ]
    }
   ],
   "source": [
    "help(str.endswith)"
   ]
  },
  {
   "cell_type": "code",
   "execution_count": 95,
   "id": "7aa7fb60",
   "metadata": {},
   "outputs": [
    {
     "data": {
      "text/plain": [
       "(True, False)"
      ]
     },
     "execution_count": 95,
     "metadata": {},
     "output_type": "execute_result"
    }
   ],
   "source": [
    "x='hi'\n",
    "x.startswith('h'),x.startswith('z')"
   ]
  },
  {
   "cell_type": "code",
   "execution_count": 97,
   "id": "63ef0003",
   "metadata": {},
   "outputs": [
    {
     "data": {
      "text/plain": [
       "(True, False)"
      ]
     },
     "execution_count": 97,
     "metadata": {},
     "output_type": "execute_result"
    }
   ],
   "source": [
    "x.endswith('i'),x.endswith('z')"
   ]
  },
  {
   "cell_type": "code",
   "execution_count": 101,
   "id": "ffd794c8",
   "metadata": {},
   "outputs": [
    {
     "name": "stdout",
     "output_type": "stream",
     "text": [
      "Help on method_descriptor:\n",
      "\n",
      "count(...)\n",
      "    S.count(sub[, start[, end]]) -> int\n",
      "    \n",
      "    Return the number of non-overlapping occurrences of substring sub in\n",
      "    string S[start:end].  Optional arguments start and end are\n",
      "    interpreted as in slice notation.\n",
      "\n"
     ]
    }
   ],
   "source": [
    "help(str.count)"
   ]
  },
  {
   "cell_type": "code",
   "execution_count": 106,
   "id": "ab7fa3cd",
   "metadata": {},
   "outputs": [
    {
     "name": "stdout",
     "output_type": "stream",
     "text": [
      "Of all the vids I’ve ever viewed,I’ve never viewed a vid as valued as Alex’s engVid vids\n"
     ]
    },
    {
     "data": {
      "text/plain": [
       "(6, 1)"
      ]
     },
     "execution_count": 106,
     "metadata": {},
     "output_type": "execute_result"
    }
   ],
   "source": [
    "print(tt)\n",
    "tt.count('i'),tt.count('i',0,13)\n"
   ]
  },
  {
   "cell_type": "code",
   "execution_count": 114,
   "id": "c9b4faec",
   "metadata": {},
   "outputs": [
    {
     "name": "stdout",
     "output_type": "stream",
     "text": [
      "please provide the first number10\n"
     ]
    }
   ],
   "source": [
    "x=input('please provide the first number') #input statement is always be a string whatever it may give"
   ]
  },
  {
   "cell_type": "code",
   "execution_count": 112,
   "id": "75a33ac6",
   "metadata": {},
   "outputs": [
    {
     "data": {
      "text/plain": [
       "('10', str)"
      ]
     },
     "execution_count": 112,
     "metadata": {},
     "output_type": "execute_result"
    }
   ],
   "source": [
    "x,type(x)"
   ]
  },
  {
   "cell_type": "code",
   "execution_count": 124,
   "id": "59eb76a6",
   "metadata": {},
   "outputs": [
    {
     "name": "stdout",
     "output_type": "stream",
     "text": [
      "D:\u0007bc\n"
     ]
    }
   ],
   "source": [
    "x='D:\\abc'\n",
    "print(x)"
   ]
  },
  {
   "cell_type": "code",
   "execution_count": 128,
   "id": "8c51b2b7",
   "metadata": {},
   "outputs": [
    {
     "name": "stdout",
     "output_type": "stream",
     "text": [
      "D:\\abc\n"
     ]
    }
   ],
   "source": [
    "x=r'D:\\abc' #r is raw string \n",
    "print(x)"
   ]
  },
  {
   "cell_type": "markdown",
   "id": "7ac32596",
   "metadata": {},
   "source": [
    "# fstring"
   ]
  },
  {
   "cell_type": "code",
   "execution_count": 132,
   "id": "31849430",
   "metadata": {},
   "outputs": [
    {
     "name": "stdout",
     "output_type": "stream",
     "text": [
      "enter the name : deepthi\n",
      "enter the marks : 45\n",
      "enter the total marks : 50\n",
      "deepthi scored 45 marks outof 50\n",
      "deepthi scored 45 marks outof 50\n"
     ]
    }
   ],
   "source": [
    "name=input('enter the name : ')\n",
    "marks=input('enter the marks : ')\n",
    "outof=input('enter the total marks : ')\n",
    "print(name,'scored',marks,'marks','outof',outof)\n",
    "print(f'{name} scored {marks} marks outof {outof}')"
   ]
  },
  {
   "cell_type": "markdown",
   "id": "0bc190d2",
   "metadata": {},
   "source": [
    "# isalnum\n",
    "* The isalnum() method returns True if all thecharacters are alphanumeric, meaning alphabet letter (a-z) and numbers (0-9)."
   ]
  },
  {
   "cell_type": "code",
   "execution_count": 44,
   "id": "324746fb",
   "metadata": {},
   "outputs": [
    {
     "name": "stdout",
     "output_type": "stream",
     "text": [
      "Help on method_descriptor:\n",
      "\n",
      "isalnum(self, /)\n",
      "    Return True if the string is an alpha-numeric string, False otherwise.\n",
      "    \n",
      "    A string is alpha-numeric if all characters in the string are alpha-numeric and\n",
      "    there is at least one character in the string.\n",
      "\n"
     ]
    }
   ],
   "source": [
    "help(str.isalnum)"
   ]
  },
  {
   "cell_type": "code",
   "execution_count": 48,
   "id": "832410df",
   "metadata": {},
   "outputs": [
    {
     "name": "stdout",
     "output_type": "stream",
     "text": [
      "True\n"
     ]
    }
   ],
   "source": [
    "x='Sitaramam234'\n",
    "print(x.isalnum())"
   ]
  },
  {
   "cell_type": "code",
   "execution_count": 49,
   "id": "3a337b2a",
   "metadata": {},
   "outputs": [
    {
     "data": {
      "text/plain": [
       "False"
      ]
     },
     "execution_count": 49,
     "metadata": {},
     "output_type": "execute_result"
    }
   ],
   "source": [
    "x='^^*&^'\n",
    "x.isalnum()"
   ]
  },
  {
   "cell_type": "markdown",
   "id": "48a58c7c",
   "metadata": {},
   "source": [
    "# isalpha\n",
    "*  isalpha() method is used to check whether all characters in the String are an alphabet.\n"
   ]
  },
  {
   "cell_type": "code",
   "execution_count": 50,
   "id": "d121722a",
   "metadata": {},
   "outputs": [
    {
     "name": "stdout",
     "output_type": "stream",
     "text": [
      "Help on method_descriptor:\n",
      "\n",
      "isalpha(self, /)\n",
      "    Return True if the string is an alphabetic string, False otherwise.\n",
      "    \n",
      "    A string is alphabetic if all characters in the string are alphabetic and there\n",
      "    is at least one character in the string.\n",
      "\n"
     ]
    }
   ],
   "source": [
    "help(str.isalpha)"
   ]
  },
  {
   "cell_type": "code",
   "execution_count": 52,
   "id": "b667d1ef",
   "metadata": {},
   "outputs": [
    {
     "name": "stdout",
     "output_type": "stream",
     "text": [
      "False\n"
     ]
    }
   ],
   "source": [
    "x='Sitaramam234'\n",
    "print(x.isalpha())"
   ]
  },
  {
   "cell_type": "code",
   "execution_count": 53,
   "id": "b82f7d8e",
   "metadata": {},
   "outputs": [
    {
     "name": "stdout",
     "output_type": "stream",
     "text": [
      "True\n"
     ]
    }
   ],
   "source": [
    "x='Sitaramam'\n",
    "print(x.isalpha())"
   ]
  },
  {
   "cell_type": "markdown",
   "id": "7716da68",
   "metadata": {},
   "source": [
    "# isascii\n",
    "* The isascii() method returns True if all the characters are ascii characters  (a-z)."
   ]
  },
  {
   "cell_type": "code",
   "execution_count": 54,
   "id": "55d11c61",
   "metadata": {},
   "outputs": [
    {
     "name": "stdout",
     "output_type": "stream",
     "text": [
      "Help on method_descriptor:\n",
      "\n",
      "isascii(self, /)\n",
      "    Return True if all characters in the string are ASCII, False otherwise.\n",
      "    \n",
      "    ASCII characters have code points in the range U+0000-U+007F.\n",
      "    Empty string is ASCII too.\n",
      "\n"
     ]
    }
   ],
   "source": [
    "help(str.isascii)"
   ]
  },
  {
   "cell_type": "code",
   "execution_count": 57,
   "id": "57075b80",
   "metadata": {},
   "outputs": [
    {
     "name": "stdout",
     "output_type": "stream",
     "text": [
      "True\n",
      "True\n",
      "True\n",
      "False\n"
     ]
    }
   ],
   "source": [
    "s = 'ABC'\n",
    "print(s.isascii())\n",
    "\n",
    "s = '012345'\n",
    "print(s.isascii())\n",
    "\n",
    "s = 'ABC'\n",
    "print(s.isascii())\n",
    "\n",
    "s = 'ß'   # German letter\n",
    "print(s.isascii())"
   ]
  },
  {
   "cell_type": "markdown",
   "id": "d1b054d5",
   "metadata": {},
   "source": [
    "# isdecimal\n",
    "* The isdecimal() method returns True if all the characters are decimals (0-9)."
   ]
  },
  {
   "cell_type": "code",
   "execution_count": 58,
   "id": "7b42f7ab",
   "metadata": {},
   "outputs": [
    {
     "name": "stdout",
     "output_type": "stream",
     "text": [
      "Help on method_descriptor:\n",
      "\n",
      "isdecimal(self, /)\n",
      "    Return True if the string is a decimal string, False otherwise.\n",
      "    \n",
      "    A string is a decimal string if all characters in the string are decimal and\n",
      "    there is at least one character in the string.\n",
      "\n"
     ]
    }
   ],
   "source": [
    "help(str.isdecimal)"
   ]
  },
  {
   "cell_type": "code",
   "execution_count": 2,
   "id": "99a3de18",
   "metadata": {},
   "outputs": [
    {
     "name": "stdout",
     "output_type": "stream",
     "text": [
      "True\n"
     ]
    }
   ],
   "source": [
    "x = \"1234\"\n",
    "x = x.isdecimal()\n",
    "print(x)"
   ]
  },
  {
   "cell_type": "code",
   "execution_count": 60,
   "id": "03b924a4",
   "metadata": {},
   "outputs": [
    {
     "name": "stdout",
     "output_type": "stream",
     "text": [
      "False\n"
     ]
    }
   ],
   "source": [
    "x = \"dee\"\n",
    "x = x.isdecimal()\n",
    "print(x)"
   ]
  },
  {
   "cell_type": "code",
   "execution_count": 62,
   "id": "5235877e",
   "metadata": {},
   "outputs": [
    {
     "name": "stdout",
     "output_type": "stream",
     "text": [
      "False\n"
     ]
    }
   ],
   "source": [
    "x = \"dee1234\"\n",
    "x = x.isdecimal()\n",
    "print(x)"
   ]
  },
  {
   "cell_type": "markdown",
   "id": "e5aa88ff",
   "metadata": {},
   "source": [
    "# isdigit\n",
    "* The isdigit() method returns True if all characters in a string are digits. If not, it returns False.\n"
   ]
  },
  {
   "cell_type": "code",
   "execution_count": 64,
   "id": "4e369ecd",
   "metadata": {},
   "outputs": [
    {
     "name": "stdout",
     "output_type": "stream",
     "text": [
      "Help on method_descriptor:\n",
      "\n",
      "isdigit(self, /)\n",
      "    Return True if the string is a digit string, False otherwise.\n",
      "    \n",
      "    A string is a digit string if all characters in the string are digits and there\n",
      "    is at least one character in the string.\n",
      "\n"
     ]
    }
   ],
   "source": [
    "help(str.isdigit)"
   ]
  },
  {
   "cell_type": "code",
   "execution_count": 67,
   "id": "c9c512ca",
   "metadata": {},
   "outputs": [
    {
     "name": "stdout",
     "output_type": "stream",
     "text": [
      "True\n",
      "False\n"
     ]
    }
   ],
   "source": [
    "s1 = '342'\n",
    "print(s1.isdigit())\n",
    "\n",
    "s2 = 'python'\n",
    "print(s2.isdigit())\n"
   ]
  },
  {
   "cell_type": "markdown",
   "id": "971561c9",
   "metadata": {},
   "source": [
    "# isidentifier\n",
    "* The isidentifier() method returns True if the string is a valid identifier, otherwise False."
   ]
  },
  {
   "cell_type": "code",
   "execution_count": 68,
   "id": "c0741f94",
   "metadata": {},
   "outputs": [
    {
     "name": "stdout",
     "output_type": "stream",
     "text": [
      "Help on method_descriptor:\n",
      "\n",
      "isidentifier(self, /)\n",
      "    Return True if the string is a valid Python identifier, False otherwise.\n",
      "    \n",
      "    Call keyword.iskeyword(s) to test whether string s is a reserved identifier,\n",
      "    such as \"def\" or \"class\".\n",
      "\n"
     ]
    }
   ],
   "source": [
    "help(str.isidentifier)"
   ]
  },
  {
   "cell_type": "code",
   "execution_count": 72,
   "id": "a7c94a03",
   "metadata": {},
   "outputs": [
    {
     "name": "stdout",
     "output_type": "stream",
     "text": [
      "True\n"
     ]
    }
   ],
   "source": [
    "s = \"Demo\"\n",
    "\n",
    "x =s.isidentifier()\n",
    "\n",
    "print(x)\n"
   ]
  },
  {
   "cell_type": "code",
   "execution_count": 11,
   "id": "bed24328",
   "metadata": {},
   "outputs": [
    {
     "name": "stdout",
     "output_type": "stream",
     "text": [
      "False\n"
     ]
    }
   ],
   "source": [
    "s = \"';.;'.';.'\"\n",
    "\n",
    "x =s.isidentifier()\n",
    "\n",
    "print(x)"
   ]
  },
  {
   "cell_type": "markdown",
   "id": "f1f8d79f",
   "metadata": {},
   "source": [
    "# islower\n",
    "* The islower() method returns True if all the characters are in lower case, otherwise False."
   ]
  },
  {
   "cell_type": "code",
   "execution_count": 73,
   "id": "66e89530",
   "metadata": {},
   "outputs": [
    {
     "name": "stdout",
     "output_type": "stream",
     "text": [
      "Help on method_descriptor:\n",
      "\n",
      "islower(self, /)\n",
      "    Return True if the string is a lowercase string, False otherwise.\n",
      "    \n",
      "    A string is lowercase if all cased characters in the string are lowercase and\n",
      "    there is at least one cased character in the string.\n",
      "\n"
     ]
    }
   ],
   "source": [
    "help(str.islower)"
   ]
  },
  {
   "cell_type": "code",
   "execution_count": 74,
   "id": "f6870637",
   "metadata": {},
   "outputs": [
    {
     "name": "stdout",
     "output_type": "stream",
     "text": [
      "False\n",
      "True\n"
     ]
    }
   ],
   "source": [
    "a='Kesamreddy Deepthi'\n",
    "b='kesamreddy deepthi'\n",
    "print(a.islower())\n",
    "print(b.islower())\n"
   ]
  },
  {
   "cell_type": "markdown",
   "id": "274bb116",
   "metadata": {},
   "source": [
    "# isnumeric\n",
    "* The isnumeric() method returns True if all the characters are numeric (0-9), otherwise False."
   ]
  },
  {
   "cell_type": "code",
   "execution_count": 12,
   "id": "4aa14118",
   "metadata": {},
   "outputs": [
    {
     "name": "stdout",
     "output_type": "stream",
     "text": [
      "Help on method_descriptor:\n",
      "\n",
      "isnumeric(self, /)\n",
      "    Return True if the string is a numeric string, False otherwise.\n",
      "    \n",
      "    A string is numeric if all characters in the string are numeric and there is at\n",
      "    least one character in the string.\n",
      "\n"
     ]
    }
   ],
   "source": [
    "help(str.isnumeric)"
   ]
  },
  {
   "cell_type": "code",
   "execution_count": 79,
   "id": "2fba2f0f",
   "metadata": {},
   "outputs": [
    {
     "data": {
      "text/plain": [
       "True"
      ]
     },
     "execution_count": 79,
     "metadata": {},
     "output_type": "execute_result"
    }
   ],
   "source": [
    "s='1234567890'\n",
    "x=s.isnumeric()\n",
    "x"
   ]
  },
  {
   "cell_type": "code",
   "execution_count": 80,
   "id": "0faada98",
   "metadata": {},
   "outputs": [
    {
     "data": {
      "text/plain": [
       "False"
      ]
     },
     "execution_count": 80,
     "metadata": {},
     "output_type": "execute_result"
    }
   ],
   "source": [
    "s='vnm,khggkkugn'\n",
    "x=s.isnumeric()\n",
    "x"
   ]
  },
  {
   "cell_type": "markdown",
   "id": "fbb481bf",
   "metadata": {},
   "source": [
    "# isprintable\n",
    "* The isprintable() method returns “True” if all characters in the string are printable or the string is empty, Otherwise, It returns “False”. This function is used to check if the argument contains any printable characters such as:\n",
    "\n",
    "     * Digits ( 0123456789 )\n",
    "     * Uppercase letters ( ABCDEFGHIJKLMNOPQRSTUVWXYZ )\n",
    "     * Lowercase letters ( abcdefghijklmnopqrstuvwxyz )\n",
    "     * Punctuation characters ( !”#$%&'()*+, -./:;?@[\\]^_`{ | }~ )\n",
    "     * Space ( )"
   ]
  },
  {
   "cell_type": "code",
   "execution_count": 82,
   "id": "3ce34b79",
   "metadata": {},
   "outputs": [
    {
     "name": "stdout",
     "output_type": "stream",
     "text": [
      "Help on method_descriptor:\n",
      "\n",
      "isprintable(self, /)\n",
      "    Return True if the string is printable, False otherwise.\n",
      "    \n",
      "    A string is printable if all of its characters are considered printable in\n",
      "    repr() or if it is empty.\n",
      "\n"
     ]
    }
   ],
   "source": [
    "help(str.isprintable)"
   ]
  },
  {
   "cell_type": "code",
   "execution_count": 84,
   "id": "b84783a9",
   "metadata": {},
   "outputs": [
    {
     "name": "stdout",
     "output_type": "stream",
     "text": [
      "True\n"
     ]
    }
   ],
   "source": [
    "s= 'My name is Deepthi'\n",
    "print(s.isprintable())"
   ]
  },
  {
   "cell_type": "code",
   "execution_count": 85,
   "id": "3dd3e6df",
   "metadata": {},
   "outputs": [
    {
     "name": "stdout",
     "output_type": "stream",
     "text": [
      "False\n"
     ]
    }
   ],
   "source": [
    "s = 'My name is Deepthi\\nbvt'\n",
    "print(s.isprintable())"
   ]
  },
  {
   "cell_type": "markdown",
   "id": "b3cbb6f1",
   "metadata": {},
   "source": [
    "# isspace\n",
    "*The isspace() method returns True if all the characters in a string are whitespaces, otherwise False\n"
   ]
  },
  {
   "cell_type": "code",
   "execution_count": 86,
   "id": "55c00f50",
   "metadata": {},
   "outputs": [
    {
     "name": "stdout",
     "output_type": "stream",
     "text": [
      "Help on method_descriptor:\n",
      "\n",
      "isspace(self, /)\n",
      "    Return True if the string is a whitespace string, False otherwise.\n",
      "    \n",
      "    A string is whitespace if all characters in the string are whitespace and there\n",
      "    is at least one character in the string.\n",
      "\n"
     ]
    }
   ],
   "source": [
    "help(str.isspace)"
   ]
  },
  {
   "cell_type": "code",
   "execution_count": 91,
   "id": "a08ac7f7",
   "metadata": {},
   "outputs": [
    {
     "name": "stdout",
     "output_type": "stream",
     "text": [
      "True\n"
     ]
    }
   ],
   "source": [
    "s = \" \"\n",
    "\n",
    "x = s.isspace()\n",
    "\n",
    "print(x)"
   ]
  },
  {
   "cell_type": "markdown",
   "id": "99d51c76",
   "metadata": {},
   "source": [
    "# istitle\n",
    "* The istitle() method returns True if all words in a text start with a upper case letter, AND the rest of the word are lower case letters, otherwise False."
   ]
  },
  {
   "cell_type": "code",
   "execution_count": 92,
   "id": "aa051a08",
   "metadata": {},
   "outputs": [
    {
     "name": "stdout",
     "output_type": "stream",
     "text": [
      "Help on method_descriptor:\n",
      "\n",
      "istitle(self, /)\n",
      "    Return True if the string is a title-cased string, False otherwise.\n",
      "    \n",
      "    In a title-cased string, upper- and title-case characters may only\n",
      "    follow uncased characters and lowercase characters only cased ones.\n",
      "\n"
     ]
    }
   ],
   "source": [
    "help(str.istitle)"
   ]
  },
  {
   "cell_type": "code",
   "execution_count": 93,
   "id": "fbb25d11",
   "metadata": {},
   "outputs": [
    {
     "name": "stdout",
     "output_type": "stream",
     "text": [
      "True\n"
     ]
    }
   ],
   "source": [
    "s='The Vampire Diaries'\n",
    "x=s.istitle()\n",
    "print(x)"
   ]
  },
  {
   "cell_type": "code",
   "execution_count": 94,
   "id": "365ea85b",
   "metadata": {},
   "outputs": [
    {
     "name": "stdout",
     "output_type": "stream",
     "text": [
      "False\n"
     ]
    }
   ],
   "source": [
    "s='game of thrones'\n",
    "x=s.istitle()\n",
    "print(x)"
   ]
  },
  {
   "cell_type": "markdown",
   "id": "b6a8cbfe",
   "metadata": {},
   "source": [
    "# isupper\n",
    "* The isupper() method returns True if all the characters are in upper case, otherwise False."
   ]
  },
  {
   "cell_type": "code",
   "execution_count": 95,
   "id": "fd03fb0d",
   "metadata": {},
   "outputs": [
    {
     "name": "stdout",
     "output_type": "stream",
     "text": [
      "Help on method_descriptor:\n",
      "\n",
      "isupper(self, /)\n",
      "    Return True if the string is an uppercase string, False otherwise.\n",
      "    \n",
      "    A string is uppercase if all cased characters in the string are uppercase and\n",
      "    there is at least one cased character in the string.\n",
      "\n"
     ]
    }
   ],
   "source": [
    "help(str.isupper)"
   ]
  },
  {
   "cell_type": "code",
   "execution_count": 97,
   "id": "cccce7de",
   "metadata": {},
   "outputs": [
    {
     "data": {
      "text/plain": [
       "True"
      ]
     },
     "execution_count": 97,
     "metadata": {},
     "output_type": "execute_result"
    }
   ],
   "source": [
    "s='KESAMREDDY DEEPTHI'\n",
    "x=s.isupper()\n",
    "x"
   ]
  },
  {
   "cell_type": "code",
   "execution_count": 98,
   "id": "e2c11bf6",
   "metadata": {},
   "outputs": [
    {
     "data": {
      "text/plain": [
       "False"
      ]
     },
     "execution_count": 98,
     "metadata": {},
     "output_type": "execute_result"
    }
   ],
   "source": [
    "s='kesamreddy deepthi'\n",
    "x=s.isupper()\n",
    "x"
   ]
  }
 ],
 "metadata": {
  "kernelspec": {
   "display_name": "Python 3 (ipykernel)",
   "language": "python",
   "name": "python3"
  },
  "language_info": {
   "codemirror_mode": {
    "name": "ipython",
    "version": 3
   },
   "file_extension": ".py",
   "mimetype": "text/x-python",
   "name": "python",
   "nbconvert_exporter": "python",
   "pygments_lexer": "ipython3",
   "version": "3.11.3"
  }
 },
 "nbformat": 4,
 "nbformat_minor": 5
}
