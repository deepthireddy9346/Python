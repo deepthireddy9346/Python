{
 "cells": [
  {
   "cell_type": "markdown",
   "id": "4f7bb7e3",
   "metadata": {},
   "source": [
    "# Variable – Local, Global, Built-in, Enclosed"
   ]
  },
  {
   "cell_type": "markdown",
   "id": "f82a1cd6",
   "metadata": {},
   "source": [
    "![](https://media.geeksforgeeks.org/wp-content/uploads/ScopeResolution-1-300x260.png)"
   ]
  },
  {
   "cell_type": "markdown",
   "id": "fcc046bb",
   "metadata": {},
   "source": [
    "## Local Variables\n",
    " * Defined inside function/class\n",
    " * Local scope refers to variables defined in the current function. Always, a function will first look up a variable name in its local scope. Only if it does not find it there, the outer scopes are checked. "
   ]
  },
  {
   "cell_type": "code",
   "execution_count": 2,
   "id": "0815b2e2",
   "metadata": {},
   "outputs": [
    {
     "name": "stdout",
     "output_type": "stream",
     "text": [
      "The area of the rectangle with length 5 and width 3 is 15.\n"
     ]
    }
   ],
   "source": [
    "def calculate_area(l, w):\n",
    "    area = l * w \n",
    "    return area\n",
    "\n",
    "l = 5\n",
    "w = 3\n",
    "rectangle_area = calculate_area(l, w)\n",
    "print(f\"The area of the rectangle with length {l} and width {w} is {rectangle_area}.\")\n",
    "\n"
   ]
  },
  {
   "cell_type": "markdown",
   "id": "e60159b0",
   "metadata": {},
   "source": [
    "## Global Variables\n",
    "* Defined at the uppermost level\n",
    "* We declare a variable outside the function, then it can be accessed all over the program and inside the function also. These types of variables are known as global variables"
   ]
  },
  {
   "cell_type": "code",
   "execution_count": 14,
   "id": "5a7b5c06",
   "metadata": {},
   "outputs": [
    {
     "name": "stdout",
     "output_type": "stream",
     "text": [
      "The area of the rectangle with length 5 and width 3 is 15.\n"
     ]
    }
   ],
   "source": [
    "l = 5\n",
    "w = 3\n",
    "def calculate_area():\n",
    "    global rectangle_area \n",
    "    rectangle_area = l * w \n",
    "calculate_area()\n",
    "print(f\"The area of the rectangle with length {l} and width {w} is {rectangle_area}.\")\n"
   ]
  },
  {
   "cell_type": "markdown",
   "id": "984b0135",
   "metadata": {},
   "source": [
    "## Enclosed Variables\n",
    "* Defined inside enclosing functions(Nested function concept)\n",
    "* It is a special scope that only exists for nested functions. If the local scope is an inner or nested function, then the enclosing scope is the scope of the outer or enclosing function. This scope contains the names that you define in the enclosing function. The names in the enclosing scope are visible from the code of the inner and enclosing functions."
   ]
  },
  {
   "cell_type": "code",
   "execution_count": 15,
   "id": "6e4c8f0b",
   "metadata": {},
   "outputs": [
    {
     "name": "stdout",
     "output_type": "stream",
     "text": [
      "The area of the rectangle with length 5 and width 3 is 15.\n"
     ]
    }
   ],
   "source": [
    "def calculate_area(l, w):\n",
    "    def calculate():\n",
    "        \n",
    "        nonlocal rectangle_area \n",
    "        rectangle_area = l * w\n",
    "    rectangle_area = None\n",
    "    calculate()\n",
    "    return rectangle_area\n",
    "l = 5\n",
    "w = 3\n",
    "rectangle_area = calculate_area(l, w)\n",
    "print(f\"The area of the rectangle with length {l} and width {w} is {rectangle_area}.\")\n"
   ]
  },
  {
   "cell_type": "markdown",
   "id": "96d226db",
   "metadata": {},
   "source": [
    "## Built-in Variables\n",
    "* This is the widest scope that exists! All the special reserved keywords fall under this scope. We can call the keywords anywhere within our program without having to define them before use.\n",
    "* Reserved names in Python builtin modules"
   ]
  },
  {
   "cell_type": "code",
   "execution_count": 17,
   "id": "33128e84",
   "metadata": {},
   "outputs": [
    {
     "name": "stdout",
     "output_type": "stream",
     "text": [
      "Enter the length: 5\n",
      "Enter the width: 3\n",
      "The area of the rectangle is 15.\n"
     ]
    }
   ],
   "source": [
    "def calculate_area():\n",
    "    l = int(input(\"Enter the length: \"))\n",
    "    w = int(input(\"Enter the width: \"))\n",
    "    area = l * w\n",
    "    return area\n",
    "rectangle_area = calculate_area()\n",
    "print(f\"The area of the rectangle is {rectangle_area}.\")\n"
   ]
  },
  {
   "cell_type": "markdown",
   "id": "e25dc646",
   "metadata": {},
   "source": [
    "## Local , Global , Enclosed , Built-in"
   ]
  },
  {
   "cell_type": "code",
   "execution_count": 13,
   "id": "9ef254e7",
   "metadata": {},
   "outputs": [
    {
     "name": "stdout",
     "output_type": "stream",
     "text": [
      "<class 'str'>\n",
      "The area of the rectangle with length 5 and width 3 is 15.\n"
     ]
    }
   ],
   "source": [
    "l = 8 #global var\n",
    "w = 3\n",
    "def calculate_area(l, w):\n",
    "    #nonlocal calculate_area #non-localvar & enclosed var\n",
    "    area = l * w \n",
    "    return area\n",
    "\n",
    "l = 5 #local var\n",
    "w = 3\n",
    "print(str) #Built-in var\n",
    "rectangle_area = calculate_area(l, w)\n",
    "print(f\"The area of the rectangle with length {l} and width {w} is {rectangle_area}.\")\n"
   ]
  }
 ],
 "metadata": {
  "kernelspec": {
   "display_name": "Python 3 (ipykernel)",
   "language": "python",
   "name": "python3"
  },
  "language_info": {
   "codemirror_mode": {
    "name": "ipython",
    "version": 3
   },
   "file_extension": ".py",
   "mimetype": "text/x-python",
   "name": "python",
   "nbconvert_exporter": "python",
   "pygments_lexer": "ipython3",
   "version": "3.11.3"
  }
 },
 "nbformat": 4,
 "nbformat_minor": 5
}
