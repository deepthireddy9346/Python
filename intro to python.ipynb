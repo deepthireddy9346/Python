{
 "cells": [
  {
   "cell_type": "markdown",
   "id": "c850cf3a",
   "metadata": {},
   "source": [
    "# variables and literals"
   ]
  },
  {
   "cell_type": "code",
   "execution_count": 23,
   "id": "349faf0d",
   "metadata": {},
   "outputs": [],
   "source": [
    "x = 5 # int literal\n",
    "x = 'hi' # string  literal"
   ]
  },
  {
   "cell_type": "code",
   "execution_count": 2,
   "id": "250ba5fc",
   "metadata": {},
   "outputs": [
    {
     "name": "stdout",
     "output_type": "stream",
     "text": [
      "140703244587944 5\n",
      "1550170129776 hi\n",
      "140703243119136 True\n"
     ]
    }
   ],
   "source": [
    "x = 5\n",
    "print(id(x),x)\n",
    "x = 'hi'\n",
    "print(id(x),x)\n",
    "x = True\n",
    "print(id(x),x)"
   ]
  },
  {
   "cell_type": "code",
   "execution_count": 3,
   "id": "10bd5efe",
   "metadata": {},
   "outputs": [
    {
     "data": {
      "text/plain": [
       "1550170129776"
      ]
     },
     "execution_count": 3,
     "metadata": {},
     "output_type": "execute_result"
    }
   ],
   "source": [
    "id('hi')"
   ]
  },
  {
   "cell_type": "code",
   "execution_count": 4,
   "id": "bbc06c4d",
   "metadata": {},
   "outputs": [],
   "source": [
    "#print = 5 #uncomment to see the errorlol\n",
    "#print('hello') #uncomment to see the error"
   ]
  },
  {
   "cell_type": "code",
   "execution_count": 5,
   "id": "71d4983a",
   "metadata": {},
   "outputs": [
    {
     "name": "stdout",
     "output_type": "stream",
     "text": [
      "['False', 'None', 'True', 'and', 'as', 'assert', 'async', 'await', 'break', 'class', 'continue', 'def', 'del', 'elif', 'else', 'except', 'finally', 'for', 'from', 'global', 'if', 'import', 'in', 'is', 'lambda', 'nonlocal', 'not', 'or', 'pass', 'raise', 'return', 'try', 'while', 'with', 'yield']\n"
     ]
    }
   ],
   "source": [
    "import keyword\n",
    "from keyword import kwlist\n",
    "print(kwlist)"
   ]
  },
  {
   "cell_type": "code",
   "execution_count": 6,
   "id": "7ad43288",
   "metadata": {},
   "outputs": [
    {
     "name": "stdout",
     "output_type": "stream",
     "text": [
      "['False', 'None', 'True', 'and', 'as', 'assert', 'async', 'await', 'break', 'class', 'continue', 'def', 'del', 'elif', 'else', 'except', 'finally', 'for', 'from', 'global', 'if', 'import', 'in', 'is', 'lambda', 'nonlocal', 'not', 'or', 'pass', 'raise', 'return', 'try', 'while', 'with', 'yield']\n"
     ]
    }
   ],
   "source": [
    "print(kwlist)"
   ]
  },
  {
   "cell_type": "code",
   "execution_count": 7,
   "id": "cb8c27ce",
   "metadata": {},
   "outputs": [
    {
     "data": {
      "text/plain": [
       "35"
      ]
     },
     "execution_count": 7,
     "metadata": {},
     "output_type": "execute_result"
    }
   ],
   "source": [
    "len(kwlist)"
   ]
  },
  {
   "cell_type": "code",
   "execution_count": 8,
   "id": "a99a3507",
   "metadata": {},
   "outputs": [
    {
     "name": "stdout",
     "output_type": "stream",
     "text": [
      "2\n"
     ]
    },
    {
     "data": {
      "text/plain": [
       "4"
      ]
     },
     "execution_count": 8,
     "metadata": {},
     "output_type": "execute_result"
    }
   ],
   "source": [
    "x=2\n",
    "y=4\n",
    "print(x)\n",
    "y"
   ]
  },
  {
   "cell_type": "code",
   "execution_count": 9,
   "id": "1f180819",
   "metadata": {},
   "outputs": [
    {
     "name": "stdout",
     "output_type": "stream",
     "text": [
      "10*20530\n"
     ]
    }
   ],
   "source": [
    "a,b,c = 10,20,30\n",
    "print(a,b,sep='*',end= '5')\n",
    "print(c)"
   ]
  },
  {
   "cell_type": "code",
   "execution_count": 10,
   "id": "0fdb288f",
   "metadata": {},
   "outputs": [
    {
     "name": "stdout",
     "output_type": "stream",
     "text": [
      "hi good morning everyone\n"
     ]
    }
   ],
   "source": [
    "x = \"hi\"\n",
    "y = \"good morning\"\n",
    "z = \"everyone\"\n",
    "print(x,y,z)"
   ]
  },
  {
   "cell_type": "markdown",
   "id": "0506576b",
   "metadata": {},
   "source": [
    "# arithematic operators"
   ]
  },
  {
   "cell_type": "markdown",
   "id": "3ce15331",
   "metadata": {},
   "source": [
    "x=2\n",
    "y=3\n",
    "x^y"
   ]
  },
  {
   "cell_type": "code",
   "execution_count": 11,
   "id": "9e636fb4",
   "metadata": {},
   "outputs": [
    {
     "name": "stdout",
     "output_type": "stream",
     "text": [
      "11\n",
      "-1\n",
      "30\n",
      "0.8333333333333334\n",
      "15625\n",
      "5\n",
      "0\n"
     ]
    }
   ],
   "source": [
    "x,y =(5,6)\n",
    "print(x+y) # addition\n",
    "print(x-y) # subraction\n",
    "print(x*y) # multiplication\n",
    "print(x/y) # division\n",
    "print(x**y) # exponent\n",
    "print(x%y) #modulas\n",
    "print(x//y) #floor division\n"
   ]
  },
  {
   "cell_type": "code",
   "execution_count": 12,
   "id": "e5f442e8",
   "metadata": {},
   "outputs": [
    {
     "data": {
      "text/plain": [
       "1"
      ]
     },
     "execution_count": 12,
     "metadata": {},
     "output_type": "execute_result"
    }
   ],
   "source": [
    "5//3\n"
   ]
  },
  {
   "cell_type": "markdown",
   "id": "7aac3c03",
   "metadata": {},
   "source": [
    "# comparision operators"
   ]
  },
  {
   "cell_type": "code",
   "execution_count": 13,
   "id": "0623ba6e",
   "metadata": {},
   "outputs": [
    {
     "name": "stdout",
     "output_type": "stream",
     "text": [
      "False\n",
      "True\n",
      "True\n",
      "False\n",
      "True\n",
      "False\n"
     ]
    }
   ],
   "source": [
    "x,y = 10,15\n",
    "print(x==y) #equal to\n",
    "print(x!=y) # not equal to\n",
    "print(x<y) #lessthan\n",
    "print(x>y) # greater than\n",
    "print(x<=y) #less than or equal to\n",
    "print(x>=y) #greater than or equal to"
   ]
  },
  {
   "cell_type": "code",
   "execution_count": 14,
   "id": "12e3c666",
   "metadata": {},
   "outputs": [
    {
     "name": "stdout",
     "output_type": "stream",
     "text": [
      "False\n"
     ]
    }
   ],
   "source": [
    "x,y = 'hi','hello'\n",
    "print(x==y)"
   ]
  },
  {
   "cell_type": "markdown",
   "id": "81642aff",
   "metadata": {},
   "source": [
    "# identity operators"
   ]
  },
  {
   "cell_type": "code",
   "execution_count": 15,
   "id": "2e3bfb24",
   "metadata": {},
   "outputs": [
    {
     "name": "stdout",
     "output_type": "stream",
     "text": [
      "True\n",
      "True\n",
      "True\n",
      "False\n",
      "1550261010240 1550261007936\n",
      "1550170129776 1550170129776\n",
      "False\n",
      "True\n"
     ]
    }
   ],
   "source": [
    "a ='hi'\n",
    "b ='hi'\n",
    "c =[1,2,3]\n",
    "d =[1,2,3]\n",
    "print(a==b)\n",
    "print(c==d)\n",
    "print(a is b)\n",
    "print(c is d)\n",
    "print(id(c),id(d))\n",
    "print(id(a),id(b))\n",
    "print(a is not b)\n",
    "print(c is not d)"
   ]
  },
  {
   "cell_type": "markdown",
   "id": "edb106b0",
   "metadata": {},
   "source": [
    "# logical operators\n",
    "and\n",
    "or\n",
    "not"
   ]
  },
  {
   "cell_type": "code",
   "execution_count": 16,
   "id": "397b3aa7",
   "metadata": {},
   "outputs": [
    {
     "name": "stdout",
     "output_type": "stream",
     "text": [
      "False\n",
      "False\n",
      "True\n",
      "False\n"
     ]
    }
   ],
   "source": [
    "a=\"its raining today\"\n",
    "b=\"im not sick today\"\n",
    "print(a>b and a<b)\n",
    "print(a<b and a>b)\n",
    "print(a>b or a<b)\n",
    "print(a>b!=a<b)"
   ]
  },
  {
   "cell_type": "markdown",
   "id": "3a698623",
   "metadata": {},
   "source": [
    "# membership operator"
   ]
  },
  {
   "cell_type": "code",
   "execution_count": 17,
   "id": "cd1f3656",
   "metadata": {},
   "outputs": [
    {
     "data": {
      "text/plain": [
       "True"
      ]
     },
     "execution_count": 17,
     "metadata": {},
     "output_type": "execute_result"
    }
   ],
   "source": [
    "'1' in '123'"
   ]
  },
  {
   "cell_type": "code",
   "execution_count": 18,
   "id": "847e5154",
   "metadata": {},
   "outputs": [
    {
     "name": "stdout",
     "output_type": "stream",
     "text": [
      "False\n",
      "True\n"
     ]
    }
   ],
   "source": [
    "print(1 not in [1,2,3])\n",
    "print(1 in [1,2,3])"
   ]
  },
  {
   "cell_type": "markdown",
   "id": "e0809d6c",
   "metadata": {},
   "source": [
    "# bitwise operators"
   ]
  },
  {
   "cell_type": "code",
   "execution_count": 19,
   "id": "28a4a93c",
   "metadata": {},
   "outputs": [
    {
     "name": "stdout",
     "output_type": "stream",
     "text": [
      "5\n",
      "7\n",
      "2\n",
      "-8\n",
      "0\n"
     ]
    }
   ],
   "source": [
    "print(5&7) #bitwise and\n",
    "print(5|7) #bitwise or\n",
    "print(5^7) #bitwise xor\n",
    "print(~7) #bitwise not\n",
    "print(~-1) #bitwise not"
   ]
  },
  {
   "cell_type": "markdown",
   "id": "4e250fe3",
   "metadata": {},
   "source": [
    "## left shift"
   ]
  },
  {
   "cell_type": "code",
   "execution_count": 20,
   "id": "73558695",
   "metadata": {},
   "outputs": [
    {
     "name": "stdout",
     "output_type": "stream",
     "text": [
      "12\n"
     ]
    }
   ],
   "source": [
    "print(3<<2) #left shift"
   ]
  },
  {
   "cell_type": "markdown",
   "id": "2da1a72a",
   "metadata": {},
   "source": [
    "## right shift"
   ]
  },
  {
   "cell_type": "code",
   "execution_count": 21,
   "id": "40fa6f19",
   "metadata": {},
   "outputs": [
    {
     "name": "stdout",
     "output_type": "stream",
     "text": [
      "0\n"
     ]
    }
   ],
   "source": [
    "print(3>>2)"
   ]
  },
  {
   "cell_type": "markdown",
   "id": "7afce4ca",
   "metadata": {},
   "source": [
    "# assignment operators\n",
    "*var opr = value\n",
    "\n",
    "*arith = value"
   ]
  },
  {
   "cell_type": "code",
   "execution_count": 22,
   "id": "2379ffcf",
   "metadata": {},
   "outputs": [
    {
     "name": "stdout",
     "output_type": "stream",
     "text": [
      "8\n"
     ]
    }
   ],
   "source": [
    "a = 2\n",
    "a<<=2\n",
    "print(a)\n",
    "#print(a=a+2)\n",
    "#a+=2\n",
    "#print(a)"
   ]
  }
 ],
 "metadata": {
  "kernelspec": {
   "display_name": "Python 3 (ipykernel)",
   "language": "python",
   "name": "python3"
  },
  "language_info": {
   "codemirror_mode": {
    "name": "ipython",
    "version": 3
   },
   "file_extension": ".py",
   "mimetype": "text/x-python",
   "name": "python",
   "nbconvert_exporter": "python",
   "pygments_lexer": "ipython3",
   "version": "3.11.3"
  }
 },
 "nbformat": 4,
 "nbformat_minor": 5
}
