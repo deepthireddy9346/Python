{
 "cells": [
  {
   "cell_type": "markdown",
   "id": "fdbdb21f",
   "metadata": {},
   "source": [
    "# STRINGS"
   ]
  },
  {
   "cell_type": "code",
   "execution_count": 1,
   "id": "be4a55c0",
   "metadata": {},
   "outputs": [],
   "source": [
    "#len(500) #uncomment to see the error"
   ]
  },
  {
   "cell_type": "markdown",
   "id": "f4a1f233",
   "metadata": {},
   "source": [
    "# Description"
   ]
  },
  {
   "cell_type": "code",
   "execution_count": 2,
   "id": "ad53f329",
   "metadata": {},
   "outputs": [
    {
     "name": "stdout",
     "output_type": "stream",
     "text": [
      "this is a string enclosed in a single qoute\n",
      "this is a string enclosed in a double qoute\n",
      "this is a multi-line string, enclosed in a triple single qoute\n"
     ]
    }
   ],
   "source": [
    "s1='this is a string enclosed in a single qoute'\n",
    "s2=\"this is a string enclosed in a double qoute\"\n",
    "s3='''this is a multi-line string, enclosed in a triple single qoute'''\n",
    "print(s1,s2,s3,sep='\\n')"
   ]
  },
  {
   "cell_type": "markdown",
   "id": "19cb6329",
   "metadata": {},
   "source": [
    "# Indexing and slicing"
   ]
  },
  {
   "cell_type": "markdown",
   "id": "3c4260af",
   "metadata": {},
   "source": [
    "![](https://miro.medium.com/v2/resize:fit:1280/0*qDCi23-EE7HSLAre.png)"
   ]
  },
  {
   "cell_type": "code",
   "execution_count": 29,
   "id": "2104e88f",
   "metadata": {},
   "outputs": [
    {
     "name": "stdout",
     "output_type": "stream",
     "text": [
      "nac\n",
      "QR\n",
      "eo Q\n"
     ]
    }
   ],
   "source": [
    "x='scan the QR code'\n",
    "print(x[1:4][::-1])\n",
    "print(x[-7:-5])\n",
    "print(x[:-8:-2])"
   ]
  },
  {
   "cell_type": "markdown",
   "id": "4364002b",
   "metadata": {},
   "source": [
    "# String concatination"
   ]
  },
  {
   "cell_type": "markdown",
   "id": "5378eda5",
   "metadata": {},
   "source": [
    "![](https://i1.faceprep.in/Companies-1/string-concatenation-in-python.png)"
   ]
  },
  {
   "cell_type": "code",
   "execution_count": 30,
   "id": "596730f8",
   "metadata": {},
   "outputs": [
    {
     "name": "stdout",
     "output_type": "stream",
     "text": [
      "hihi\n",
      "hihihihihi\n"
     ]
    }
   ],
   "source": [
    "x='hi'\n",
    "print(x+x)\n",
    "print(x*5)"
   ]
  },
  {
   "cell_type": "code",
   "execution_count": 31,
   "id": "02b68743",
   "metadata": {},
   "outputs": [
    {
     "data": {
      "text/plain": [
       "'the edoc'"
      ]
     },
     "execution_count": 31,
     "metadata": {},
     "output_type": "execute_result"
    }
   ],
   "source": [
    "x='scan the QR code'\n",
    "x[5:9]+x[-1:-5:-1]"
   ]
  },
  {
   "cell_type": "code",
   "execution_count": 32,
   "id": "6f94b053",
   "metadata": {},
   "outputs": [
    {
     "name": "stdout",
     "output_type": "stream",
     "text": [
      "True False\n",
      "scan the QR code\n"
     ]
    },
    {
     "data": {
      "text/plain": [
       "16"
      ]
     },
     "execution_count": 32,
     "metadata": {},
     "output_type": "execute_result"
    }
   ],
   "source": [
    "x='scan the QR code'\n",
    "print('scan' in x,'Scan' in x)\n",
    "print(x)\n",
    "len(x)"
   ]
  },
  {
   "cell_type": "markdown",
   "id": "c5967170",
   "metadata": {},
   "source": [
    "# Methods in string"
   ]
  },
  {
   "cell_type": "code",
   "execution_count": 33,
   "id": "bcdcc5f7",
   "metadata": {},
   "outputs": [
    {
     "data": {
      "text/plain": [
       "['__add__',\n",
       " '__class__',\n",
       " '__contains__',\n",
       " '__delattr__',\n",
       " '__dir__',\n",
       " '__doc__',\n",
       " '__eq__',\n",
       " '__format__',\n",
       " '__ge__',\n",
       " '__getattribute__',\n",
       " '__getitem__',\n",
       " '__getnewargs__',\n",
       " '__getstate__',\n",
       " '__gt__',\n",
       " '__hash__',\n",
       " '__init__',\n",
       " '__init_subclass__',\n",
       " '__iter__',\n",
       " '__le__',\n",
       " '__len__',\n",
       " '__lt__',\n",
       " '__mod__',\n",
       " '__mul__',\n",
       " '__ne__',\n",
       " '__new__',\n",
       " '__reduce__',\n",
       " '__reduce_ex__',\n",
       " '__repr__',\n",
       " '__rmod__',\n",
       " '__rmul__',\n",
       " '__setattr__',\n",
       " '__sizeof__',\n",
       " '__str__',\n",
       " '__subclasshook__',\n",
       " 'capitalize',\n",
       " 'casefold',\n",
       " 'center',\n",
       " 'count',\n",
       " 'encode',\n",
       " 'endswith',\n",
       " 'expandtabs',\n",
       " 'find',\n",
       " 'format',\n",
       " 'format_map',\n",
       " 'index',\n",
       " 'isalnum',\n",
       " 'isalpha',\n",
       " 'isascii',\n",
       " 'isdecimal',\n",
       " 'isdigit',\n",
       " 'isidentifier',\n",
       " 'islower',\n",
       " 'isnumeric',\n",
       " 'isprintable',\n",
       " 'isspace',\n",
       " 'istitle',\n",
       " 'isupper',\n",
       " 'join',\n",
       " 'ljust',\n",
       " 'lower',\n",
       " 'lstrip',\n",
       " 'maketrans',\n",
       " 'partition',\n",
       " 'removeprefix',\n",
       " 'removesuffix',\n",
       " 'replace',\n",
       " 'rfind',\n",
       " 'rindex',\n",
       " 'rjust',\n",
       " 'rpartition',\n",
       " 'rsplit',\n",
       " 'rstrip',\n",
       " 'split',\n",
       " 'splitlines',\n",
       " 'startswith',\n",
       " 'strip',\n",
       " 'swapcase',\n",
       " 'title',\n",
       " 'translate',\n",
       " 'upper',\n",
       " 'zfill']"
      ]
     },
     "execution_count": 33,
     "metadata": {},
     "output_type": "execute_result"
    }
   ],
   "source": [
    "dir(x)"
   ]
  },
  {
   "cell_type": "code",
   "execution_count": 34,
   "id": "affa0308",
   "metadata": {},
   "outputs": [
    {
     "data": {
      "text/plain": [
       "47"
      ]
     },
     "execution_count": 34,
     "metadata": {},
     "output_type": "execute_result"
    }
   ],
   "source": [
    "z=['capitalize',\n",
    " 'casefold',\n",
    " 'center',\n",
    " 'count',\n",
    " 'encode',\n",
    " 'endswith',\n",
    " 'expandtabs',\n",
    " 'find',\n",
    " 'format',\n",
    " 'format_map',\n",
    " 'index',\n",
    " 'isalnum',\n",
    " 'isalpha',\n",
    " 'isascii',\n",
    " 'isdecimal',\n",
    " 'isdigit',\n",
    " 'isidentifier',\n",
    " 'islower',\n",
    " 'isnumeric',\n",
    " 'isprintable',\n",
    " 'isspace',\n",
    " 'istitle',\n",
    " 'isupper',\n",
    " 'join',\n",
    " 'ljust',\n",
    " 'lower',\n",
    " 'lstrip',\n",
    " 'maketrans',\n",
    " 'partition',\n",
    " 'removeprefix',\n",
    " 'removesuffix',\n",
    " 'replace',\n",
    " 'rfind',\n",
    " 'rindex',\n",
    " 'rjust',\n",
    " 'rpartition',\n",
    " 'rsplit',\n",
    " 'rstrip',\n",
    " 'split',\n",
    " 'splitlines',\n",
    " 'startswith',\n",
    " 'strip',\n",
    " 'swapcase',\n",
    " 'title',\n",
    " 'translate',\n",
    " 'upper',\n",
    " 'zfill']\n",
    "len(z)"
   ]
  },
  {
   "cell_type": "code",
   "execution_count": 35,
   "id": "aacad079",
   "metadata": {},
   "outputs": [
    {
     "data": {
      "text/plain": [
       "'x+abaaba'"
      ]
     },
     "execution_count": 35,
     "metadata": {},
     "output_type": "execute_result"
    }
   ],
   "source": [
    "x='x+abaaba'\n",
    "x.replace('X','A')"
   ]
  },
  {
   "cell_type": "markdown",
   "id": "84676e2b",
   "metadata": {},
   "source": [
    "# Replace"
   ]
  },
  {
   "cell_type": "code",
   "execution_count": 36,
   "id": "3d29628f",
   "metadata": {},
   "outputs": [
    {
     "name": "stdout",
     "output_type": "stream",
     "text": [
      "Help on built-in function replace:\n",
      "\n",
      "replace(old, new, count=-1, /) method of builtins.str instance\n",
      "    Return a copy with all occurrences of substring old replaced by new.\n",
      "    \n",
      "      count\n",
      "        Maximum number of occurrences to replace.\n",
      "        -1 (the default value) means replace all occurrences.\n",
      "    \n",
      "    If the optional argument count is given, only the first count occurrences are\n",
      "    replaced.\n",
      "\n"
     ]
    }
   ],
   "source": [
    "help(x.replace)"
   ]
  },
  {
   "cell_type": "markdown",
   "id": "31e835e9",
   "metadata": {},
   "source": [
    "# Uppercase"
   ]
  },
  {
   "cell_type": "code",
   "execution_count": 37,
   "id": "ec147533",
   "metadata": {},
   "outputs": [
    {
     "name": "stdout",
     "output_type": "stream",
     "text": [
      "Help on built-in function upper:\n",
      "\n",
      "upper() method of builtins.str instance\n",
      "    Return a copy of the string converted to uppercase.\n",
      "\n"
     ]
    }
   ],
   "source": [
    "help(s.upper)"
   ]
  },
  {
   "cell_type": "code",
   "execution_count": 38,
   "id": "5a14ff7c",
   "metadata": {},
   "outputs": [
    {
     "name": "stdout",
     "output_type": "stream",
     "text": [
      "welcome@123\n",
      "WELCOME@123\n"
     ]
    }
   ],
   "source": [
    "s=\"welcome@123\"\n",
    "a=s.upper()\n",
    "#print(a)\n",
    "#print(s)\n",
    "print(s,a,sep='\\n')"
   ]
  },
  {
   "cell_type": "code",
   "execution_count": 39,
   "id": "79304f53",
   "metadata": {},
   "outputs": [
    {
     "name": "stdout",
     "output_type": "stream",
     "text": [
      "Im Too late to Catch the TRAIN at the Railwaystation\n",
      "IM TOO LATE TO CATCH the TRAIN at RAILWAYSTATION\n"
     ]
    }
   ],
   "source": [
    "s=\"Im Too late to Catch TRAIN In Railwaystation\"\n",
    "a=s.upper()\n",
    "print(s,a,sep='\\n')"
   ]
  },
  {
   "cell_type": "markdown",
   "id": "c23c7e58",
   "metadata": {},
   "source": [
    "# Lowercase"
   ]
  },
  {
   "cell_type": "code",
   "execution_count": 40,
   "id": "345815be",
   "metadata": {},
   "outputs": [
    {
     "name": "stdout",
     "output_type": "stream",
     "text": [
      "Help on built-in function lower:\n",
      "\n",
      "lower() method of builtins.str instance\n",
      "    Return a copy of the string converted to lowercase.\n",
      "\n"
     ]
    }
   ],
   "source": [
    "help(s.lower)"
   ]
  },
  {
   "cell_type": "code",
   "execution_count": 41,
   "id": "b1161591",
   "metadata": {},
   "outputs": [
    {
     "name": "stdout",
     "output_type": "stream",
     "text": [
      "welcome@123\n",
      "welcome@123\n"
     ]
    }
   ],
   "source": [
    "s=\"welcome@123\"\n",
    "a=s.lower()\n",
    "print(s,a,sep='\\n')"
   ]
  },
  {
   "cell_type": "code",
   "execution_count": 42,
   "id": "d4773dca",
   "metadata": {},
   "outputs": [
    {
     "name": "stdout",
     "output_type": "stream",
     "text": [
      "Im Too late to Catch TRAIN In Railwaystation\n",
      "im too late to catch train in railwaystation\n"
     ]
    }
   ],
   "source": [
    "s=\"Im Too late to Catch TRAIN In Railwaystation\"\n",
    "a=s.lower()\n",
    "print(s,a,sep='\\n')"
   ]
  },
  {
   "cell_type": "markdown",
   "id": "60d97fd2",
   "metadata": {},
   "source": [
    "# Title"
   ]
  },
  {
   "cell_type": "code",
   "execution_count": 43,
   "id": "84c9deb6",
   "metadata": {},
   "outputs": [
    {
     "name": "stdout",
     "output_type": "stream",
     "text": [
      "Help on built-in function title:\n",
      "\n",
      "title() method of builtins.str instance\n",
      "    Return a version of the string where each word is titlecased.\n",
      "    \n",
      "    More specifically, words start with uppercased characters and all remaining\n",
      "    cased characters have lower case.\n",
      "\n"
     ]
    }
   ],
   "source": [
    "help(x.title)"
   ]
  },
  {
   "cell_type": "code",
   "execution_count": 44,
   "id": "62c2dc61",
   "metadata": {},
   "outputs": [
    {
     "data": {
      "text/plain": [
       "'Game Of Thrones!!!'"
      ]
     },
     "execution_count": 44,
     "metadata": {},
     "output_type": "execute_result"
    }
   ],
   "source": [
    "s='game of thrones!!!'\n",
    "s.title()\n",
    "\n"
   ]
  },
  {
   "cell_type": "code",
   "execution_count": 45,
   "id": "b63f3226",
   "metadata": {},
   "outputs": [
    {
     "name": "stdout",
     "output_type": "stream",
     "text": [
      "My Favorite Number Is 27.\n",
      "234 K3L2 *43 Fun\n"
     ]
    }
   ],
   "source": [
    "a = 'My favorite number is 27.'\n",
    "print(a.title())\n",
    "\n",
    "a = '234 k3l2 *43 fun'\n",
    "print(a.title())"
   ]
  },
  {
   "cell_type": "markdown",
   "id": "e0b4d6db",
   "metadata": {},
   "source": [
    "# ordered"
   ]
  },
  {
   "cell_type": "code",
   "execution_count": 46,
   "id": "adb43efc",
   "metadata": {},
   "outputs": [
    {
     "name": "stdout",
     "output_type": "stream",
     "text": [
      "98\n",
      "B\n"
     ]
    }
   ],
   "source": [
    "print(ord('b'))\n",
    "print(chr(ord('b')-32))"
   ]
  },
  {
   "cell_type": "code",
   "execution_count": 47,
   "id": "9aa126ac",
   "metadata": {},
   "outputs": [
    {
     "name": "stdout",
     "output_type": "stream",
     "text": [
      "99\n",
      "c\n"
     ]
    }
   ],
   "source": [
    "print(ord('c'))\n",
    "print(chr(ord('C')+32))"
   ]
  },
  {
   "cell_type": "code",
   "execution_count": 48,
   "id": "87a113ea",
   "metadata": {},
   "outputs": [
    {
     "name": "stdout",
     "output_type": "stream",
     "text": [
      "68\n",
      "D\n"
     ]
    }
   ],
   "source": [
    "print(ord('D'))\n",
    "print(chr(ord('d')-32))"
   ]
  },
  {
   "cell_type": "markdown",
   "id": "bb59bd3d",
   "metadata": {},
   "source": [
    "# swapcase"
   ]
  },
  {
   "cell_type": "code",
   "execution_count": 49,
   "id": "d647eed9",
   "metadata": {},
   "outputs": [
    {
     "name": "stdout",
     "output_type": "stream",
     "text": [
      "Help on built-in function swapcase:\n",
      "\n",
      "swapcase() method of builtins.str instance\n",
      "    Convert uppercase characters to lowercase and lowercase characters to uppercase.\n",
      "\n"
     ]
    }
   ],
   "source": [
    "help(s.swapcase)"
   ]
  },
  {
   "cell_type": "code",
   "execution_count": 50,
   "id": "ba83859a",
   "metadata": {},
   "outputs": [
    {
     "data": {
      "text/plain": [
       "'gAME oF tHRONES!!!'"
      ]
     },
     "execution_count": 50,
     "metadata": {},
     "output_type": "execute_result"
    }
   ],
   "source": [
    "s='Game Of Thrones!!!'\n",
    "s.swapcase()"
   ]
  },
  {
   "cell_type": "code",
   "execution_count": 51,
   "id": "6f584d47",
   "metadata": {},
   "outputs": [
    {
     "name": "stdout",
     "output_type": "stream",
     "text": [
      "mY FAVORITE NUMBER IS 27.\n",
      "234 K3L2 *43 FUN\n"
     ]
    }
   ],
   "source": [
    "a = 'My favorite number is 27.'\n",
    "print(a.swapcase())\n",
    "\n",
    "a = '234 k3l2 *43 fun'\n",
    "print(a.swapcase())"
   ]
  },
  {
   "cell_type": "markdown",
   "id": "86fbd727",
   "metadata": {},
   "source": [
    "# Casefold"
   ]
  },
  {
   "cell_type": "code",
   "execution_count": 52,
   "id": "9b82bf32",
   "metadata": {},
   "outputs": [
    {
     "data": {
      "text/plain": [
       "('ß is a german char', 'ss is a german char')"
      ]
     },
     "execution_count": 52,
     "metadata": {},
     "output_type": "execute_result"
    }
   ],
   "source": [
    "s='ß is a german char'\n",
    "s.lower(),s.casefold()"
   ]
  },
  {
   "cell_type": "code",
   "execution_count": 53,
   "id": "72c248fa",
   "metadata": {},
   "outputs": [
    {
     "data": {
      "text/plain": [
       "('¡de nada is a german char', '¡de nada is a german char')"
      ]
     },
     "execution_count": 53,
     "metadata": {},
     "output_type": "execute_result"
    }
   ],
   "source": [
    "s='¡de nada is a german char'\n",
    "s.lower(),s.casefold()\n"
   ]
  },
  {
   "cell_type": "code",
   "execution_count": 54,
   "id": "e027b15b",
   "metadata": {},
   "outputs": [
    {
     "data": {
      "text/plain": [
       "('b is a english char', 'b is a english char')"
      ]
     },
     "execution_count": 54,
     "metadata": {},
     "output_type": "execute_result"
    }
   ],
   "source": [
    "s='B is a english char'\n",
    "s.lower(),s.casefold()"
   ]
  },
  {
   "cell_type": "code",
   "execution_count": 55,
   "id": "b73a488e",
   "metadata": {},
   "outputs": [
    {
     "name": "stdout",
     "output_type": "stream",
     "text": [
      "Help on built-in function casefold:\n",
      "\n",
      "casefold() method of builtins.str instance\n",
      "    Return a version of the string suitable for caseless comparisons.\n",
      "\n"
     ]
    }
   ],
   "source": [
    "help(s.casefold)"
   ]
  },
  {
   "cell_type": "markdown",
   "id": "c8097ebc",
   "metadata": {},
   "source": [
    "# capitalize"
   ]
  },
  {
   "cell_type": "code",
   "execution_count": 56,
   "id": "1543b8b3",
   "metadata": {},
   "outputs": [
    {
     "name": "stdout",
     "output_type": "stream",
     "text": [
      "126game of THRONES\n",
      "126game of thrones\n"
     ]
    }
   ],
   "source": [
    "s= '126game of THRONES'\n",
    "sc=s.capitalize()\n",
    "print(s,sc,sep='\\n')"
   ]
  },
  {
   "cell_type": "code",
   "execution_count": 57,
   "id": "50b45389",
   "metadata": {},
   "outputs": [
    {
     "name": "stdout",
     "output_type": "stream",
     "text": [
      "My favorite number is 27.\n",
      "My favorite number is 27.\n",
      "234 k3l2 *43 fun\n"
     ]
    }
   ],
   "source": [
    "a = 'My favorite number is 27.'\n",
    "b=(a.capitalize())\n",
    "print(a,b,sep='\\n')\n",
    "\n",
    "\n",
    "a = '234 k3l2 *43 fun'\n",
    "print(a.capitalize())"
   ]
  },
  {
   "cell_type": "code",
   "execution_count": 58,
   "id": "b7b57edc",
   "metadata": {},
   "outputs": [
    {
     "name": "stdout",
     "output_type": "stream",
     "text": [
      "Help on built-in function capitalize:\n",
      "\n",
      "capitalize() method of builtins.str instance\n",
      "    Return a capitalized version of the string.\n",
      "    \n",
      "    More specifically, make the first character have upper case and the rest lower\n",
      "    case.\n",
      "\n"
     ]
    }
   ],
   "source": [
    "help(s.capitalize)"
   ]
  }
 ],
 "metadata": {
  "kernelspec": {
   "display_name": "Python 3 (ipykernel)",
   "language": "python",
   "name": "python3"
  },
  "language_info": {
   "codemirror_mode": {
    "name": "ipython",
    "version": 3
   },
   "file_extension": ".py",
   "mimetype": "text/x-python",
   "name": "python",
   "nbconvert_exporter": "python",
   "pygments_lexer": "ipython3",
   "version": "3.11.3"
  }
 },
 "nbformat": 4,
 "nbformat_minor": 5
}
