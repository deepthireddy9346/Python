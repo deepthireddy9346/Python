{
 "cells": [
  {
   "cell_type": "markdown",
   "id": "365ce32a",
   "metadata": {},
   "source": [
    "# <center> Resume </center>\n"
   ]
  },
  {
   "cell_type": "markdown",
   "id": "b031f63c",
   "metadata": {},
   "source": [
    "  \n",
    "## <u>Personal Details</u>  <img align=\"right\" src=\"data:image/jpg;base64,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\">\n",
    "\n",
    "<b>Name : </b> <right> Kesamreddy Deepthi </right>\n",
    "\n",
    "<b>Mobile : </b> 9346445126\n",
    "\n",
    "<b>Email : </b> <u>deepthikesamreddy@gmail.com</u>\n",
    "\n",
    "<b>Date of birth : </b> 03/01/2002\n",
    "\n",
    "<b>Gender : </b> Female\n",
    "\n",
    "<b>LinkedIn : </b>  [click here](https://www.linkedin.com/in/kesamreddy-deepthi-813a931b7/)\n",
    "\n",
    "<b>GitHub : </b>  [click here](https://github.com/deepthireddy9346)\n",
    "       \n",
    "\n"
   ]
  },
  {
   "cell_type": "markdown",
   "id": "311ae9c2",
   "metadata": {},
   "source": [
    "## <u>Career Objective</u>\n",
    "\n",
    "   Aiming to secure a challenging position in progressive organization where can shape my career and to build a\n",
    "intellectual and interactive environment with\n",
    "\n",
    "passion to limitless opportunities for betterment of organization . To\n",
    "master new technologies,to explore and enhance my skills, work hard and smart.\n"
   ]
  },
  {
   "cell_type": "markdown",
   "id": "e2921d8e",
   "metadata": {},
   "source": [
    "##  <u>Education</u>\n",
    "\n",
    "<b> 2019 – 2023 : </b> B.E(EEE),New Horizon College Of Engineering, Bangalore\n",
    "\n",
    "<b> 2017 – 2019 : </b> Class 12th,Sri Chaitanya junior college,State board\n",
    "\n",
    "<b> 2016 – 2017 : </b> Class 10th,Montessori Indus E.M HighSchool,State board"
   ]
  },
  {
   "cell_type": "markdown",
   "id": "d89a2e45",
   "metadata": {},
   "source": [
    "## <u>Projects</u>\n",
    "\n",
    "1. Arduino based automatic plant watering system.\n",
    "\n",
    "\n",
    "2. Doorbell Controlled Security Switch.\n",
    "\n",
    "3. Motion Sensor Security Camera Using ESP32-CAM.\n",
    "\n",
    "4. Temperature Based Fan Speed Control Using Arduino And LM32 Sensor.\n",
    "\n",
    "5. Prepaid Energy Meter With Theft Detection Using IoT.\n"
   ]
  },
  {
   "cell_type": "markdown",
   "id": "7e78f17b",
   "metadata": {},
   "source": [
    "## <u>Skills</u>\n",
    "\n",
    "* Programming languages:C,OOPS,DSA. \n",
    "\n",
    "* Circuitstimulation: Tinker Caed, Proteus,Pspice,Muiltisim,LTspice. \n",
    "\n",
    "* Microcontrollers and Arduino operating, Machines operatingtechnique. \n",
    "\n",
    "* Softwares: Microsoft office tools, Solid edge,Matlab,Unity pro,Keil."
   ]
  },
  {
   "cell_type": "markdown",
   "id": "fec32045",
   "metadata": {},
   "source": [
    "## <u>Interests</u>\n",
    "\n",
    "* Data science\n",
    "\n",
    "* Automation and IoT\n",
    "\n",
    "* Photography\n",
    "\n",
    "* Gamification"
   ]
  },
  {
   "cell_type": "markdown",
   "id": "90af03b6",
   "metadata": {},
   "source": [
    "## <u>Decleration</u>\n",
    "\n",
    "I hereby declare that the above information provided above is true to the best of my knowledge."
   ]
  },
  {
   "cell_type": "markdown",
   "id": "6f0b9b55",
   "metadata": {},
   "source": [
    "<b> Date : </b>\n",
    "\n",
    "<b> Place : </b> Hyderabad\n",
    "\n",
    "<div style=\"text-align: right\"> <b>Kesamreddy Deepthi</b> </div>\n"
   ]
  },
  {
   "cell_type": "code",
   "execution_count": null,
   "id": "45a5f5fd",
   "metadata": {},
   "outputs": [],
   "source": []
  }
 ],
 "metadata": {
  "kernelspec": {
   "display_name": "Python 3 (ipykernel)",
   "language": "python",
   "name": "python3"
  },
  "language_info": {
   "codemirror_mode": {
    "name": "ipython",
    "version": 3
   },
   "file_extension": ".py",
   "mimetype": "text/x-python",
   "name": "python",
   "nbconvert_exporter": "python",
   "pygments_lexer": "ipython3",
   "version": "3.11.3"
  }
 },
 "nbformat": 4,
 "nbformat_minor": 5
}
