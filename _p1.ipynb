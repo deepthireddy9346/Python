{
 "cells": [
  {
   "cell_type": "markdown",
   "id": "b5e63f8b",
   "metadata": {},
   "source": [
    "# Intro to notebooks"
   ]
  },
  {
   "cell_type": "markdown",
   "id": "20ac6847",
   "metadata": {},
   "source": [
    "## - Markdown"
   ]
  },
  {
   "cell_type": "markdown",
   "id": "f7703695",
   "metadata": {},
   "source": [
    "* point-1\n",
    "  * point 1.1\n",
    "\n",
    "1. step - 1\n",
    "\n",
    "    1a. step 1.1"
   ]
  },
  {
   "cell_type": "markdown",
   "id": "b8ae8197",
   "metadata": {},
   "source": [
    "<b> this text is bold </b>\n",
    "\n",
    "<i> this text is itallic </i>\n",
    "\n",
    "<u> this text is itallic </u>\n"
   ]
  },
  {
   "cell_type": "markdown",
   "id": "f787320b",
   "metadata": {},
   "source": [
    "<b> Hi, good morning everyone </b>\n",
    "\n",
    "<i> Hi, god morning everyone  </i>"
   ]
  },
  {
   "cell_type": "markdown",
   "id": "fabeb3dc",
   "metadata": {},
   "source": [
    "<b><u> Deepthi </u></b>"
   ]
  },
  {
   "cell_type": "markdown",
   "id": "59562036",
   "metadata": {},
   "source": [
    "<i><u> Deepthi </u></i>"
   ]
  },
  {
   "cell_type": "markdown",
   "id": "e8a2495b",
   "metadata": {},
   "source": [
    "<b><i> Deepthi </i></b>"
   ]
  },
  {
   "cell_type": "markdown",
   "id": "04529b75",
   "metadata": {},
   "source": [
    " go to google ,[click here](https://www.google.co.in/) </div>"
   ]
  },
  {
   "cell_type": "markdown",
   "id": "510b09fa",
   "metadata": {},
   "source": [
    "> Text\n",
    "    \n",
    "       > This is a block qoute for above text"
   ]
  },
  {
   "cell_type": "markdown",
   "id": "b4bbcb39",
   "metadata": {},
   "source": [
    "> text"
   ]
  },
  {
   "cell_type": "markdown",
   "id": "097803a4",
   "metadata": {},
   "source": [
    "to go to google,[click here](https://www.google.co.in/)"
   ]
  },
  {
   "cell_type": "markdown",
   "id": "f360c70f",
   "metadata": {},
   "source": [
    "![](data:image/jpeg;base64,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)"
   ]
  },
  {
   "cell_type": "code",
   "execution_count": 2,
   "id": "f29183d0",
   "metadata": {},
   "outputs": [
    {
     "name": "stdout",
     "output_type": "stream",
     "text": [
      "hello world\n"
     ]
    }
   ],
   "source": [
    "print(\"hello world\")"
   ]
  },
  {
   "cell_type": "code",
   "execution_count": null,
   "id": "eaa885fd",
   "metadata": {},
   "outputs": [],
   "source": []
  }
 ],
 "metadata": {
  "kernelspec": {
   "display_name": "Python 3 (ipykernel)",
   "language": "python",
   "name": "python3"
  },
  "language_info": {
   "codemirror_mode": {
    "name": "ipython",
    "version": 3
   },
   "file_extension": ".py",
   "mimetype": "text/x-python",
   "name": "python",
   "nbconvert_exporter": "python",
   "pygments_lexer": "ipython3",
   "version": "3.11.3"
  }
 },
 "nbformat": 4,
 "nbformat_minor": 5
}
