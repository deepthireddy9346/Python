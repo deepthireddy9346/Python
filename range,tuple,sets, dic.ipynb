{
 "cells": [
  {
   "cell_type": "markdown",
   "id": "c7704e79",
   "metadata": {},
   "source": [
    "# range\n",
    "* You need to convert range object into a list/tuple by type casting , if we need to interspect every element\n",
    "* range object can be directly used as an iterator\n",
    "*                        range[start,end,step]"
   ]
  },
  {
   "cell_type": "code",
   "execution_count": 1,
   "id": "6a9b8441",
   "metadata": {},
   "outputs": [
    {
     "data": {
      "text/plain": [
       "[0, 1, 2, 3, 4]"
      ]
     },
     "execution_count": 1,
     "metadata": {},
     "output_type": "execute_result"
    }
   ],
   "source": [
    "list(range(5))"
   ]
  },
  {
   "cell_type": "code",
   "execution_count": 2,
   "id": "7ecc82c7",
   "metadata": {},
   "outputs": [
    {
     "data": {
      "text/plain": [
       "[-1, -2, -3, -4, -5, -6, -7, -8, -9, -10, -11]"
      ]
     },
     "execution_count": 2,
     "metadata": {},
     "output_type": "execute_result"
    }
   ],
   "source": [
    "list(range(-1,-12,-1))"
   ]
  },
  {
   "cell_type": "code",
   "execution_count": 3,
   "id": "662410c8",
   "metadata": {},
   "outputs": [
    {
     "data": {
      "text/plain": [
       "[-11, -10, -9, -8, -7, -6, -5, -4, -3, -2, -1]"
      ]
     },
     "execution_count": 3,
     "metadata": {},
     "output_type": "execute_result"
    }
   ],
   "source": [
    "list(range(-11,0))"
   ]
  },
  {
   "cell_type": "code",
   "execution_count": 4,
   "id": "468aa784",
   "metadata": {},
   "outputs": [
    {
     "data": {
      "text/plain": [
       "[]"
      ]
     },
     "execution_count": 4,
     "metadata": {},
     "output_type": "execute_result"
    }
   ],
   "source": [
    "list()"
   ]
  },
  {
   "cell_type": "markdown",
   "id": "b66671eb",
   "metadata": {},
   "source": [
    "# tuple\n",
    "* it is immutable\n",
    "* a=tuple()\n",
    "* tuples are class"
   ]
  },
  {
   "cell_type": "code",
   "execution_count": 5,
   "id": "41b7e0f7",
   "metadata": {},
   "outputs": [
    {
     "data": {
      "text/plain": [
       "((), 0)"
      ]
     },
     "execution_count": 5,
     "metadata": {},
     "output_type": "execute_result"
    }
   ],
   "source": [
    "a=tuple()\n",
    "a,len(a)"
   ]
  },
  {
   "cell_type": "code",
   "execution_count": 6,
   "id": "aeed8468",
   "metadata": {},
   "outputs": [
    {
     "data": {
      "text/plain": [
       "(('H', 'e', 'l', 'l', 'o'), 5)"
      ]
     },
     "execution_count": 6,
     "metadata": {},
     "output_type": "execute_result"
    }
   ],
   "source": [
    "a=tuple('Hello')\n",
    "a,len(a)"
   ]
  },
  {
   "cell_type": "code",
   "execution_count": 7,
   "id": "3de4fbbe",
   "metadata": {},
   "outputs": [
    {
     "name": "stdout",
     "output_type": "stream",
     "text": [
      "1\n",
      "print\n",
      "(1, (3-3j), 'print')\n",
      "('print', (3-3j), 1)\n"
     ]
    }
   ],
   "source": [
    "a=(1,2,3-3j,False,'print')\n",
    "print(a[0])\n",
    "print(a[-1])\n",
    "print(a[::2])\n",
    "print(a[::-2])"
   ]
  },
  {
   "cell_type": "code",
   "execution_count": 8,
   "id": "3f1e6c0f",
   "metadata": {},
   "outputs": [
    {
     "name": "stdout",
     "output_type": "stream",
     "text": [
      "26\n",
      "87\n",
      "[26, 'Deepthi']\n",
      "[False, 56]\n"
     ]
    }
   ],
   "source": [
    "x=[26,56,87,True,'Deepthi',False]\n",
    "print(x[0])\n",
    "print(x[-4])\n",
    "print(x[::4])\n",
    "print(x[::-4])"
   ]
  },
  {
   "cell_type": "code",
   "execution_count": 9,
   "id": "bdbb5b75",
   "metadata": {},
   "outputs": [
    {
     "data": {
      "text/plain": [
       "['__add__',\n",
       " '__class__',\n",
       " '__class_getitem__',\n",
       " '__contains__',\n",
       " '__delattr__',\n",
       " '__dir__',\n",
       " '__doc__',\n",
       " '__eq__',\n",
       " '__format__',\n",
       " '__ge__',\n",
       " '__getattribute__',\n",
       " '__getitem__',\n",
       " '__getnewargs__',\n",
       " '__getstate__',\n",
       " '__gt__',\n",
       " '__hash__',\n",
       " '__init__',\n",
       " '__init_subclass__',\n",
       " '__iter__',\n",
       " '__le__',\n",
       " '__len__',\n",
       " '__lt__',\n",
       " '__mul__',\n",
       " '__ne__',\n",
       " '__new__',\n",
       " '__reduce__',\n",
       " '__reduce_ex__',\n",
       " '__repr__',\n",
       " '__rmul__',\n",
       " '__setattr__',\n",
       " '__sizeof__',\n",
       " '__str__',\n",
       " '__subclasshook__',\n",
       " 'count',\n",
       " 'index']"
      ]
     },
     "execution_count": 9,
     "metadata": {},
     "output_type": "execute_result"
    }
   ],
   "source": [
    "dir(tuple)"
   ]
  },
  {
   "cell_type": "code",
   "execution_count": 10,
   "id": "a258a84a",
   "metadata": {},
   "outputs": [
    {
     "name": "stdout",
     "output_type": "stream",
     "text": [
      "0\n",
      "2\n"
     ]
    }
   ],
   "source": [
    "b=(1,2,3,1,2,3)\n",
    "print(b.index(1))\n",
    "print(b.count(1))"
   ]
  },
  {
   "cell_type": "code",
   "execution_count": 11,
   "id": "bc8553b8",
   "metadata": {},
   "outputs": [
    {
     "data": {
      "text/plain": [
       "([5], list, 1)"
      ]
     },
     "execution_count": 11,
     "metadata": {},
     "output_type": "execute_result"
    }
   ],
   "source": [
    "a=[5]\n",
    "a,type(a),len(a)\n",
    "[5],list,1"
   ]
  },
  {
   "cell_type": "code",
   "execution_count": 12,
   "id": "e4457600",
   "metadata": {},
   "outputs": [
    {
     "data": {
      "text/plain": [
       "((5,), tuple, 1)"
      ]
     },
     "execution_count": 12,
     "metadata": {},
     "output_type": "execute_result"
    }
   ],
   "source": [
    "a=(5,)\n",
    "a,type(a),len(a)\n"
   ]
  },
  {
   "cell_type": "markdown",
   "id": "d228765e",
   "metadata": {},
   "source": [
    "# sets\n",
    "* sets are unordered hetrogeneous clustres \n",
    "* which are mutable\n",
    "* no sequence,no indexing and slicing\n",
    "* sets are enclosed in {}\n",
    "* set()\n",
    "* it takes an iterator\n",
    "* once set is created will not entertain duplicate\n",
    "* for element in b:print(Element)"
   ]
  },
  {
   "cell_type": "code",
   "execution_count": 13,
   "id": "4efb1fc2",
   "metadata": {},
   "outputs": [
    {
     "data": {
      "text/plain": [
       "{1, 2, 3}"
      ]
     },
     "execution_count": 13,
     "metadata": {},
     "output_type": "execute_result"
    }
   ],
   "source": [
    "a={1,2,3,1,2,3}\n",
    "a"
   ]
  },
  {
   "cell_type": "code",
   "execution_count": 14,
   "id": "444ae7b9",
   "metadata": {},
   "outputs": [
    {
     "data": {
      "text/plain": [
       "{1}"
      ]
     },
     "execution_count": 14,
     "metadata": {},
     "output_type": "execute_result"
    }
   ],
   "source": [
    "a={1,1,1,1,1}\n",
    "a"
   ]
  },
  {
   "cell_type": "code",
   "execution_count": 15,
   "id": "4a529e5f",
   "metadata": {},
   "outputs": [
    {
     "data": {
      "text/plain": [
       "{0, 1, 2, 3}"
      ]
     },
     "execution_count": 15,
     "metadata": {},
     "output_type": "execute_result"
    }
   ],
   "source": [
    "b={1,2,3,True,0,False} # true and false are nothing but 0,1\n",
    "b\n"
   ]
  },
  {
   "cell_type": "code",
   "execution_count": 16,
   "id": "bada840a",
   "metadata": {
    "scrolled": true
   },
   "outputs": [
    {
     "data": {
      "text/plain": [
       "['__and__',\n",
       " '__class__',\n",
       " '__class_getitem__',\n",
       " '__contains__',\n",
       " '__delattr__',\n",
       " '__dir__',\n",
       " '__doc__',\n",
       " '__eq__',\n",
       " '__format__',\n",
       " '__ge__',\n",
       " '__getattribute__',\n",
       " '__getstate__',\n",
       " '__gt__',\n",
       " '__hash__',\n",
       " '__iand__',\n",
       " '__init__',\n",
       " '__init_subclass__',\n",
       " '__ior__',\n",
       " '__isub__',\n",
       " '__iter__',\n",
       " '__ixor__',\n",
       " '__le__',\n",
       " '__len__',\n",
       " '__lt__',\n",
       " '__ne__',\n",
       " '__new__',\n",
       " '__or__',\n",
       " '__rand__',\n",
       " '__reduce__',\n",
       " '__reduce_ex__',\n",
       " '__repr__',\n",
       " '__ror__',\n",
       " '__rsub__',\n",
       " '__rxor__',\n",
       " '__setattr__',\n",
       " '__sizeof__',\n",
       " '__str__',\n",
       " '__sub__',\n",
       " '__subclasshook__',\n",
       " '__xor__',\n",
       " 'add',\n",
       " 'clear',\n",
       " 'copy',\n",
       " 'difference',\n",
       " 'difference_update',\n",
       " 'discard',\n",
       " 'intersection',\n",
       " 'intersection_update',\n",
       " 'isdisjoint',\n",
       " 'issubset',\n",
       " 'issuperset',\n",
       " 'pop',\n",
       " 'remove',\n",
       " 'symmetric_difference',\n",
       " 'symmetric_difference_update',\n",
       " 'union',\n",
       " 'update']"
      ]
     },
     "execution_count": 16,
     "metadata": {},
     "output_type": "execute_result"
    }
   ],
   "source": [
    "dir(set)"
   ]
  },
  {
   "cell_type": "code",
   "execution_count": 17,
   "id": "da04579e",
   "metadata": {},
   "outputs": [
    {
     "data": {
      "text/plain": [
       "{1, 2, 3, 4, 5, 6}"
      ]
     },
     "execution_count": 17,
     "metadata": {},
     "output_type": "execute_result"
    }
   ],
   "source": [
    "a={1,2,3}\n",
    "a.add(4)\n",
    "a.update([5,6])\n",
    "a"
   ]
  },
  {
   "cell_type": "markdown",
   "id": "2f569954",
   "metadata": {},
   "source": [
    "* remove and discard are the same functions where in remove the element dosent present in the set ,it will gives error,and in discard element dosent present in the set ,it will gives the same set"
   ]
  },
  {
   "cell_type": "code",
   "execution_count": 18,
   "id": "c6b3550e",
   "metadata": {},
   "outputs": [
    {
     "name": "stdout",
     "output_type": "stream",
     "text": [
      "{1, 2, 3, 5, 6}\n"
     ]
    },
    {
     "ename": "KeyError",
     "evalue": "7",
     "output_type": "error",
     "traceback": [
      "\u001b[1;31m---------------------------------------------------------------------------\u001b[0m",
      "\u001b[1;31mKeyError\u001b[0m                                  Traceback (most recent call last)",
      "Cell \u001b[1;32mIn[18], line 3\u001b[0m\n\u001b[0;32m      1\u001b[0m a\u001b[38;5;241m.\u001b[39mremove(\u001b[38;5;241m4\u001b[39m)\n\u001b[0;32m      2\u001b[0m \u001b[38;5;28mprint\u001b[39m(a)\n\u001b[1;32m----> 3\u001b[0m a\u001b[38;5;241m.\u001b[39mremove(\u001b[38;5;241m7\u001b[39m)\n\u001b[0;32m      4\u001b[0m \u001b[38;5;28mprint\u001b[39m(a)\n",
      "\u001b[1;31mKeyError\u001b[0m: 7"
     ]
    }
   ],
   "source": [
    "a.remove(4)\n",
    "print(a)\n",
    "a.remove(7)\n",
    "print(a)\n"
   ]
  },
  {
   "cell_type": "code",
   "execution_count": null,
   "id": "e040eed2",
   "metadata": {},
   "outputs": [],
   "source": [
    "a.discard(5)\n",
    "print(a)\n",
    "a.discard(7)\n",
    "print(a)"
   ]
  },
  {
   "cell_type": "code",
   "execution_count": null,
   "id": "08456367",
   "metadata": {},
   "outputs": [],
   "source": [
    "#pop\n",
    "x=a.pop()\n",
    "a,x"
   ]
  },
  {
   "cell_type": "code",
   "execution_count": null,
   "id": "c0b0e4ec",
   "metadata": {},
   "outputs": [],
   "source": [
    "b=a.copy()\n",
    "print(a,id(a))\n",
    "print(b,id(b))"
   ]
  },
  {
   "cell_type": "code",
   "execution_count": 19,
   "id": "bbfa8cd6",
   "metadata": {},
   "outputs": [
    {
     "name": "stdout",
     "output_type": "stream",
     "text": [
      "{0, 1, 2, 3}\n"
     ]
    },
    {
     "data": {
      "text/plain": [
       "set()"
      ]
     },
     "execution_count": 19,
     "metadata": {},
     "output_type": "execute_result"
    }
   ],
   "source": [
    "print(b)\n",
    "b.clear()\n",
    "b"
   ]
  },
  {
   "cell_type": "code",
   "execution_count": 20,
   "id": "8e918ede",
   "metadata": {},
   "outputs": [
    {
     "name": "stdout",
     "output_type": "stream",
     "text": [
      "Help on method_descriptor:\n",
      "\n",
      "intersection(...)\n",
      "    Return the intersection of two sets as a new set.\n",
      "    \n",
      "    (i.e. all elements that are in both sets.)\n",
      "\n"
     ]
    }
   ],
   "source": [
    "help(set.intersection)"
   ]
  },
  {
   "cell_type": "code",
   "execution_count": 21,
   "id": "390e0eaf",
   "metadata": {},
   "outputs": [
    {
     "name": "stdout",
     "output_type": "stream",
     "text": [
      "Help on method_descriptor:\n",
      "\n",
      "union(...)\n",
      "    Return the union of sets as a new set.\n",
      "    \n",
      "    (i.e. all elements that are in either set.)\n",
      "\n"
     ]
    }
   ],
   "source": [
    "help(set.union)"
   ]
  },
  {
   "cell_type": "code",
   "execution_count": 22,
   "id": "e1b54c06",
   "metadata": {},
   "outputs": [],
   "source": [
    "a,b,c={1,2,3,4},{3,4,5,6},{7,8,9}"
   ]
  },
  {
   "cell_type": "code",
   "execution_count": 23,
   "id": "c0cca5b7",
   "metadata": {},
   "outputs": [
    {
     "data": {
      "text/plain": [
       "({3, 4}, set())"
      ]
     },
     "execution_count": 23,
     "metadata": {},
     "output_type": "execute_result"
    }
   ],
   "source": [
    "a.intersection(b),a.intersection(c)"
   ]
  },
  {
   "cell_type": "code",
   "execution_count": 24,
   "id": "4de8cf5a",
   "metadata": {},
   "outputs": [
    {
     "data": {
      "text/plain": [
       "({1, 2, 3, 4, 5, 6}, {1, 2, 3, 4, 7, 8, 9})"
      ]
     },
     "execution_count": 24,
     "metadata": {},
     "output_type": "execute_result"
    }
   ],
   "source": [
    "a.union(b),a.union(c)"
   ]
  },
  {
   "cell_type": "code",
   "execution_count": 25,
   "id": "a36e4370",
   "metadata": {},
   "outputs": [
    {
     "name": "stdout",
     "output_type": "stream",
     "text": [
      "Help on method_descriptor:\n",
      "\n",
      "difference(...)\n",
      "    Return the difference of two or more sets as a new set.\n",
      "    \n",
      "    (i.e. all elements that are in this set but not the others.)\n",
      "\n"
     ]
    }
   ],
   "source": [
    "help(set.difference)"
   ]
  },
  {
   "cell_type": "code",
   "execution_count": 26,
   "id": "1c0a83ac",
   "metadata": {},
   "outputs": [
    {
     "data": {
      "text/plain": [
       "({1, 2}, {1, 2, 3, 4}, {3, 4, 5, 6})"
      ]
     },
     "execution_count": 26,
     "metadata": {},
     "output_type": "execute_result"
    }
   ],
   "source": [
    "a.difference(b),a.difference(c),b.difference(c) # after intersection which is left in left side that is difference"
   ]
  },
  {
   "cell_type": "code",
   "execution_count": 27,
   "id": "8a0798c1",
   "metadata": {},
   "outputs": [
    {
     "data": {
      "text/plain": [
       "({5, 6}, {7, 8, 9})"
      ]
     },
     "execution_count": 27,
     "metadata": {},
     "output_type": "execute_result"
    }
   ],
   "source": [
    "b.difference(a),c.difference(a)"
   ]
  },
  {
   "cell_type": "code",
   "execution_count": 28,
   "id": "14f8892b",
   "metadata": {},
   "outputs": [
    {
     "name": "stdout",
     "output_type": "stream",
     "text": [
      "{1, 2}\n",
      "{5, 6}\n",
      "{1, 2, 3, 4}\n"
     ]
    }
   ],
   "source": [
    "print(a.difference(b)) #a-a.intersection(b)\n",
    "print(b.difference(a))\n",
    "print(a.difference(c))"
   ]
  },
  {
   "cell_type": "code",
   "execution_count": 29,
   "id": "8ee23ece",
   "metadata": {},
   "outputs": [
    {
     "name": "stdout",
     "output_type": "stream",
     "text": [
      "Help on method_descriptor:\n",
      "\n",
      "symmetric_difference(...)\n",
      "    Return the symmetric difference of two sets as a new set.\n",
      "    \n",
      "    (i.e. all elements that are in exactly one of the sets.)\n",
      "\n"
     ]
    }
   ],
   "source": [
    "help(set.symmetric_difference)"
   ]
  },
  {
   "cell_type": "code",
   "execution_count": 30,
   "id": "d6416a56",
   "metadata": {},
   "outputs": [
    {
     "data": {
      "text/plain": [
       "({1, 2, 5, 6}, {1, 2, 5, 6})"
      ]
     },
     "execution_count": 30,
     "metadata": {},
     "output_type": "execute_result"
    }
   ],
   "source": [
    "# symmetric_difference ::: (A U B)-(A∩B)  (a.union(b)).difference(a.intersection(b))\n",
    "a.symmetric_difference(b) , (a.union(b)).difference(a.intersection(b))"
   ]
  },
  {
   "cell_type": "code",
   "execution_count": 31,
   "id": "bd7fab5d",
   "metadata": {},
   "outputs": [
    {
     "data": {
      "text/plain": [
       "({1, 2, 3, 4, 7, 8, 9}, {1, 2, 3, 4, 7, 8, 9})"
      ]
     },
     "execution_count": 31,
     "metadata": {},
     "output_type": "execute_result"
    }
   ],
   "source": [
    "a.symmetric_difference(c) , (a.union(c)).difference(a.intersection(c))"
   ]
  },
  {
   "cell_type": "code",
   "execution_count": 32,
   "id": "ea94e599",
   "metadata": {},
   "outputs": [
    {
     "name": "stdout",
     "output_type": "stream",
     "text": [
      "Help on method_descriptor:\n",
      "\n",
      "intersection_update(...)\n",
      "    Update a set with the intersection of itself and another.\n",
      "\n"
     ]
    }
   ],
   "source": [
    "help(set.intersection_update)"
   ]
  },
  {
   "cell_type": "code",
   "execution_count": 33,
   "id": "1344e240",
   "metadata": {},
   "outputs": [],
   "source": [
    "# a=a.intersection(b) ---------->a.intersection-update(b)\n",
    "a1,a2,a3=a.copy(),a.copy(),a.copy()\n",
    "b1,b2,b3=b.copy(),b.copy(),b.copy()"
   ]
  },
  {
   "cell_type": "code",
   "execution_count": 34,
   "id": "6a66c53d",
   "metadata": {},
   "outputs": [
    {
     "name": "stdout",
     "output_type": "stream",
     "text": [
      "{1, 2, 3, 4}\n",
      "{3, 4}\n"
     ]
    }
   ],
   "source": [
    "print(a1)\n",
    "a1.intersection_update(b1)\n",
    "print(a1)"
   ]
  },
  {
   "cell_type": "code",
   "execution_count": 35,
   "id": "761c623d",
   "metadata": {},
   "outputs": [
    {
     "name": "stdout",
     "output_type": "stream",
     "text": [
      "Help on method_descriptor:\n",
      "\n",
      "difference_update(...)\n",
      "    Remove all elements of another set from this set.\n",
      "\n"
     ]
    }
   ],
   "source": [
    "help(set.difference_update)"
   ]
  },
  {
   "cell_type": "code",
   "execution_count": 36,
   "id": "5745f19f",
   "metadata": {},
   "outputs": [
    {
     "name": "stdout",
     "output_type": "stream",
     "text": [
      "{1, 2, 3, 4}\n",
      "{1, 2}\n"
     ]
    }
   ],
   "source": [
    "# difference_update\n",
    "print(a2)\n",
    "a2.difference_update(b)\n",
    "print(a2)"
   ]
  },
  {
   "cell_type": "code",
   "execution_count": 37,
   "id": "e6fb323e",
   "metadata": {},
   "outputs": [
    {
     "name": "stdout",
     "output_type": "stream",
     "text": [
      "Help on method_descriptor:\n",
      "\n",
      "symmetric_difference_update(...)\n",
      "    Update a set with the symmetric difference of itself and another.\n",
      "\n"
     ]
    }
   ],
   "source": [
    "help(set.symmetric_difference_update)"
   ]
  },
  {
   "cell_type": "code",
   "execution_count": 38,
   "id": "34a3b1ca",
   "metadata": {},
   "outputs": [
    {
     "name": "stdout",
     "output_type": "stream",
     "text": [
      "{1, 2, 3, 4}\n",
      "{1, 2, 5, 6}\n"
     ]
    }
   ],
   "source": [
    "print(a3)\n",
    "a3.symmetric_difference_update(b)\n",
    "print(a3)"
   ]
  },
  {
   "cell_type": "code",
   "execution_count": 39,
   "id": "d87eff76",
   "metadata": {},
   "outputs": [
    {
     "data": {
      "text/plain": [
       "True"
      ]
     },
     "execution_count": 39,
     "metadata": {},
     "output_type": "execute_result"
    }
   ],
   "source": [
    "a.isdisjoint(c)"
   ]
  },
  {
   "cell_type": "code",
   "execution_count": 40,
   "id": "bcd4f9ff",
   "metadata": {},
   "outputs": [
    {
     "name": "stdout",
     "output_type": "stream",
     "text": [
      "Help on method_descriptor:\n",
      "\n",
      "issuperset(...)\n",
      "    Report whether this set contains another set.\n",
      "\n"
     ]
    }
   ],
   "source": [
    "help(set.issuperset) #"
   ]
  },
  {
   "cell_type": "code",
   "execution_count": 41,
   "id": "a9302ad6",
   "metadata": {},
   "outputs": [
    {
     "name": "stdout",
     "output_type": "stream",
     "text": [
      "Help on method_descriptor:\n",
      "\n",
      "issubset(...)\n",
      "    Report whether another set contains this set.\n",
      "\n"
     ]
    }
   ],
   "source": [
    "help(set.issubset) #inside set of superset"
   ]
  },
  {
   "cell_type": "code",
   "execution_count": 42,
   "id": "59c85fec",
   "metadata": {},
   "outputs": [
    {
     "data": {
      "text/plain": [
       "({1, 2, 3, 4, 5, 6, 7, 8, 9, 10}, {5, 6, 7, 8, 9, 10})"
      ]
     },
     "execution_count": 42,
     "metadata": {},
     "output_type": "execute_result"
    }
   ],
   "source": [
    "x,y=set(range(1,11)),set(range(5,11))\n",
    "x,y"
   ]
  },
  {
   "cell_type": "code",
   "execution_count": 43,
   "id": "5ad5514c",
   "metadata": {},
   "outputs": [
    {
     "data": {
      "text/plain": [
       "(True, True)"
      ]
     },
     "execution_count": 43,
     "metadata": {},
     "output_type": "execute_result"
    }
   ],
   "source": [
    "x.issuperset(y),y.issubset(x)"
   ]
  },
  {
   "cell_type": "markdown",
   "id": "8d5cc093",
   "metadata": {},
   "source": [
    "# Dictionary\n",
    "* we can you use tuple,string,set as a key\n",
    "* mutable\n",
    "* duplicate keys are not entertain in dic"
   ]
  },
  {
   "cell_type": "code",
   "execution_count": 44,
   "id": "ca14f044",
   "metadata": {},
   "outputs": [
    {
     "name": "stdout",
     "output_type": "stream",
     "text": [
      "{'student': ['a', 'b', 'c', 'd', 'e'], 'marks': (25, 24, 23, 25, 24)}\n",
      "<class 'dict'>\n"
     ]
    }
   ],
   "source": [
    "x = {'student':list('abcde'),'marks':(25,24,23,25,24)}\n",
    "print(x,type(x),sep='\\n')"
   ]
  },
  {
   "cell_type": "code",
   "execution_count": 45,
   "id": "289d2c67",
   "metadata": {},
   "outputs": [
    {
     "name": "stdout",
     "output_type": "stream",
     "text": [
      "{}\n",
      "<class 'dict'>\n"
     ]
    }
   ],
   "source": [
    "x={} #empty dict\n",
    "print(x,type(x),sep='\\n')"
   ]
  },
  {
   "cell_type": "code",
   "execution_count": 46,
   "id": "d9f66bc6",
   "metadata": {},
   "outputs": [
    {
     "name": "stdout",
     "output_type": "stream",
     "text": [
      "{1: 8767, 'x': 'hello', (1, 2, 3): 'holla', 3.5: 'hg', (3+3j): 66}\n",
      "<class 'dict'>\n"
     ]
    }
   ],
   "source": [
    "x={1 : 'hi', 'x' : 'hello', (1,2,3) : 'holla', 3.5 : 'hg', 3+3j : 66, True : 8767}\n",
    "print(x,type(x),sep='\\n')"
   ]
  },
  {
   "cell_type": "code",
   "execution_count": 47,
   "id": "acdcd842",
   "metadata": {},
   "outputs": [
    {
     "data": {
      "text/plain": [
       "{'a': [4, 5, 6], 'b': [1, 2, 3], 'c': [40, 50, 60], 'd': [10, 20, 30]}"
      ]
     },
     "execution_count": 47,
     "metadata": {},
     "output_type": "execute_result"
    }
   ],
   "source": [
    "x={'a':[4,5,6],\n",
    "   'b':[1,2,3],\n",
    "   'c':[40,50,60],\n",
    "   'd':[10,20,30]}\n",
    "x"
   ]
  },
  {
   "cell_type": "code",
   "execution_count": 48,
   "id": "11dfb5d8",
   "metadata": {},
   "outputs": [
    {
     "data": {
      "text/plain": [
       "[4, 5, 6]"
      ]
     },
     "execution_count": 48,
     "metadata": {},
     "output_type": "execute_result"
    }
   ],
   "source": [
    "x.get('a')"
   ]
  },
  {
   "cell_type": "code",
   "execution_count": 49,
   "id": "a1da4645",
   "metadata": {},
   "outputs": [
    {
     "data": {
      "text/plain": [
       "{1: 2, 3: 4}"
      ]
     },
     "execution_count": 49,
     "metadata": {},
     "output_type": "execute_result"
    }
   ],
   "source": [
    "dict([ (1,2), (3,4)])"
   ]
  },
  {
   "cell_type": "code",
   "execution_count": 50,
   "id": "af2ac919",
   "metadata": {},
   "outputs": [
    {
     "name": "stdout",
     "output_type": "stream",
     "text": [
      "{'a': {'a': 1, 'b': 2, 'c': 3}, 'b': [1, 2, 3]}\n"
     ]
    }
   ],
   "source": [
    "x={'a': {'a':1,\n",
    "         'b':2,\n",
    "         'c':3,},\n",
    "  'b':[1,2,3]}\n",
    "print(x)"
   ]
  },
  {
   "cell_type": "code",
   "execution_count": 51,
   "id": "e66df36f",
   "metadata": {},
   "outputs": [
    {
     "data": {
      "text/plain": [
       "{'a': 1, 'b': 2, 'c': 3}"
      ]
     },
     "execution_count": 51,
     "metadata": {},
     "output_type": "execute_result"
    }
   ],
   "source": [
    "x.get('a')"
   ]
  },
  {
   "cell_type": "code",
   "execution_count": 52,
   "id": "df64afd1",
   "metadata": {},
   "outputs": [
    {
     "name": "stdout",
     "output_type": "stream",
     "text": [
      "{'a': {'a': 10, 'b': 20, 'c': 30}, 'b': [1, 2, 3]}\n"
     ]
    }
   ],
   "source": [
    "x={'a': {'a':10,\n",
    "         'b':20,\n",
    "         'c':30,},\n",
    "  'b':[1,2,3]}\n",
    "print(x)"
   ]
  },
  {
   "cell_type": "code",
   "execution_count": 53,
   "id": "318b1a52",
   "metadata": {},
   "outputs": [
    {
     "data": {
      "text/plain": [
       "{'a': 10, 'b': 20, 'c': 30}"
      ]
     },
     "execution_count": 53,
     "metadata": {},
     "output_type": "execute_result"
    }
   ],
   "source": [
    "x.get('a','b')"
   ]
  },
  {
   "cell_type": "code",
   "execution_count": 54,
   "id": "d2ec73e6",
   "metadata": {},
   "outputs": [
    {
     "data": {
      "text/plain": [
       "['__class__',\n",
       " '__class_getitem__',\n",
       " '__contains__',\n",
       " '__delattr__',\n",
       " '__delitem__',\n",
       " '__dir__',\n",
       " '__doc__',\n",
       " '__eq__',\n",
       " '__format__',\n",
       " '__ge__',\n",
       " '__getattribute__',\n",
       " '__getitem__',\n",
       " '__getstate__',\n",
       " '__gt__',\n",
       " '__hash__',\n",
       " '__init__',\n",
       " '__init_subclass__',\n",
       " '__ior__',\n",
       " '__iter__',\n",
       " '__le__',\n",
       " '__len__',\n",
       " '__lt__',\n",
       " '__ne__',\n",
       " '__new__',\n",
       " '__or__',\n",
       " '__reduce__',\n",
       " '__reduce_ex__',\n",
       " '__repr__',\n",
       " '__reversed__',\n",
       " '__ror__',\n",
       " '__setattr__',\n",
       " '__setitem__',\n",
       " '__sizeof__',\n",
       " '__str__',\n",
       " '__subclasshook__',\n",
       " 'clear',\n",
       " 'copy',\n",
       " 'fromkeys',\n",
       " 'get',\n",
       " 'items',\n",
       " 'keys',\n",
       " 'pop',\n",
       " 'popitem',\n",
       " 'setdefault',\n",
       " 'update',\n",
       " 'values']"
      ]
     },
     "execution_count": 54,
     "metadata": {},
     "output_type": "execute_result"
    }
   ],
   "source": [
    "dir(dict)"
   ]
  },
  {
   "cell_type": "code",
   "execution_count": 55,
   "id": "32e1d0c9",
   "metadata": {},
   "outputs": [
    {
     "data": {
      "text/plain": [
       "9"
      ]
     },
     "execution_count": 55,
     "metadata": {},
     "output_type": "execute_result"
    }
   ],
   "source": [
    "z=['fromkeys',\n",
    " 'get',\n",
    " 'items',\n",
    " 'keys',\n",
    " 'pop',\n",
    " 'popitem',\n",
    " 'setdefault',\n",
    " 'update',\n",
    " 'values']\n",
    "len(z)"
   ]
  },
  {
   "cell_type": "code",
   "execution_count": 56,
   "id": "56facaa1",
   "metadata": {},
   "outputs": [
    {
     "name": "stdout",
     "output_type": "stream",
     "text": [
      "None\n"
     ]
    }
   ],
   "source": [
    "# dictObj.get(key) vs dictObject.[key]\n",
    "x={'a':10,\n",
    "   'b':20,\n",
    "   'c':30}\n",
    "# there is nokey called 'zz'\n",
    "\n",
    "#x['zz'] # uncomment to see the error\n",
    "print(x.get('zz')) # this gives no error when the key we passed isn't in the dict"
   ]
  },
  {
   "cell_type": "code",
   "execution_count": 57,
   "id": "7b070e11",
   "metadata": {},
   "outputs": [
    {
     "name": "stdout",
     "output_type": "stream",
     "text": [
      "Help on method_descriptor:\n",
      "\n",
      "get(self, key, default=None, /)\n",
      "    Return the value for key if key is in the dictionary, else default.\n",
      "\n"
     ]
    }
   ],
   "source": [
    "help(dict.get)"
   ]
  },
  {
   "cell_type": "code",
   "execution_count": 58,
   "id": "c944121f",
   "metadata": {},
   "outputs": [
    {
     "data": {
      "text/plain": [
       "{'a': 10, 'b': 20, 'c': 30, 'd': 40, 'e': 50, 'f': 60}"
      ]
     },
     "execution_count": 58,
     "metadata": {},
     "output_type": "execute_result"
    }
   ],
   "source": [
    "# update() ------> adds new key & values pairs\n",
    "\n",
    "x.update({'d':40,'e':50,'f':60})\n",
    "x"
   ]
  },
  {
   "cell_type": "code",
   "execution_count": 59,
   "id": "38dfff32",
   "metadata": {},
   "outputs": [
    {
     "data": {
      "text/plain": [
       "{'a': 10, 'b': 20, 'c': 30, 'd': 40, 'e': 50, 'f': 60, 1: 2, 3: 4}"
      ]
     },
     "execution_count": 59,
     "metadata": {},
     "output_type": "execute_result"
    }
   ],
   "source": [
    "x.update([(1,2),(3,4)])\n",
    "x"
   ]
  },
  {
   "cell_type": "code",
   "execution_count": 60,
   "id": "e6025ee4",
   "metadata": {},
   "outputs": [
    {
     "name": "stdout",
     "output_type": "stream",
     "text": [
      "Help on built-in function pop:\n",
      "\n",
      "pop(...) method of builtins.dict instance\n",
      "    D.pop(k[,d]) -> v, remove specified key and return the corresponding value.\n",
      "    \n",
      "    If the key is not found, return the default if given; otherwise,\n",
      "    raise a KeyError.\n",
      "\n"
     ]
    }
   ],
   "source": [
    "help(x.pop)"
   ]
  },
  {
   "cell_type": "code",
   "execution_count": 2,
   "id": "a0a296fa",
   "metadata": {},
   "outputs": [
    {
     "name": "stdout",
     "output_type": "stream",
     "text": [
      "{'a': 10, 'b': 20, 'c': 30, 'd': 40, 'e': 50, 'f': 60, 3: 4}\n",
      "2\n"
     ]
    }
   ],
   "source": [
    "x={'a': 10, 'b': 20, 'c': 30, 'd': 40, 'e': 50, 'f': 60, 1: 2, 3: 4}\n",
    "a=x.pop(1)\n",
    "print(x)\n",
    "print(a)"
   ]
  },
  {
   "cell_type": "code",
   "execution_count": 62,
   "id": "c43c38da",
   "metadata": {},
   "outputs": [
    {
     "data": {
      "text/plain": [
       "(3, 4)"
      ]
     },
     "execution_count": 62,
     "metadata": {},
     "output_type": "execute_result"
    }
   ],
   "source": [
    "x.popitem()"
   ]
  },
  {
   "cell_type": "code",
   "execution_count": 68,
   "id": "8ace8e2f",
   "metadata": {},
   "outputs": [],
   "source": [
    "#x.popitem('d') # uncomment to see the error"
   ]
  },
  {
   "cell_type": "code",
   "execution_count": 69,
   "id": "7dc6bff5",
   "metadata": {},
   "outputs": [
    {
     "name": "stdout",
     "output_type": "stream",
     "text": [
      "dict_keys(['a', 'b', 'c', 'd', 'e']) <class 'dict_keys'>\n"
     ]
    }
   ],
   "source": [
    "#keys\n",
    "k=x.keys()\n",
    "print(k,type(k))"
   ]
  },
  {
   "cell_type": "code",
   "execution_count": 75,
   "id": "ab9d536a",
   "metadata": {},
   "outputs": [
    {
     "data": {
      "text/plain": [
       "['a', 'b', 'c', 'd', 'e']"
      ]
     },
     "execution_count": 75,
     "metadata": {},
     "output_type": "execute_result"
    }
   ],
   "source": [
    "k=list(x)\n",
    "k"
   ]
  },
  {
   "cell_type": "code",
   "execution_count": 77,
   "id": "9d3950f5",
   "metadata": {},
   "outputs": [
    {
     "name": "stdout",
     "output_type": "stream",
     "text": [
      "dict_values([10, 20, 30, 40, 50]) <class 'dict_values'>\n"
     ]
    },
    {
     "data": {
      "text/plain": [
       "['a', 'b', 'c', 'd', 'e']"
      ]
     },
     "execution_count": 77,
     "metadata": {},
     "output_type": "execute_result"
    }
   ],
   "source": [
    "#values\n",
    "v=x.values()\n",
    "print(v,type(v))\n",
    "k=list(k)\n",
    "k\n"
   ]
  },
  {
   "cell_type": "code",
   "execution_count": 78,
   "id": "c7742dfc",
   "metadata": {},
   "outputs": [
    {
     "name": "stdout",
     "output_type": "stream",
     "text": [
      "dict_values([10, 20, 30, 40, 50]) <class 'dict_items'>\n"
     ]
    },
    {
     "data": {
      "text/plain": [
       "[('a', 10), ('b', 20), ('c', 30), ('d', 40), ('e', 50)]"
      ]
     },
     "execution_count": 78,
     "metadata": {},
     "output_type": "execute_result"
    }
   ],
   "source": [
    "#items\n",
    "i=x.items()\n",
    "print(v,type(i))\n",
    "i=list(i)\n",
    "i"
   ]
  },
  {
   "cell_type": "code",
   "execution_count": null,
   "id": "fa844d36",
   "metadata": {},
   "outputs": [],
   "source": [
    "#fromkeys is a class methods"
   ]
  },
  {
   "cell_type": "code",
   "execution_count": 82,
   "id": "4818bd0c",
   "metadata": {},
   "outputs": [
    {
     "name": "stdout",
     "output_type": "stream",
     "text": [
      "Help on built-in function fromkeys:\n",
      "\n",
      "fromkeys(iterable, value=None, /) method of builtins.type instance\n",
      "    Create a new dictionary with keys from iterable and values set to value.\n",
      "\n"
     ]
    }
   ],
   "source": [
    "help(x.fromkeys)"
   ]
  },
  {
   "cell_type": "code",
   "execution_count": 3,
   "id": "ea8eef5e",
   "metadata": {},
   "outputs": [
    {
     "name": "stdout",
     "output_type": "stream",
     "text": [
      "{'a': None, 'b': None, 'c': None, 'd': None, 'e': None, 'f': None, 3: None}\n",
      "{1: 100}\n"
     ]
    }
   ],
   "source": [
    "xx={1:100}\n",
    "y=dict.fromkeys(x)\n",
    "yy=xx.fromkeys(xx)\n",
    "print(y)\n",
    "print(xx)"
   ]
  },
  {
   "cell_type": "markdown",
   "id": "bfd84b5b",
   "metadata": {},
   "source": [
    "# setdefault\n",
    "* returns the value of a key (if the key is in dictionary). Else, it inserts a key with the default value to the dictionary.\n",
    "* Syntax: dict.setdefault(key, default_value)"
   ]
  },
  {
   "cell_type": "code",
   "execution_count": 1,
   "id": "de2c355c",
   "metadata": {},
   "outputs": [
    {
     "name": "stdout",
     "output_type": "stream",
     "text": [
      "{'a': 97, 'b': 98, 'c': 99, 'd': 100, ' ': 32}\n"
     ]
    }
   ],
   "source": [
    "d = {'a': 97, 'b': 98, 'c': 99, 'd': 100}\n",
    "# space key added using setdefault() method\n",
    "d.setdefault(' ', 32)\n",
    "print(d)\n"
   ]
  }
 ],
 "metadata": {
  "kernelspec": {
   "display_name": "Python 3 (ipykernel)",
   "language": "python",
   "name": "python3"
  },
  "language_info": {
   "codemirror_mode": {
    "name": "ipython",
    "version": 3
   },
   "file_extension": ".py",
   "mimetype": "text/x-python",
   "name": "python",
   "nbconvert_exporter": "python",
   "pygments_lexer": "ipython3",
   "version": "3.11.3"
  }
 },
 "nbformat": 4,
 "nbformat_minor": 5
}
