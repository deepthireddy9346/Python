{
 "cells": [
  {
   "cell_type": "code",
   "execution_count": 1,
   "id": "6b183530",
   "metadata": {},
   "outputs": [
    {
     "name": "stdout",
     "output_type": "stream",
     "text": [
      "10.101 <class 'float'>\n"
     ]
    }
   ],
   "source": [
    "x=10.101\n",
    "print(x,type(x))"
   ]
  },
  {
   "cell_type": "markdown",
   "id": "e2fa74dc",
   "metadata": {},
   "source": [
    "# Typecaste \n",
    "Changing the value type"
   ]
  },
  {
   "cell_type": "code",
   "execution_count": 2,
   "id": "181e9a6c",
   "metadata": {},
   "outputs": [
    {
     "name": "stdout",
     "output_type": "stream",
     "text": [
      "10.101 <class 'float'>\n",
      "10 <class 'int'>\n",
      "5 <class 'str'>\n",
      "5.0 <class 'float'>\n"
     ]
    }
   ],
   "source": [
    "x=10.101\n",
    "print(x,type(x))\n",
    "x=int(x) #changing float value to int\n",
    "print(x,type(x))\n",
    "\n",
    "x='5'\n",
    "print(x,type(x))\n",
    "\n",
    "x='5'\n",
    "x=float(x)\n",
    "print(x,type(x))"
   ]
  },
  {
   "cell_type": "code",
   "execution_count": 3,
   "id": "5f867ed8",
   "metadata": {},
   "outputs": [
    {
     "name": "stdout",
     "output_type": "stream",
     "text": [
      "(5+0.3j) <class 'complex'>\n"
     ]
    },
    {
     "data": {
      "text/plain": [
       "(5.0, 0.3)"
      ]
     },
     "execution_count": 3,
     "metadata": {},
     "output_type": "execute_result"
    }
   ],
   "source": [
    "x=5+0.3j\n",
    "print(x,type(x))\n",
    "#x=int(x) #uncomment to see the error\n",
    "x.real,x.imag"
   ]
  },
  {
   "cell_type": "markdown",
   "id": "41098178",
   "metadata": {},
   "source": [
    "# # bin,oct,hex"
   ]
  },
  {
   "cell_type": "code",
   "execution_count": 4,
   "id": "6c4b1c50",
   "metadata": {},
   "outputs": [
    {
     "name": "stdout",
     "output_type": "stream",
     "text": [
      "5 <class 'int'>\n",
      "0b101 <class 'str'>\n"
     ]
    }
   ],
   "source": [
    "x=5\n",
    "print(x,type(x))\n",
    "\n",
    "x= bin(x)\n",
    "print(x,type(x))\n"
   ]
  },
  {
   "cell_type": "code",
   "execution_count": 5,
   "id": "39152ced",
   "metadata": {},
   "outputs": [
    {
     "name": "stdout",
     "output_type": "stream",
     "text": [
      "3 <class 'int'>\n",
      "0b11 <class 'str'>\n"
     ]
    }
   ],
   "source": [
    "x=3\n",
    "print(x,type(x))\n",
    "\n",
    "x= bin(x)\n",
    "print(x,type(x))\n"
   ]
  },
  {
   "cell_type": "code",
   "execution_count": 6,
   "id": "13b5d236",
   "metadata": {},
   "outputs": [
    {
     "name": "stdout",
     "output_type": "stream",
     "text": [
      "10 <class 'int'>\n",
      "0b1010 <class 'str'>\n"
     ]
    }
   ],
   "source": [
    "x=10\n",
    "print(x,type(x))\n",
    "\n",
    "x= bin(x)\n",
    "print(x,type(x))\n"
   ]
  },
  {
   "cell_type": "markdown",
   "id": "b0654353",
   "metadata": {},
   "source": [
    "##### octa"
   ]
  },
  {
   "cell_type": "code",
   "execution_count": 7,
   "id": "e5f1170c",
   "metadata": {},
   "outputs": [
    {
     "name": "stdout",
     "output_type": "stream",
     "text": [
      "17 <class 'int'>\n",
      "0o21 <class 'str'>\n"
     ]
    }
   ],
   "source": [
    "x=17\n",
    "print(x,type(x))\n",
    "x= oct(x)\n",
    "print(x,type(x))"
   ]
  },
  {
   "cell_type": "markdown",
   "id": "42837913",
   "metadata": {},
   "source": [
    "###### hex"
   ]
  },
  {
   "cell_type": "code",
   "execution_count": 8,
   "id": "3b8fe5f5",
   "metadata": {},
   "outputs": [
    {
     "name": "stdout",
     "output_type": "stream",
     "text": [
      "17 <class 'int'>\n",
      "0x11 <class 'str'>\n"
     ]
    }
   ],
   "source": [
    "x=17\n",
    "print(x,type(x))\n",
    "x= hex(x)\n",
    "print(x,type(x))"
   ]
  },
  {
   "cell_type": "code",
   "execution_count": 9,
   "id": "d73e84bc",
   "metadata": {},
   "outputs": [
    {
     "data": {
      "text/plain": [
       "'x=17 #comment the whole code\\nprint(x,type(x))\\nx= hex(x)\\nprint(x,type(x))'"
      ]
     },
     "execution_count": 9,
     "metadata": {},
     "output_type": "execute_result"
    }
   ],
   "source": [
    "'''x=17 #comment the whole code\n",
    "print(x,type(x))\n",
    "x= hex(x)\n",
    "print(x,type(x))'''"
   ]
  },
  {
   "cell_type": "markdown",
   "id": "f36a6005",
   "metadata": {},
   "source": [
    "# converting bin,oct ,hex values to dec"
   ]
  },
  {
   "cell_type": "code",
   "execution_count": 10,
   "id": "3f190cb9",
   "metadata": {},
   "outputs": [
    {
     "data": {
      "text/plain": [
       "(17, 17)"
      ]
     },
     "execution_count": 10,
     "metadata": {},
     "output_type": "execute_result"
    }
   ],
   "source": [
    "int('0x11',0),int('011',16)\n",
    "#help(int)"
   ]
  },
  {
   "cell_type": "code",
   "execution_count": 11,
   "id": "e6c38e9b",
   "metadata": {},
   "outputs": [
    {
     "data": {
      "text/plain": [
       "(17, 17)"
      ]
     },
     "execution_count": 11,
     "metadata": {},
     "output_type": "execute_result"
    }
   ],
   "source": [
    "int('0o21',0),int('021',8)"
   ]
  },
  {
   "cell_type": "code",
   "execution_count": 12,
   "id": "7b08f738",
   "metadata": {},
   "outputs": [
    {
     "data": {
      "text/plain": [
       "(5, 5)"
      ]
     },
     "execution_count": 12,
     "metadata": {},
     "output_type": "execute_result"
    }
   ],
   "source": [
    "int('0b101',0),int('0101',2)"
   ]
  },
  {
   "cell_type": "markdown",
   "id": "5de50482",
   "metadata": {},
   "source": [
    "### int() with user definrd bases"
   ]
  },
  {
   "cell_type": "code",
   "execution_count": 13,
   "id": "34296129",
   "metadata": {},
   "outputs": [
    {
     "data": {
      "text/plain": [
       "4"
      ]
     },
     "execution_count": 13,
     "metadata": {},
     "output_type": "execute_result"
    }
   ],
   "source": [
    "int('0011',3)\n",
    "#int('0011',37),int('0011',38),int('0011',39),int('0011',40),int('0011',41)"
   ]
  }
 ],
 "metadata": {
  "kernelspec": {
   "display_name": "Python 3 (ipykernel)",
   "language": "python",
   "name": "python3"
  },
  "language_info": {
   "codemirror_mode": {
    "name": "ipython",
    "version": 3
   },
   "file_extension": ".py",
   "mimetype": "text/x-python",
   "name": "python",
   "nbconvert_exporter": "python",
   "pygments_lexer": "ipython3",
   "version": "3.11.3"
  }
 },
 "nbformat": 4,
 "nbformat_minor": 5
}
