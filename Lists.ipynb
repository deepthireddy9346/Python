{
 "cells": [
  {
   "cell_type": "markdown",
   "id": "06f5272e",
   "metadata": {},
   "source": [
    "# Lists\n",
    "* lists are sequential hetrogeneous dynamic containers which are mutable in nature\n",
    "* elements of lists are enclosed within'[' ']'\n",
    "* empty list is []\n",
    "* wecan also use 'list()' to typecaste an iterator\n",
    "* since list are seq, we can perform indexing and slicing\n"
   ]
  },
  {
   "cell_type": "code",
   "execution_count": 1,
   "id": "2a8cff1d",
   "metadata": {},
   "outputs": [
    {
     "name": "stdout",
     "output_type": "stream",
     "text": [
      "[1, 2.2, (3+3j), '4000', <built-in function print>, <class 'str'>, False]\n",
      "<class 'list'>\n",
      "7\n"
     ]
    }
   ],
   "source": [
    "x=[1,2.2,3+3j,'4000',print,str,False]\n",
    "print(x,type(x),len(x),sep='\\n')"
   ]
  },
  {
   "cell_type": "code",
   "execution_count": 2,
   "id": "6e1ee642",
   "metadata": {},
   "outputs": [
    {
     "name": "stdout",
     "output_type": "stream",
     "text": [
      "[]\n",
      "<class 'list'>\n",
      "0\n"
     ]
    }
   ],
   "source": [
    "x=[]\n",
    "print(x,type(x),len(x),sep='\\n')"
   ]
  },
  {
   "cell_type": "code",
   "execution_count": 3,
   "id": "5258a738",
   "metadata": {},
   "outputs": [
    {
     "name": "stdout",
     "output_type": "stream",
     "text": [
      "[]\n",
      "<class 'list'>\n",
      "0\n"
     ]
    }
   ],
   "source": [
    "x=list()\n",
    "print(x,type(x),len(x),sep='\\n')"
   ]
  },
  {
   "cell_type": "code",
   "execution_count": 4,
   "id": "a65cd157",
   "metadata": {},
   "outputs": [
    {
     "data": {
      "text/plain": [
       "[1, 2.2, (3+3j)]"
      ]
     },
     "execution_count": 4,
     "metadata": {},
     "output_type": "execute_result"
    }
   ],
   "source": [
    "x=[1,2.2,3+3j,'4000',print,str,False]\n",
    "x[0:3]"
   ]
  },
  {
   "cell_type": "code",
   "execution_count": 5,
   "id": "0f33d322",
   "metadata": {},
   "outputs": [
    {
     "data": {
      "text/plain": [
       "str"
      ]
     },
     "execution_count": 5,
     "metadata": {},
     "output_type": "execute_result"
    }
   ],
   "source": [
    "x[-2] #negative indexing"
   ]
  },
  {
   "cell_type": "code",
   "execution_count": 6,
   "id": "2be993b9",
   "metadata": {},
   "outputs": [
    {
     "data": {
      "text/plain": [
       "[False,\n",
       " str,\n",
       " <function print(*args, sep=' ', end='\\n', file=None, flush=False)>,\n",
       " '4000',\n",
       " (3+3j),\n",
       " 2.2,\n",
       " 1]"
      ]
     },
     "execution_count": 6,
     "metadata": {},
     "output_type": "execute_result"
    }
   ],
   "source": [
    "x[::-1] # reversing the list"
   ]
  },
  {
   "cell_type": "code",
   "execution_count": 7,
   "id": "78be8df3",
   "metadata": {},
   "outputs": [
    {
     "data": {
      "text/plain": [
       "[(3+3j),\n",
       " '4000',\n",
       " <function print(*args, sep=' ', end='\\n', file=None, flush=False)>]"
      ]
     },
     "execution_count": 7,
     "metadata": {},
     "output_type": "execute_result"
    }
   ],
   "source": [
    "x[-5:-2]"
   ]
  },
  {
   "cell_type": "code",
   "execution_count": 8,
   "id": "3ef9532a",
   "metadata": {},
   "outputs": [
    {
     "data": {
      "text/plain": [
       "[str,\n",
       " <function print(*args, sep=' ', end='\\n', file=None, flush=False)>,\n",
       " '4000']"
      ]
     },
     "execution_count": 8,
     "metadata": {},
     "output_type": "execute_result"
    }
   ],
   "source": [
    "x[-2:-5:-1]"
   ]
  },
  {
   "cell_type": "code",
   "execution_count": 9,
   "id": "c44f3132",
   "metadata": {},
   "outputs": [
    {
     "data": {
      "text/plain": [
       "[]"
      ]
     },
     "execution_count": 9,
     "metadata": {},
     "output_type": "execute_result"
    }
   ],
   "source": [
    "x[-2:-5]"
   ]
  },
  {
   "cell_type": "code",
   "execution_count": 10,
   "id": "e85d064e",
   "metadata": {},
   "outputs": [
    {
     "data": {
      "text/plain": [
       "['__add__',\n",
       " '__class__',\n",
       " '__class_getitem__',\n",
       " '__contains__',\n",
       " '__delattr__',\n",
       " '__delitem__',\n",
       " '__dir__',\n",
       " '__doc__',\n",
       " '__eq__',\n",
       " '__format__',\n",
       " '__ge__',\n",
       " '__getattribute__',\n",
       " '__getitem__',\n",
       " '__getstate__',\n",
       " '__gt__',\n",
       " '__hash__',\n",
       " '__iadd__',\n",
       " '__imul__',\n",
       " '__init__',\n",
       " '__init_subclass__',\n",
       " '__iter__',\n",
       " '__le__',\n",
       " '__len__',\n",
       " '__lt__',\n",
       " '__mul__',\n",
       " '__ne__',\n",
       " '__new__',\n",
       " '__reduce__',\n",
       " '__reduce_ex__',\n",
       " '__repr__',\n",
       " '__reversed__',\n",
       " '__rmul__',\n",
       " '__setattr__',\n",
       " '__setitem__',\n",
       " '__sizeof__',\n",
       " '__str__',\n",
       " '__subclasshook__',\n",
       " 'append',\n",
       " 'clear',\n",
       " 'copy',\n",
       " 'count',\n",
       " 'extend',\n",
       " 'index',\n",
       " 'insert',\n",
       " 'pop',\n",
       " 'remove',\n",
       " 'reverse',\n",
       " 'sort']"
      ]
     },
     "execution_count": 10,
     "metadata": {},
     "output_type": "execute_result"
    }
   ],
   "source": [
    "dir(list)"
   ]
  },
  {
   "cell_type": "code",
   "execution_count": 11,
   "id": "2012cd11",
   "metadata": {},
   "outputs": [
    {
     "data": {
      "text/plain": [
       "11"
      ]
     },
     "execution_count": 11,
     "metadata": {},
     "output_type": "execute_result"
    }
   ],
   "source": [
    "z=['append', #add exactly one element\n",
    " 'clear', #clears the list's contents and returns a empty list\n",
    " 'copy', #createsa shallow copy of the list object\n",
    " 'count', # same as string , it counts the number of times an element has occured in the list\n",
    " 'extend',#adds or extend  the list by two or multiple elements at a time \n",
    " 'index',\n",
    " 'insert',#inserts a new element at said index postion\n",
    " 'pop',#pops out the last elementin list .If an index is given as input,it pops out the element at said index\n",
    " 'remove',#removes the said element\n",
    " 'reverse',#reverse the string\n",
    " 'sort'] #sorts the string in ascending or descending order\n",
    "len(z)"
   ]
  },
  {
   "cell_type": "markdown",
   "id": "9b75b95c",
   "metadata": {},
   "source": [
    "* append : add exactly one element\n",
    "* clear : clears the list's contents and returns a empty list\n",
    "* copy : createsa shallow copy of the list object\n",
    "* count : same as string , it counts the number of times an element has occured in the list\n",
    "* extend : adds or extend  the list by two or multiple elements at a time \n",
    "* insert : inserts a new element at said index postion\n",
    "* pop : pops out the last elementin list .If an index is given as input,it pops out the element at said index\n",
    "* remove : removes the said element\n",
    "* reverse : reverse the string\n",
    "* sort : sorts the string in ascending or descending order"
   ]
  },
  {
   "cell_type": "code",
   "execution_count": 12,
   "id": "95d50f32",
   "metadata": {},
   "outputs": [
    {
     "data": {
      "text/plain": [
       "'y'"
      ]
     },
     "execution_count": 12,
     "metadata": {},
     "output_type": "execute_result"
    }
   ],
   "source": [
    "x=[1,-1,2.2,3-3j,'hi',False,str,['x','y','z'],'hello']\n",
    "x[-2][1]"
   ]
  },
  {
   "cell_type": "code",
   "execution_count": 13,
   "id": "35aab2c4",
   "metadata": {},
   "outputs": [
    {
     "data": {
      "text/plain": [
       "['x', 'z']"
      ]
     },
     "execution_count": 13,
     "metadata": {},
     "output_type": "execute_result"
    }
   ],
   "source": [
    "x[-2][::2]"
   ]
  },
  {
   "cell_type": "code",
   "execution_count": 14,
   "id": "1474396d",
   "metadata": {},
   "outputs": [
    {
     "data": {
      "text/plain": [
       "'ll'"
      ]
     },
     "execution_count": 14,
     "metadata": {},
     "output_type": "execute_result"
    }
   ],
   "source": [
    "x[-1][-2:-4:-1]"
   ]
  },
  {
   "cell_type": "code",
   "execution_count": 15,
   "id": "0d276785",
   "metadata": {},
   "outputs": [
    {
     "data": {
      "text/plain": [
       "False"
      ]
     },
     "execution_count": 15,
     "metadata": {},
     "output_type": "execute_result"
    }
   ],
   "source": [
    "x[5]"
   ]
  },
  {
   "cell_type": "code",
   "execution_count": 16,
   "id": "3deacb1e",
   "metadata": {},
   "outputs": [
    {
     "data": {
      "text/plain": [
       "['h', 'e', 'l', 'l', 'o']"
      ]
     },
     "execution_count": 16,
     "metadata": {},
     "output_type": "execute_result"
    }
   ],
   "source": [
    "y=list(x[-1])\n",
    "y"
   ]
  },
  {
   "cell_type": "code",
   "execution_count": 17,
   "id": "76fe69f4",
   "metadata": {},
   "outputs": [
    {
     "data": {
      "text/plain": [
       "['H', 'i', 'H', 'e', 'l', 'l', 'o']"
      ]
     },
     "execution_count": 17,
     "metadata": {},
     "output_type": "execute_result"
    }
   ],
   "source": [
    "y=list(x[4].title()+x[-1].title())\n",
    "y"
   ]
  },
  {
   "cell_type": "code",
   "execution_count": 18,
   "id": "7a82ce34",
   "metadata": {},
   "outputs": [
    {
     "data": {
      "text/plain": [
       "['H', 'i', 'H', 'e', 'l', 'l', 'o']"
      ]
     },
     "execution_count": 18,
     "metadata": {},
     "output_type": "execute_result"
    }
   ],
   "source": [
    "y=list(x[4].capitalize()+x[-1].capitalize())\n",
    "y"
   ]
  },
  {
   "cell_type": "code",
   "execution_count": 19,
   "id": "fda2bdd9",
   "metadata": {},
   "outputs": [
    {
     "data": {
      "text/plain": [
       "['H', 'i', 'H', 'e', 'l', 'l', 'o']"
      ]
     },
     "execution_count": 19,
     "metadata": {},
     "output_type": "execute_result"
    }
   ],
   "source": [
    "y=list(x[4].replace('h','H')+x[-1].replace('h','H'))\n",
    "y"
   ]
  },
  {
   "cell_type": "code",
   "execution_count": 20,
   "id": "c3ab4e1d",
   "metadata": {},
   "outputs": [
    {
     "name": "stdout",
     "output_type": "stream",
     "text": [
      "Help on built-in function append:\n",
      "\n",
      "append(object, /) method of builtins.list instance\n",
      "    Append object to the end of the list.\n",
      "\n"
     ]
    }
   ],
   "source": [
    "help(x.append)"
   ]
  },
  {
   "cell_type": "code",
   "execution_count": 21,
   "id": "5872fa05",
   "metadata": {},
   "outputs": [
    {
     "name": "stdout",
     "output_type": "stream",
     "text": [
      "[1, -1, 2.2, (3-3j), 'hi', False, <class 'str'>, ['x', 'y', 'z'], 'hello']||9\n",
      "[1, -1, 2.2, (3-3j), 'hi', False, <class 'str'>, ['x', 'y', 'z'], 'hello', 'innomaatics']||10\n"
     ]
    }
   ],
   "source": [
    "x=[1,-1,2.2,3-3j,'hi',False,str,['x','y','z'],'hello']\n",
    "print(x,len(x),sep='||')\n",
    "x.append('innomaatics')\n",
    "print(x,len(x),sep='||')         "
   ]
  },
  {
   "cell_type": "code",
   "execution_count": 22,
   "id": "0b732f7e",
   "metadata": {},
   "outputs": [
    {
     "data": {
      "text/plain": [
       "[1,\n",
       " -1,\n",
       " 2.2,\n",
       " (3-3j),\n",
       " 'hi',\n",
       " False,\n",
       " str,\n",
       " ['x', 'y', 'z'],\n",
       " 'hello',\n",
       " 'innomaatics',\n",
       " 'innomatics']"
      ]
     },
     "execution_count": 22,
     "metadata": {},
     "output_type": "execute_result"
    }
   ],
   "source": [
    "x.append('innomatics')\n",
    "x"
   ]
  },
  {
   "cell_type": "markdown",
   "id": "f4980676",
   "metadata": {},
   "source": [
    "# Extend\n",
    "* The extend() method adds the specified list elements (or any iterable) to the end of the current list."
   ]
  },
  {
   "cell_type": "code",
   "execution_count": 2,
   "id": "3c784679",
   "metadata": {},
   "outputs": [
    {
     "name": "stdout",
     "output_type": "stream",
     "text": [
      "Help on method_descriptor:\n",
      "\n",
      "extend(self, iterable, /)\n",
      "    Extend list by appending elements from the iterable.\n",
      "\n"
     ]
    }
   ],
   "source": [
    "help(list.extend)"
   ]
  },
  {
   "cell_type": "code",
   "execution_count": 23,
   "id": "f4f015fe",
   "metadata": {},
   "outputs": [
    {
     "name": "stdout",
     "output_type": "stream",
     "text": [
      "[1, -1, 2.2, (3-3j), 'hi', False, 'str', ['x', 'y', 'z'], 'hello', 'innomaatics', 5]\n"
     ]
    }
   ],
   "source": [
    "x=[1, -1, 2.2, (3-3j), 'hi', False, 'str', ['x', 'y', 'z'], 'hello', 'innomaatics']\n",
    "x.extend([5])\n",
    "print(x)"
   ]
  },
  {
   "cell_type": "code",
   "execution_count": 24,
   "id": "081a3c14",
   "metadata": {},
   "outputs": [
    {
     "name": "stdout",
     "output_type": "stream",
     "text": [
      "[1, -1, 2.2, (3-3j), 'hi', False, 'str', ['x', 'y', 'z'], 'hello', 'innomaatics', 5, [5, 6]]\n"
     ]
    }
   ],
   "source": [
    "x.append([5,6])\n",
    "print(x)"
   ]
  },
  {
   "cell_type": "code",
   "execution_count": 25,
   "id": "0dfa8f2d",
   "metadata": {},
   "outputs": [
    {
     "name": "stdout",
     "output_type": "stream",
     "text": [
      "[1, -1, 2.2, (3-3j), 'hi', False, 'str', ['x', 'y', 'z'], 'hello', 'innomaatics', 5, [5, 6], 5, 6]\n"
     ]
    }
   ],
   "source": [
    "x.extend([5,6])\n",
    "print(x)"
   ]
  },
  {
   "cell_type": "markdown",
   "id": "98a523ba",
   "metadata": {},
   "source": [
    "# insert\n",
    "* insert() method inserts a given element at a given index in a list using Python."
   ]
  },
  {
   "cell_type": "code",
   "execution_count": 5,
   "id": "23df017d",
   "metadata": {},
   "outputs": [
    {
     "name": "stdout",
     "output_type": "stream",
     "text": [
      "Help on method_descriptor:\n",
      "\n",
      "insert(self, index, object, /)\n",
      "    Insert object before index.\n",
      "\n"
     ]
    }
   ],
   "source": [
    "help(list.insert)"
   ]
  },
  {
   "cell_type": "code",
   "execution_count": 26,
   "id": "9abb7b93",
   "metadata": {},
   "outputs": [
    {
     "data": {
      "text/plain": [
       "[1,\n",
       " -1,\n",
       " 2.2,\n",
       " (3-3j),\n",
       " 'hi',\n",
       " [50, 55],\n",
       " False,\n",
       " 'str',\n",
       " ['x', 'y', 'z'],\n",
       " 'hello',\n",
       " 'innomaatics',\n",
       " 5,\n",
       " [5, 6],\n",
       " 5,\n",
       " 6]"
      ]
     },
     "execution_count": 26,
     "metadata": {},
     "output_type": "execute_result"
    }
   ],
   "source": [
    "#insert\n",
    "x.insert(5,[50,55])\n",
    "x"
   ]
  },
  {
   "cell_type": "markdown",
   "id": "9801326f",
   "metadata": {},
   "source": [
    "# pop\n",
    "* The pop() method removes the element at thespecified position"
   ]
  },
  {
   "cell_type": "code",
   "execution_count": 6,
   "id": "b69734f0",
   "metadata": {},
   "outputs": [
    {
     "name": "stdout",
     "output_type": "stream",
     "text": [
      "Help on method_descriptor:\n",
      "\n",
      "pop(self, index=-1, /)\n",
      "    Remove and return item at index (default last).\n",
      "    \n",
      "    Raises IndexError if list is empty or index is out of range.\n",
      "\n"
     ]
    }
   ],
   "source": [
    "help(list.pop)"
   ]
  },
  {
   "cell_type": "code",
   "execution_count": 4,
   "id": "28670a9f",
   "metadata": {},
   "outputs": [
    {
     "name": "stdout",
     "output_type": "stream",
     "text": [
      "[1, -1, 2.2, (3-3j), 'hi', [50, 55], False, 'str', ['x', 'y', 'z'], 'hello', 'innomaatics', 5, [5, 6], 5]\n"
     ]
    },
    {
     "data": {
      "text/plain": [
       "6"
      ]
     },
     "execution_count": 4,
     "metadata": {},
     "output_type": "execute_result"
    }
   ],
   "source": [
    "#pop\n",
    "x=[1,\n",
    " -1,\n",
    " 2.2,\n",
    " (3-3j),\n",
    " 'hi',\n",
    " [50, 55],\n",
    " False,\n",
    " 'str',\n",
    " ['x', 'y', 'z'],\n",
    " 'hello',\n",
    " 'innomaatics',\n",
    " 5,\n",
    " [5, 6],\n",
    " 5,\n",
    " 6]\n",
    "z=x.pop()\n",
    "print(x)\n",
    "z"
   ]
  },
  {
   "cell_type": "code",
   "execution_count": 28,
   "id": "3aeb4553",
   "metadata": {},
   "outputs": [
    {
     "name": "stdout",
     "output_type": "stream",
     "text": [
      "5\n"
     ]
    }
   ],
   "source": [
    "print(x.pop(13))"
   ]
  },
  {
   "cell_type": "code",
   "execution_count": 29,
   "id": "cad62b6a",
   "metadata": {},
   "outputs": [
    {
     "data": {
      "text/plain": [
       "13"
      ]
     },
     "execution_count": 29,
     "metadata": {},
     "output_type": "execute_result"
    }
   ],
   "source": [
    "len(x)"
   ]
  },
  {
   "cell_type": "markdown",
   "id": "4d5e6f0d",
   "metadata": {},
   "source": [
    "# remove\n",
    "* remove() is an inbuilt function in the Python programming language that removes a given object from the List"
   ]
  },
  {
   "cell_type": "code",
   "execution_count": 7,
   "id": "1bae99e6",
   "metadata": {},
   "outputs": [
    {
     "name": "stdout",
     "output_type": "stream",
     "text": [
      "Help on method_descriptor:\n",
      "\n",
      "remove(self, value, /)\n",
      "    Remove first occurrence of value.\n",
      "    \n",
      "    Raises ValueError if the value is not present.\n",
      "\n"
     ]
    }
   ],
   "source": [
    "help(list.remove)"
   ]
  },
  {
   "cell_type": "code",
   "execution_count": 30,
   "id": "a36e081d",
   "metadata": {},
   "outputs": [
    {
     "data": {
      "text/plain": [
       "[1,\n",
       " -1,\n",
       " 2.2,\n",
       " (3-3j),\n",
       " 'hi',\n",
       " [50, 55],\n",
       " False,\n",
       " 'str',\n",
       " ['x', 'y', 'z'],\n",
       " 'hello',\n",
       " 5,\n",
       " [5, 6]]"
      ]
     },
     "execution_count": 30,
     "metadata": {},
     "output_type": "execute_result"
    }
   ],
   "source": [
    "#remove\n",
    "x.remove('innomaatics')\n",
    "x"
   ]
  },
  {
   "cell_type": "markdown",
   "id": "923d4fea",
   "metadata": {},
   "source": [
    "# reverse\n",
    "* reverse() method returns an iterator that accesses the given sequence in the reverse order."
   ]
  },
  {
   "cell_type": "code",
   "execution_count": 10,
   "id": "400aeb45",
   "metadata": {},
   "outputs": [
    {
     "name": "stdout",
     "output_type": "stream",
     "text": [
      "Help on method_descriptor:\n",
      "\n",
      "reverse(self, /)\n",
      "    Reverse *IN PLACE*.\n",
      "\n"
     ]
    }
   ],
   "source": [
    "help(list.reverse)"
   ]
  },
  {
   "cell_type": "code",
   "execution_count": 31,
   "id": "8258adb7",
   "metadata": {},
   "outputs": [
    {
     "name": "stdout",
     "output_type": "stream",
     "text": [
      "[[5, 6], 5, 'hello', ['x', 'y', 'z'], 'str', False, [50, 55], 'hi', (3-3j), 2.2, -1, 1]\n"
     ]
    }
   ],
   "source": [
    "x.reverse()\n",
    "print(x)"
   ]
  },
  {
   "cell_type": "code",
   "execution_count": 32,
   "id": "687a81b6",
   "metadata": {},
   "outputs": [
    {
     "data": {
      "text/plain": [
       "[[5, 6],\n",
       " 5,\n",
       " 'hello',\n",
       " ['x', 'y', 'z'],\n",
       " 'str',\n",
       " False,\n",
       " [50, 55],\n",
       " 'hi',\n",
       " (3-3j),\n",
       " 2.2,\n",
       " -1,\n",
       " 1]"
      ]
     },
     "execution_count": 32,
     "metadata": {},
     "output_type": "execute_result"
    }
   ],
   "source": [
    "x"
   ]
  },
  {
   "cell_type": "code",
   "execution_count": 33,
   "id": "89651295",
   "metadata": {},
   "outputs": [
    {
     "data": {
      "text/plain": [
       "[1, 2, 3, 4, 5]"
      ]
     },
     "execution_count": 33,
     "metadata": {},
     "output_type": "execute_result"
    }
   ],
   "source": [
    "a=[1,2,3]\n",
    "a.extend([4,5])\n",
    "a"
   ]
  },
  {
   "cell_type": "code",
   "execution_count": 34,
   "id": "d319a6ce",
   "metadata": {},
   "outputs": [],
   "source": [
    "[1,2,3,4,5].remove(3)"
   ]
  },
  {
   "cell_type": "code",
   "execution_count": 42,
   "id": "1bb016ff",
   "metadata": {},
   "outputs": [],
   "source": [
    "a=[-50,-74,4,10,23]\n",
    "b=[0.56,1.89,-0.86,-0.99,-10.10]\n",
    "c=a+b\n",
    "d=[1+1j,2-2j,10+10j]\n",
    "e=['venu','venngal','deepthi','shravani']\n",
    "f=c+d\n",
    "g=f+e"
   ]
  },
  {
   "cell_type": "markdown",
   "id": "f822e4a8",
   "metadata": {},
   "source": [
    "# sort\n",
    "* The sort function can be used to sort the list in both ascending and descending order"
   ]
  },
  {
   "cell_type": "code",
   "execution_count": 11,
   "id": "e00c03b7",
   "metadata": {},
   "outputs": [
    {
     "name": "stdout",
     "output_type": "stream",
     "text": [
      "Help on method_descriptor:\n",
      "\n",
      "sort(self, /, *, key=None, reverse=False)\n",
      "    Sort the list in ascending order and return None.\n",
      "    \n",
      "    The sort is in-place (i.e. the list itself is modified) and stable (i.e. the\n",
      "    order of two equal elements is maintained).\n",
      "    \n",
      "    If a key function is given, apply it once to each list item and sort them,\n",
      "    ascending or descending, according to their function values.\n",
      "    \n",
      "    The reverse flag can be set to sort in descending order.\n",
      "\n"
     ]
    }
   ],
   "source": [
    "help(list.sort)"
   ]
  },
  {
   "cell_type": "code",
   "execution_count": 39,
   "id": "6a8c49a7",
   "metadata": {},
   "outputs": [
    {
     "name": "stdout",
     "output_type": "stream",
     "text": [
      "[-74, -50, 4, 10, 23]\n"
     ]
    }
   ],
   "source": [
    "a.sort()\n",
    "print(a)"
   ]
  },
  {
   "cell_type": "code",
   "execution_count": 40,
   "id": "091e2a8b",
   "metadata": {},
   "outputs": [
    {
     "data": {
      "text/plain": [
       "[1.89, 0.56, -0.86, -0.99, -10.1]"
      ]
     },
     "execution_count": 40,
     "metadata": {},
     "output_type": "execute_result"
    }
   ],
   "source": [
    "b.sort(reverse=True)\n",
    "b"
   ]
  },
  {
   "cell_type": "code",
   "execution_count": 46,
   "id": "eee57bbe",
   "metadata": {},
   "outputs": [
    {
     "ename": "TypeError",
     "evalue": "'<' not supported between instances of 'complex' and 'complex'",
     "output_type": "error",
     "traceback": [
      "\u001b[1;31m---------------------------------------------------------------------------\u001b[0m",
      "\u001b[1;31mTypeError\u001b[0m                                 Traceback (most recent call last)",
      "Cell \u001b[1;32mIn[46], line 1\u001b[0m\n\u001b[1;32m----> 1\u001b[0m d\u001b[38;5;241m.\u001b[39msort( ) \u001b[38;5;66;03m#complex and anything wit complex we cant sort\u001b[39;00m\n\u001b[0;32m      2\u001b[0m \u001b[38;5;28mprint\u001b[39m(d)\n",
      "\u001b[1;31mTypeError\u001b[0m: '<' not supported between instances of 'complex' and 'complex'"
     ]
    }
   ],
   "source": [
    "d.sort( ) #complex and anything with complex we cant sort\n",
    "print(d)"
   ]
  },
  {
   "cell_type": "code",
   "execution_count": 43,
   "id": "db05d475",
   "metadata": {},
   "outputs": [
    {
     "name": "stdout",
     "output_type": "stream",
     "text": [
      "['deepthi', 'shravani', 'venngal', 'venu']\n"
     ]
    }
   ],
   "source": [
    "e.sort( )\n",
    "print(e)"
   ]
  },
  {
   "cell_type": "code",
   "execution_count": 45,
   "id": "42585091",
   "metadata": {},
   "outputs": [
    {
     "ename": "TypeError",
     "evalue": "'<' not supported between instances of 'complex' and 'float'",
     "output_type": "error",
     "traceback": [
      "\u001b[1;31m---------------------------------------------------------------------------\u001b[0m",
      "\u001b[1;31mTypeError\u001b[0m                                 Traceback (most recent call last)",
      "Cell \u001b[1;32mIn[45], line 1\u001b[0m\n\u001b[1;32m----> 1\u001b[0m g\u001b[38;5;241m.\u001b[39msort( )\n\u001b[0;32m      2\u001b[0m \u001b[38;5;28mprint\u001b[39m(g)\n",
      "\u001b[1;31mTypeError\u001b[0m: '<' not supported between instances of 'complex' and 'float'"
     ]
    }
   ],
   "source": [
    "g.sort( )\n",
    "print(g)"
   ]
  },
  {
   "cell_type": "markdown",
   "id": "54e6cdec",
   "metadata": {},
   "source": [
    "# count\n",
    "*  count() method returns the count of how many times a given object occurs in a List\n"
   ]
  },
  {
   "cell_type": "code",
   "execution_count": 12,
   "id": "4225d4b5",
   "metadata": {},
   "outputs": [
    {
     "name": "stdout",
     "output_type": "stream",
     "text": [
      "Help on method_descriptor:\n",
      "\n",
      "count(self, value, /)\n",
      "    Return number of occurrences of value.\n",
      "\n"
     ]
    }
   ],
   "source": [
    "help(list.count)"
   ]
  },
  {
   "cell_type": "code",
   "execution_count": 53,
   "id": "7a919eee",
   "metadata": {},
   "outputs": [
    {
     "data": {
      "text/plain": [
       "(2, 5)"
      ]
     },
     "execution_count": 53,
     "metadata": {},
     "output_type": "execute_result"
    }
   ],
   "source": [
    "#count\n",
    "z=[1,2,3,1,2,3] #count is how times a object is repeating # index(3,3) is (starting index,findthe index)\n",
    "z.count(1),z.index(3,3)"
   ]
  },
  {
   "cell_type": "markdown",
   "id": "aebdbcff",
   "metadata": {},
   "source": [
    "# clear\n",
    "* The clear() method removes all the elements from a list"
   ]
  },
  {
   "cell_type": "code",
   "execution_count": 13,
   "id": "3010d8e3",
   "metadata": {},
   "outputs": [
    {
     "name": "stdout",
     "output_type": "stream",
     "text": [
      "Help on method_descriptor:\n",
      "\n",
      "clear(self, /)\n",
      "    Remove all items from list.\n",
      "\n"
     ]
    }
   ],
   "source": [
    "help(list.clear)"
   ]
  },
  {
   "cell_type": "code",
   "execution_count": 58,
   "id": "40e6f77e",
   "metadata": {},
   "outputs": [
    {
     "data": {
      "text/plain": [
       "[]"
      ]
     },
     "execution_count": 58,
     "metadata": {},
     "output_type": "execute_result"
    }
   ],
   "source": [
    "z.clear()\n",
    "z"
   ]
  },
  {
   "cell_type": "code",
   "execution_count": 59,
   "id": "c3f32c4c",
   "metadata": {},
   "outputs": [
    {
     "name": "stdout",
     "output_type": "stream",
     "text": [
      "[[5, 6], 5, 'hello', ['x', 'y', 'z'], 'str', False, [50, 55], 'hi', (3-3j), 2.2, -1, 1]\n",
      "[]\n"
     ]
    }
   ],
   "source": [
    "print(x)\n",
    "x.clear()\n",
    "print(x)"
   ]
  }
 ],
 "metadata": {
  "kernelspec": {
   "display_name": "Python 3 (ipykernel)",
   "language": "python",
   "name": "python3"
  },
  "language_info": {
   "codemirror_mode": {
    "name": "ipython",
    "version": 3
   },
   "file_extension": ".py",
   "mimetype": "text/x-python",
   "name": "python",
   "nbconvert_exporter": "python",
   "pygments_lexer": "ipython3",
   "version": "3.11.3"
  }
 },
 "nbformat": 4,
 "nbformat_minor": 5
}
