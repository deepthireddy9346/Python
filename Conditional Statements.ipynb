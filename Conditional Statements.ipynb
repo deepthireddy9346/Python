{
 "cells": [
  {
   "cell_type": "markdown",
   "id": "9c6fe6db",
   "metadata": {},
   "source": [
    "# Conditional statements"
   ]
  },
  {
   "cell_type": "markdown",
   "id": "4f4c30c6",
   "metadata": {},
   "source": [
    "# if \n",
    "* if keyword is used to validate the condition expression (c.e) and executes the subsequent blocks of the statement.\n",
    "![](https://th.bing.com/th/id/R.4ef58265beb9d5957f95e3fe12b70cc5?rik=OO6EYxMINy8B%2bA&riu=http%3a%2f%2fwww.trytoprogram.com%2fimages%2fif.jpeg&ehk=msvBWfzk6G0P6VybVmPmyhKBvpW%2b%2bfSuI4RB6FoSXqk%3d&risl=&pid=ImgRaw&r=0&sres=1&sresct=1)"
   ]
  },
  {
   "cell_type": "code",
   "execution_count": 1,
   "id": "f399e8e7",
   "metadata": {},
   "outputs": [
    {
     "name": "stdout",
     "output_type": "stream",
     "text": [
      "enter a value of a: 3\n",
      "enter a value of b: 5\n"
     ]
    }
   ],
   "source": [
    "a,b=int(input('enter a value of a: ')),int(input('enter a value of b: '))\n",
    "if a>b:\n",
    "    \n",
    "    print(f'{a} is greater than {b}')"
   ]
  },
  {
   "cell_type": "code",
   "execution_count": 2,
   "id": "f91e7abe",
   "metadata": {},
   "outputs": [
    {
     "name": "stdout",
     "output_type": "stream",
     "text": [
      "enter a value of a: 3\n",
      "enter a value of b: 7\n"
     ]
    }
   ],
   "source": [
    "a,b=int(input('enter a value of a: ')),int(input('enter a value of b: '))\n",
    "if(a>b) and (a%2==0):\n",
    "    \n",
    "\n",
    "    print(f'{a} is greater than {b}',  f'{a} is even number')"
   ]
  },
  {
   "cell_type": "code",
   "execution_count": 3,
   "id": "a9de9fa1",
   "metadata": {},
   "outputs": [
    {
     "name": "stdout",
     "output_type": "stream",
     "text": [
      "enter a value of a: 2\n",
      "enter a value of b: 9\n",
      "2 is greater than 9 2 is even number\n"
     ]
    }
   ],
   "source": [
    "a,b=int(input('enter a value of a: ')),int(input('enter a value of b: '))\n",
    "if(a>b) or (a%2==0):\n",
    "    \n",
    "\n",
    "    print(f'{a} is greater than {b}',  f'{a} is even number')"
   ]
  },
  {
   "cell_type": "code",
   "execution_count": 4,
   "id": "3e17c731",
   "metadata": {},
   "outputs": [
    {
     "name": "stdout",
     "output_type": "stream",
     "text": [
      "enter a number:5\n"
     ]
    }
   ],
   "source": [
    "x=[1,2,3,4,5]\n",
    "a=int(input('enter a number:'))\n",
    "if a  not in x:\n",
    "    \n",
    "    print(f'{a} is not in list {x}')"
   ]
  },
  {
   "cell_type": "code",
   "execution_count": 5,
   "id": "e4a65d28",
   "metadata": {},
   "outputs": [
    {
     "name": "stdout",
     "output_type": "stream",
     "text": [
      "enter a number:6\n"
     ]
    }
   ],
   "source": [
    "y=[1,2,3,4,5,7]\n",
    "b=int(input('enter a number:'))\n",
    "if b in y:\n",
    "    \n",
    "    \n",
    "    print(f'{b} is in list {y}')"
   ]
  },
  {
   "cell_type": "code",
   "execution_count": 6,
   "id": "2d3d9b7a",
   "metadata": {},
   "outputs": [
    {
     "name": "stdout",
     "output_type": "stream",
     "text": [
      "enter a number:5\n",
      "statements outside the if block\n"
     ]
    }
   ],
   "source": [
    "a=int(input('enter a number:'))\n",
    "if a%2==0:\n",
    "    print('we are inside the if block')\n",
    "    print(f'{a} is even')\n",
    "print('statements outside the if block')    "
   ]
  },
  {
   "cell_type": "code",
   "execution_count": 7,
   "id": "3de2f1d8",
   "metadata": {},
   "outputs": [
    {
     "name": "stdout",
     "output_type": "stream",
     "text": [
      "email id can only have alpha and num ,no special chars!!!\n",
      "enter an email id to create: 8\n",
      "8 is now created\n"
     ]
    }
   ],
   "source": [
    "print('email id can only have alpha and num ,no special chars!!!')\n",
    "a=input('enter an email id to create: ')\n",
    "if a.isalnum():\n",
    "    print(f'{a} is now created')"
   ]
  },
  {
   "cell_type": "code",
   "execution_count": 8,
   "id": "214cd2e0",
   "metadata": {},
   "outputs": [
    {
     "name": "stdout",
     "output_type": "stream",
     "text": [
      "email id can only have alpha and num ,no special chars!!!\n",
      "enter an email id to create: sdffgh\n",
      "sdffgh is now created\n"
     ]
    }
   ],
   "source": [
    "print('email id can only have alpha and num ,no special chars!!!')\n",
    "a=input('enter an email id to create: ')\n",
    "if a.isalnum():\n",
    "    print(f'{a} is now created')"
   ]
  },
  {
   "cell_type": "markdown",
   "id": "290717f5",
   "metadata": {},
   "source": [
    "# if else"
   ]
  },
  {
   "cell_type": "code",
   "execution_count": 9,
   "id": "7b6efbb1",
   "metadata": {},
   "outputs": [
    {
     "name": "stdout",
     "output_type": "stream",
     "text": [
      "enter a value of a: 4\n",
      "enter a value of b: 8\n",
      "4 is not greater than 8\n"
     ]
    }
   ],
   "source": [
    "a,b=int(input('enter a value of a: ')),int(input('enter a value of b: '))\n",
    "if a>b:\n",
    "    \n",
    "    print(f'{a} is greater than {b}')\n",
    "else :\n",
    "    \n",
    "    print(f'{a} is not greater than {b}')"
   ]
  },
  {
   "cell_type": "code",
   "execution_count": 10,
   "id": "0f7e3a9e",
   "metadata": {},
   "outputs": [
    {
     "name": "stdout",
     "output_type": "stream",
     "text": [
      "enter a value of a: 6\n",
      "enter a value of b: 6\n",
      "6 is  less than 6 6 is odd number\n"
     ]
    }
   ],
   "source": [
    "a,b=int(input('enter a value of a: ')),int(input('enter a value of b: '))\n",
    "if(a>b) and (a%2==0):\n",
    "    \n",
    "\n",
    "    print(f'{a} is greater than {b}',  f'{a} is even number')\n",
    "else:\n",
    "    print(f'{a} is  less than {b}',  f'{a} is odd number')\n",
    "        "
   ]
  },
  {
   "cell_type": "code",
   "execution_count": 11,
   "id": "fc1a3aa7",
   "metadata": {},
   "outputs": [
    {
     "name": "stdout",
     "output_type": "stream",
     "text": [
      "enter a number:5\n",
      "5 is  in list [1, 2, 3, 4, 5]\n"
     ]
    }
   ],
   "source": [
    "x=[1,2,3,4,5]\n",
    "a=int(input('enter a number:'))\n",
    "if a  not in x:\n",
    "    \n",
    "    print(f'{a} is not in list {x}')\n",
    "else:\n",
    "    print(f'{a} is  in list {x}')"
   ]
  },
  {
   "cell_type": "code",
   "execution_count": 12,
   "id": "c283b68d",
   "metadata": {},
   "outputs": [
    {
     "name": "stdout",
     "output_type": "stream",
     "text": [
      "enter a value of a: 8\n",
      "8 is a even\n"
     ]
    }
   ],
   "source": [
    "a=int(input('enter a value of a: '))\n",
    "if (a%2==0):\n",
    "    print(f'{a} is a even')\n",
    "else:\n",
    "     print(f'{a} is a odd')"
   ]
  },
  {
   "cell_type": "code",
   "execution_count": 13,
   "id": "cc904e5a",
   "metadata": {},
   "outputs": [
    {
     "name": "stdout",
     "output_type": "stream",
     "text": [
      "enter a value of a: 7\n",
      "7 is a positive\n"
     ]
    }
   ],
   "source": [
    "a=int(input('enter a value of a: '))\n",
    "if (a>=0):\n",
    "    print(f'{a} is a positive')\n",
    "else:\n",
    "     print(f'{a} is a negative')"
   ]
  },
  {
   "cell_type": "code",
   "execution_count": 14,
   "id": "57227d57",
   "metadata": {},
   "outputs": [
    {
     "name": "stdout",
     "output_type": "stream",
     "text": [
      "marks scored by the student: 94\n",
      "threshold: 28\n",
      "94 is passed\n"
     ]
    }
   ],
   "source": [
    "a,b=int(input('marks scored by the student: ')),int(input('threshold: '))\n",
    "if(a>=b):\n",
    "    print(f'{a} is passed')\n",
    "else:\n",
    "      print(f'{a} is failed')     \n",
    "          \n",
    "          "
   ]
  },
  {
   "cell_type": "markdown",
   "id": "f1d8adea",
   "metadata": {},
   "source": [
    "## if-elif-else"
   ]
  },
  {
   "cell_type": "code",
   "execution_count": 15,
   "id": "326525a2",
   "metadata": {},
   "outputs": [
    {
     "name": "stdout",
     "output_type": "stream",
     "text": [
      "enter a value of a: 5\n",
      "enter a value of b: 6\n",
      "5 is less than 6\n"
     ]
    }
   ],
   "source": [
    "a,b=int(input('enter a value of a: ')),int(input('enter a value of b: '))\n",
    "if(a>b):\n",
    "    print(f'{a} is greater than {b}')\n",
    "elif a<b:\n",
    "    print(f'{a} is less than {b}')\n",
    "else:\n",
    "     print(f'{a} is equal to {b}')\n",
    "        \n",
    "          \n",
    "\n",
    "          "
   ]
  },
  {
   "cell_type": "code",
   "execution_count": 16,
   "id": "2b7e5ba8",
   "metadata": {},
   "outputs": [
    {
     "name": "stdout",
     "output_type": "stream",
     "text": [
      "enter the marks :60\n",
      "firstclass\n"
     ]
    }
   ],
   "source": [
    "marks=int(input('enter the marks :'))\n",
    "\n",
    "if (marks>=85):\n",
    "    print('distinction')\n",
    "elif (marks<=60):\n",
    "    print('firstclass')\n",
    "elif (marks<=40):\n",
    "    print('second class')\n",
    "else:\n",
    "     print('fail')"
   ]
  },
  {
   "cell_type": "markdown",
   "id": "daca3c21",
   "metadata": {},
   "source": [
    "1)write a python code which accepts a three or more digits number and prints :\n",
    " \n",
    " 'A' if the last two digits of the number is divisible by 7. \n",
    "\n",
    " 'B' if the last two digits of number is divisible by 3.\n",
    "\n",
    "'AB' if the last two digits of the number is divisible by bothe 7 & 3.\n",
    "\n",
    "'Z' if last two digits of number is neither divisible by 7 nor 3."
   ]
  },
  {
   "cell_type": "code",
   "execution_count": 17,
   "id": "b76791ea",
   "metadata": {},
   "outputs": [
    {
     "name": "stdout",
     "output_type": "stream",
     "text": [
      "enter a number of three or more digits :21\n",
      "A\n"
     ]
    }
   ],
   "source": [
    "number=int(input('enter a number of three or more digits :'))\n",
    "if(number%7==0):\n",
    "    print('A')\n",
    "elif(number%3==0):\n",
    "    print('B')\n",
    "elif(number%7==0) and (number%3==0):\n",
    "    print('AB')\n",
    "else:\n",
    "    print('Z')\n",
    "    \n",
    "    \n"
   ]
  },
  {
   "cell_type": "code",
   "execution_count": 18,
   "id": "40e2d2ef",
   "metadata": {},
   "outputs": [
    {
     "name": "stdout",
     "output_type": "stream",
     "text": [
      "enter a number of three or more digits :213\n",
      "Z\n"
     ]
    }
   ],
   "source": [
    "num=input('enter a number of three or more digits :')\n",
    "if(len(num)>=3) and (num.isdigit()):\n",
    "    \n",
    "    if(int(num[-2:])%3==0) and (int(num[-2:])%7==0):\n",
    "        print('AB')\n",
    "    elif(int(num[-2:])%3==0):\n",
    "        print('A')\n",
    "    elif(int(num[-2:])%7==0):\n",
    "        print('B')\n",
    "        \n",
    "    else:\n",
    "        print('Z')\n",
    "else:\n",
    "    print('Try entering a three digit or greater than three digit positive integer')"
   ]
  },
  {
   "cell_type": "code",
   "execution_count": 19,
   "id": "d2370333",
   "metadata": {},
   "outputs": [
    {
     "name": "stdout",
     "output_type": "stream",
     "text": [
      "enter an alphabet :e\n",
      "it is a vowel\n"
     ]
    }
   ],
   "source": [
    "a=input('enter an alphabet :')\n",
    "vowels=['a','e','i','o','u','A','E','I','O','U']\n",
    "if a in vowels:\n",
    "    print('it is a vowel')\n",
    "else:\n",
    "    print('not a vowel')\n"
   ]
  },
  {
   "cell_type": "code",
   "execution_count": 20,
   "id": "4907385e",
   "metadata": {},
   "outputs": [
    {
     "name": "stdout",
     "output_type": "stream",
     "text": [
      "enter an alphabet :\n",
      "enter a single alpha\n"
     ]
    }
   ],
   "source": [
    "x=input('enter an alphabet :')\n",
    "if len(x)==1 and x.isalpha():\n",
    "    if x in ['a','e','i','o','u']:\n",
    "        print('vowel')\n",
    "    else:\n",
    "        print('not a vowel')\n",
    "else:\n",
    "    print('enter a single alpha')\n",
    "    "
   ]
  },
  {
   "cell_type": "code",
   "execution_count": 21,
   "id": "a53df531",
   "metadata": {},
   "outputs": [
    {
     "name": "stdout",
     "output_type": "stream",
     "text": [
      "enter length of side-1: 5\n",
      "enter length of side-2: 5\n",
      "enter length of side-3 : 5\n",
      "enter length of side-4: 5\n",
      "square\n"
     ]
    }
   ],
   "source": [
    "a,b,c,d=int(input('enter length of side-1: ')),int(input('enter length of side-2: ')),int(input('enter length of side-3 : ')),int(input('enter length of side-4: '))\n",
    "if a==b==c==d:\n",
    "    print('square')\n",
    "elif((a==b)and(c==d)or(a==c)and(b==d)or(a==d)and(c==b)):\n",
    "    print('rectangle')\n",
    "else:\n",
    "    print('irregular quad')\n"
   ]
  },
  {
   "cell_type": "code",
   "execution_count": 22,
   "id": "277d82d6",
   "metadata": {},
   "outputs": [
    {
     "name": "stdout",
     "output_type": "stream",
     "text": [
      "Enter the measurement of 0 side4\n",
      "Enter the measurement of 1 side6\n",
      "Enter the measurement of 2 side7\n",
      "Enter the measurement of 3 side8\n",
      "Irregular Quadrilateral\n"
     ]
    }
   ],
   "source": [
    "x=[]\n",
    "for i in range(0,4):\n",
    "    x.append(int(input(f'Enter the measurement of {i} side')))\n",
    "if (x[0] == x[1] == x[2]) or (x[2] == x[3] == x[1]) or (x[3] == x[1] == x[0]) or (x[0] == x[2] == x[3]):\n",
    "    print('Irregular Quadrilateral')\n",
    "else:\n",
    "    x = set(x)\n",
    "    if len(x) == 1:\n",
    "        print(\"It is a square\")\n",
    "    elif len(x) == 2:\n",
    "        print(\"It is a rectangle\")\n",
    "    else:\n",
    "        print('Irregular Quadrilateral')"
   ]
  },
  {
   "cell_type": "code",
   "execution_count": 23,
   "id": "ebf67a16",
   "metadata": {},
   "outputs": [
    {
     "name": "stdout",
     "output_type": "stream",
     "text": [
      "enter the three sides of a triangla sep by,(i;5,5,5): 5\n"
     ]
    }
   ],
   "source": [
    "x= input('enter the three sides of a triangla sep by,(i;5,5,5): ').split(',')\n",
    "if (len(x)==3):\n",
    "    x=set(x)\n",
    "    if len(x)==1:\n",
    "        print('equilateral')\n",
    "    elif len(x)==2:\n",
    "        print('isoc')\n",
    "    else:\n",
    "        print('scalen')\n",
    "        \n"
   ]
  },
  {
   "cell_type": "code",
   "execution_count": 26,
   "id": "5f2f392a",
   "metadata": {},
   "outputs": [
    {
     "name": "stdout",
     "output_type": "stream",
     "text": [
      "enter a num: 6\n",
      "enter a alpha e\n",
      "even and vowel\n"
     ]
    }
   ],
   "source": [
    "a,b=int(input('enter a num: ')),str(input('enter a alpha '))\n",
    "#if ((len(a,b)==1 and a.isdigit()) , (len(b)==1 and b.isalpha())):\n",
    "if(a%2==0)and(b in ['a','e','i','o','u']):\n",
    "    print('even and vowel')\n",
    "elif(a%2==0)or(b in ['a','e','i','o','u']): \n",
    "    print(\"odd and vowel \")\n",
    "\n",
    "            \n",
    "            \n",
    "        \n",
    "        \n",
    "    "
   ]
  },
  {
   "cell_type": "code",
   "execution_count": 27,
   "id": "776aa6d1",
   "metadata": {},
   "outputs": [],
   "source": [
    "import time\n",
    "from time import time"
   ]
  },
  {
   "cell_type": "code",
   "execution_count": 28,
   "id": "9723d4ec",
   "metadata": {},
   "outputs": [
    {
     "name": "stdout",
     "output_type": "stream",
     "text": [
      "enter a num: 7\n",
      "enter a word starting with an alphabet: e\n",
      "0.0009961128234863281\n"
     ]
    }
   ],
   "source": [
    "a= int (input('enter a num: '))\n",
    "b = input('enter a word starting with an alphabet: ').lower ()\n",
    "start = time()\n",
    "if a%2==0:\n",
    "    if b[0] in 'aeiou':\n",
    "        print('even and vowel')\n",
    "    elif b[0] not in 'aeiou' :\n",
    "        print('even and not vowel')\n",
    "end = time()\n",
    "print(end - start)"
   ]
  },
  {
   "cell_type": "markdown",
   "id": "976aeb92",
   "metadata": {},
   "source": [
    "# while loop\n",
    "* While Loop is used to execute a block of statements repeatedly until a given condition is satisfied. And when the condition becomes false, the line immediately after the loop in the program is executed.\n",
    "\n",
    "* Syntax: \n",
    "\n",
    "  while expression:\n",
    "    statement(s)\n",
    "    \n",
    "* While loop falls under the category of indefinite iteration. Indefinite iteration means that the number of times the loop is executed isn’t specified explicitly in advance. \n",
    "\n",
    "![](https://media.geeksforgeeks.org/wp-content/uploads/20191101170515/while-loop.jpg)"
   ]
  },
  {
   "cell_type": "code",
   "execution_count": null,
   "id": "6531e8e2",
   "metadata": {},
   "outputs": [],
   "source": [
    "x=5\n",
    "while x<10:\n",
    "    print(x)"
   ]
  },
  {
   "cell_type": "code",
   "execution_count": null,
   "id": "fbaf6467",
   "metadata": {},
   "outputs": [],
   "source": [
    "x=5\n",
    "if(x<10):\n",
    "    print(x)\n",
    "    "
   ]
  },
  {
   "cell_type": "code",
   "execution_count": null,
   "id": "8ed54f33",
   "metadata": {},
   "outputs": [],
   "source": [
    "x=5\n",
    "while(x<10):\n",
    "    print('hi')\n",
    "print('zzz')"
   ]
  },
  {
   "cell_type": "code",
   "execution_count": null,
   "id": "6415a57f",
   "metadata": {},
   "outputs": [],
   "source": [
    "x=1\n",
    "while x<11:\n",
    "    print(x)\n",
    "    x+=1    "
   ]
  },
  {
   "cell_type": "code",
   "execution_count": null,
   "id": "5c126c78",
   "metadata": {},
   "outputs": [],
   "source": [
    "x=10\n",
    "while x<0:\n",
    "    print(x)\n",
    "    x-=1    "
   ]
  },
  {
   "cell_type": "code",
   "execution_count": 25,
   "id": "a89f3f6a",
   "metadata": {},
   "outputs": [
    {
     "name": "stdout",
     "output_type": "stream",
     "text": [
      "1\n",
      "3\n",
      "5\n",
      "7\n",
      "9\n",
      "11\n",
      "13\n",
      "15\n",
      "17\n",
      "19\n"
     ]
    }
   ],
   "source": [
    "x=1\n",
    "count=0\n",
    "if x%2==0\n",
    "    x+=1\n",
    "while count<10:\n",
    "    print(x)\n",
    "    x+=2\n",
    "    count+=1\n",
    "\n",
    "    "
   ]
  },
  {
   "cell_type": "code",
   "execution_count": 26,
   "id": "cc83f75c",
   "metadata": {},
   "outputs": [
    {
     "name": "stdout",
     "output_type": "stream",
     "text": [
      "enter the starting num90\n",
      "how many odd num to be printed ?10\n",
      "91\n",
      "93\n",
      "95\n",
      "97\n",
      "99\n",
      "101\n",
      "103\n",
      "105\n",
      "107\n",
      "109\n"
     ]
    }
   ],
   "source": [
    "x=int(input('enter the starting num'))\n",
    "n=int(input('how many odd num to be printed ?'))\n",
    "count=0\n",
    "if x%2==0:\n",
    "    x+=1\n",
    "while count<n:\n",
    "    print(x)\n",
    "    x+=2\n",
    "    count+=1\n"
   ]
  },
  {
   "cell_type": "code",
   "execution_count": 45,
   "id": "49bd72f1",
   "metadata": {},
   "outputs": [
    {
     "name": "stdout",
     "output_type": "stream",
     "text": [
      "enter a stringstring\n",
      "sg tn ri ir nt gs "
     ]
    }
   ],
   "source": [
    "x=input('enter a string')\n",
    "if len(x)%2!=0:\n",
    "    x=x+''\n",
    "i=0\n",
    "while i < len(x):\n",
    "    print(x[i]+x[-(i+1)],end=' ')\n",
    "    i+=1"
   ]
  },
  {
   "cell_type": "code",
   "execution_count": 46,
   "id": "f9fe88e9",
   "metadata": {},
   "outputs": [
    {
     "name": "stdout",
     "output_type": "stream",
     "text": [
      "enter a stringstring\n",
      "sg tn ri "
     ]
    }
   ],
   "source": [
    "x=input('enter a string')\n",
    "if len(x)%2!=0:\n",
    "    x=x+''\n",
    "i=0\n",
    "while i < len(x)/2:\n",
    "    print(x[i]+x[-(i+1)],end=' ')\n",
    "    i+=1"
   ]
  },
  {
   "cell_type": "code",
   "execution_count": 50,
   "id": "1efd415d",
   "metadata": {},
   "outputs": [
    {
     "name": "stdout",
     "output_type": "stream",
     "text": [
      "5\n",
      "5\n",
      "3125\n"
     ]
    }
   ],
   "source": [
    "base, exp =int(input ()), int(input ())\n",
    "result = base\n",
    "i=1\n",
    "while i<exp:\n",
    "    result*=base\n",
    "    i+=1\n",
    "print(result)"
   ]
  }
 ],
 "metadata": {
  "kernelspec": {
   "display_name": "Python 3 (ipykernel)",
   "language": "python",
   "name": "python3"
  },
  "language_info": {
   "codemirror_mode": {
    "name": "ipython",
    "version": 3
   },
   "file_extension": ".py",
   "mimetype": "text/x-python",
   "name": "python",
   "nbconvert_exporter": "python",
   "pygments_lexer": "ipython3",
   "version": "3.11.3"
  }
 },
 "nbformat": 4,
 "nbformat_minor": 5
}
